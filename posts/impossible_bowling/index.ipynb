{
 "cells": [
  {
   "cell_type": "raw",
   "id": "4fa22b6a-26a1-43e9-a67f-a5a2d491ca6b",
   "metadata": {},
   "source": [
    "---\n",
    "title: \"Impossible bowling\"\n",
    "description: \"Looking for impossible bowling games.\"\n",
    "author: \"Allan Farrell\"\n",
    "date: \"11/26/2023\"\n",
    "categories: [python, bowling]\n",
    "title-block-banner: url(./mandell-smock-unsplash.jpg)\n",
    "reference-location: margin\n",
    "---"
   ]
  },
  {
   "attachments": {
    "31ff655b-8ba9-40cd-a9af-7ff1538b1345.png": {
     "image/png": "[encoded data removed]"
    }
   },
   "cell_type": "markdown",
   "id": "5fe67f81-f378-4258-a005-1914e099b559",
   "metadata": {},
   "source": [
    "While bowling, this week, an interesting question came up: is it possible to get every score from 1 to 450 in a game of five pin bowling? Or, to flip it around, is there a score that you can never get no matter how fancy your bowling? The answer is not immediately obvious!\n",
    "\n",
    "## The rules of five pin bowling\n",
    "\n",
    "[Five pin bowling](https://en.wikipedia.org/wiki/Five-pin_bowling) uses five pins but, unlike ten pin bowling, the pins are worth different amounts. Notably no pin is worth 1, and so a score of *1* is the first impossible score.\n",
    "\n",
    "::: {#fig-scoring}\n",
    "![](attachment:31ff655b-8ba9-40cd-a9af-7ff1538b1345.png)\n",
    "\n",
    "The points value of each pin in five-pin bowling.\n",
    ":::\n",
    "\n",
    "Like ten pin bowling, if a strike or a spare is recorded in a given frame then the scores of subsequent ball(s) are counted in that frame, as well as the frame in which they were thrown. So, for example, if I throw a strike in the first frame I don't actually know what to write on the score sheet for the first frame until the second, and possibly third, frames have been thrown. I know it is *at least* 15, but until I throw the next ball it could be anything up to 45. This was what initially gave me pause. It adds a layer of complexity since the possible scores for a given frame depend on what happens next.\n",
    "\n",
    "By symmetry, though, this way of scoring is equivalent to every strike and spare adding a *multiplier* to the next frame, and each frame is just scored counting whatever the pinfall is and applying the multiplier (no looking backwards). So, if I throw a strike in the first frame, then I record a *15* for the first frame and *double count* the next two balls. If I have thrown two strikes in a row then I *triple count* the first subsequent ball and *double count* the next one. This is a weird way of managing a score sheet, for bowlers, but makes it a lot easier to reason about the possible scores, since you don't have to constantly be looking back two or three frames. This *passing forward* score sheet looks different to a regular one: The maximum score for the first frame is now 15, and for the second frame 30, and in the tenth frame it is possible to score *90* points. On a conventional score sheet the max score in any frame is 45.\n",
    "\n",
    "## Trying everything\n",
    "\n",
    "While hanging out at the lanes a few obvious impossible scores got thrown out: a *1*, obviously, but also a *449* -- there's no way to throw a 14 with the last ball in the tenth frame. But the question still lingered: are there any other gaps? It was not immediately obvious, to my bowling team, how you would figure that out without checking.\n",
    "\n",
    "Maybe we can brute-force this and try every conceivable bowling game? However there are *a lot* of possible bowling games. As a first pass, there are thirty balls thrown in a game and each ball has *up to* fourteen possible pinfall scores (0 through 15 excluding 1 and 14). This would give *14<sup>30</sup>* possible bowling games. Even if it took a single nanosecond to evaluate each game that would take longer than the current age of the universe to work through.\n",
    "\n",
    "But that's not a great upper bound, it doesn't take into account the rules of bowling: you can only knock down up to five pins in any given frame, for example if the first ball scores a *13* then the second ball doesn't get to choose from fourteen possibilities, it gets to chose from two: 0 and 2. Still, it is going to be a large number. The vast majority of those games are going to be completely redundant, since we are only looking for scores from 2 to 450."
   ]
  },
  {
   "cell_type": "markdown",
   "id": "a441e946-ce37-46cb-8126-d07a3fb43ba7",
   "metadata": {},
   "source": [
    "## Nothing fancy\n",
    "\n",
    "The easiest case to look at is when one never throws a strike or spare. In this case the possible scores for each frame are the same: just what you can get from knocking down any subset of the pins. This happens to be anything from 0 to 15 except *1* and *14*. That's easy enough to see just by inspection.\n",
    "\n",
    "This also leads to a (kinda loose) argument for why you should be able to get anything from 0 to 150 except *1* and *149*:\n",
    "\n",
    "Suppose you are playing game with *n* frames and your goal is a score $x \\le 15 n$.\n",
    "\n",
    "If $x \\not \\equiv 1 (\\textrm{mod} 15)$ and $x \\not \\equiv 14 (\\textrm{mod} 15)$ then you can always get from a multiple of 15 to the final score in one frame.\n",
    "\n",
    "If $x \\equiv 1 (\\textrm{mod} 15)$ or $x \\equiv 14 (\\textrm{mod} 15)$ then you can't get from a multiple of 15 to the final score in one frame, this is because you cannot score *1* or *14* in one frame. You can score 1 more than a multiple of 15 if you have two frames remaining: score a *13* in the first and a *2* in the next. Similarly you can score 1 less than a multiple of 15 if you have two frames remaining: score a *7* in the first frame and a *7* in the second.\n",
    "\n",
    "Since for any *x* such that $1 \\lt x \\le 15 (n-1)$ there are $\\ge 2$ frames remaining, all of those scores can thus be achieved. \n",
    "\n",
    "What remains is the *x* such that $15(n-1) \\lt x \\lt 15 n$ and $x \\equiv 14 (\\textrm{mod} 15)$, this single score is not achievable in a game with no strikes and spares.\n",
    "\n",
    "Which is all to say there are only two impossible scores: *1* and *15n -1* or *149* in a standard ten frame game.\n",
    "\n",
    "I suspect that, if you wanted to put the work in, you could extend this argument to include spares and strikes, with all of the complications around how the 10th frame is scored. But an alternative is to just look through all possible scores and try and find a game that achieves it, using this general approach as a guide.\n",
    "\n",
    "This is pretty easy to do when only looking at the case where there are no strikes or spares: I generate a list of possible scores for a single frame (a possible move I can take towards my goal), sorted largest to smallest."
   ]
  },
  {
   "cell_type": "code",
   "execution_count": 1,
   "id": "85febf74-4afa-401a-acc8-6f749c5052cf",
   "metadata": {},
   "outputs": [],
   "source": [
    "basic_moves = [ n for n in range(16) if n not in [1,14] ]\n",
    "basic_moves.reverse()"
   ]
  },
  {
   "cell_type": "markdown",
   "id": "adfc226b-e077-44b9-baca-13b1d94c8377",
   "metadata": {},
   "source": [
    "Then I define a function that recursively walks through the tree of possible games, always picking the largest viable move at each frame. If it finds an answer it returns it (in reverse order), if it exhausts the possible moves then it returns an empty list.[^1]\n",
    "\n",
    "[^1]: This code stops once it has found a single valid solution, it could be extended very easily to find *every* valid solution, however the space of possible games is *huge*."
   ]
  },
  {
   "cell_type": "code",
   "execution_count": 2,
   "id": "87d5e760-5217-453f-be96-92aa2bece4ab",
   "metadata": {},
   "outputs": [],
   "source": [
    "def make_moves(cur_frame, cur_score, max_frame, target, moves=basic_moves):\n",
    "    if cur_frame == max_frame:\n",
    "        return [0] if cur_score == target else []\n",
    "    else:\n",
    "        next_frame = cur_frame + 1\n",
    "        mn, mx = min(moves), max(moves)\n",
    "        n = max_frame - next_frame\n",
    "        r = target - cur_score\n",
    "        for move in filter(lambda x: n*mn <= (r-x) <= n*mx, moves):\n",
    "            new_score = cur_score + move\n",
    "            advance = make_moves(next_frame, new_score, max_frame, target, moves)\n",
    "            if len(advance) > 0:\n",
    "                advance.append(move)\n",
    "                return advance\n",
    "        else:\n",
    "            return []"
   ]
  },
  {
   "cell_type": "markdown",
   "id": "5a727fe4-425f-4b2b-a958-6796aa88b2ce",
   "metadata": {},
   "source": [
    "Looping through all the scores: $0 \\le score \\le 150$ yields the impossible to bowl scores."
   ]
  },
  {
   "cell_type": "code",
   "execution_count": 3,
   "id": "a48cbae2-0bea-48bc-aa74-170005390f05",
   "metadata": {},
   "outputs": [
    {
     "name": "stdout",
     "output_type": "stream",
     "text": [
      "Score 1 is not possible\n",
      "Score 149 is not possible\n"
     ]
    }
   ],
   "source": [
    "for score in range(151):\n",
    "    game = make_moves(0,0,10,score)\n",
    "    if len(game) == 0:\n",
    "        print(\"Score {0} is not possible\".format(score))\n"
   ]
  },
  {
   "cell_type": "markdown",
   "id": "193c6cf5-51e2-4f68-8315-5c70b2a7fb66",
   "metadata": {},
   "source": [
    "Which is what I expected, good news as I will be building off this general strategy for the cases where strikes and spares are included."
   ]
  },
  {
   "cell_type": "markdown",
   "id": "3e99cf68-5d90-4f63-af64-57757ed0b36a",
   "metadata": {},
   "source": [
    "### Detour: what about with no gutters?\n",
    "\n",
    "Another question that comes to mind is: what if you were restricted to always hitting a pin, no gutter balls? Now you can't get a score less than 7 (equivalent to hitting 2-2-3, the lowest pins). Does this change anything?[^2]\n",
    "\n",
    "[^2]: In five pin it is actually possible to bowl between the pins and hit nothing without it *technically* being a gutter ball, and you can bowl into the blank spots left by pins that were already knocked down to score zeros without putting it in the gutter. I am using the term *gutter ball* loosely.\n",
    "\n",
    "Probably I could go back and look at the math again, but the nice thing about having written code is that I can just change the space of possible moves and run it again."
   ]
  },
  {
   "cell_type": "code",
   "execution_count": 4,
   "id": "286fa9c3-9bbc-4fc6-92a9-232278cb36f7",
   "metadata": {},
   "outputs": [],
   "source": [
    "no_gutters = [ n for n in range(7,16) if n != 14 ]\n",
    "no_gutters.reverse()"
   ]
  },
  {
   "cell_type": "code",
   "execution_count": 5,
   "id": "874c255f-0893-4e0c-b7df-20a3300c4f67",
   "metadata": {},
   "outputs": [
    {
     "name": "stdout",
     "output_type": "stream",
     "text": [
      "Score 149 is not possible, with no gutters\n"
     ]
    }
   ],
   "source": [
    "for score in range(70,151):\n",
    "    game = make_moves(0,0,10,score,no_gutters)\n",
    "    if len(game)==0:\n",
    "        print(\"Score {0} is not possible, with no gutters\".format(score))\n"
   ]
  },
  {
   "cell_type": "markdown",
   "id": "cd294a04-ae3a-4c31-83d0-f633bd4392c6",
   "metadata": {},
   "source": [
    "So nothing really changes. I mean you can't get a score *&lt;70*, obviously, but this doesn't open up any *gaps* in possible scores either.\n",
    "\n",
    "It does mean the strategy changes, now the code takes the biggest strides it can until the remainder is a multiple of 7 then runs out the game with a string of 7s.[^3]\n",
    "\n",
    "[^3]: You may have noticed an extra \"frame\" at the end with a score of 0. This is because, in five pin bowling, the last frame has special rules. You always get 3 balls in the last frame, even if your first two are a strike or spare. In this case, with no strikes or spares allowed by design, that extra scoring doesn't enter into it."
   ]
  },
  {
   "cell_type": "code",
   "execution_count": 6,
   "id": "983f771b-8091-4551-bf4c-e3423a31d2ee",
   "metadata": {},
   "outputs": [
    {
     "data": {
      "text/plain": [
       "[15, 15, 15, 13, 7, 7, 7, 7, 7, 7, 0]"
      ]
     },
     "execution_count": 6,
     "metadata": {},
     "output_type": "execute_result"
    }
   ],
   "source": [
    "[ frame for frame in reversed(make_moves(0,0,10,100,no_gutters)) ]"
   ]
  },
  {
   "cell_type": "markdown",
   "id": "e2add85c-6088-4011-b248-074d0c240c73",
   "metadata": {},
   "source": [
    "## Sparing no effort\n",
    "\n",
    "Adding in spares means I can't easily track the state of each frame with an integer, like I did for the case with deadwood every frame. Now I need to track three different properties for a given frame:\n",
    "\n",
    "+ what was scored in the frame\n",
    "+ whether a strike or a spare was recorded\n",
    "+ whether this is the end of the last frame (i.e am I done bowling yet?)\n",
    "\n",
    "Instead of diving into the full set of scoring rules for everything, I'm going to take one baby step forward and add in a data structure to track the state of the frame and select from two sets of possibilities for the subsequent frame: was there a spare or not?\n",
    "\n",
    "The data structure I'm using is just a struct, tracking the score, whether it is a \"special\" frame and whether or not it is the end of the game."
   ]
  },
  {
   "cell_type": "code",
   "execution_count": 7,
   "id": "2628cef9-6add-4636-b2bd-c5db816a52d9",
   "metadata": {},
   "outputs": [],
   "source": [
    "class SingleFrame:\n",
    "    def __init__(self, score, special=None, end=False):\n",
    "        self.score = score\n",
    "        self.special = special\n",
    "        self.end = end"
   ]
  },
  {
   "cell_type": "markdown",
   "id": "2d86c2ec-8399-4cc2-b270-ab9fbb0051bf",
   "metadata": {},
   "source": [
    "Instead of a list of integers for possible moves, I now need a list of possible `SingleFrame` objects that represent a possible frame, now including the possibility of a spare. Note the *pass forward* approach to scoring: a spare in a regular frame is only worth *15*."
   ]
  },
  {
   "cell_type": "code",
   "execution_count": 8,
   "id": "eac02e56-2bca-429f-95e9-ee0c8e14f173",
   "metadata": {},
   "outputs": [],
   "source": [
    "single_frame_moves = [ SingleFrame(score) for score in basic_moves ]\n",
    "single_frame_moves.insert(0, SingleFrame(15,\"spare\"))"
   ]
  },
  {
   "cell_type": "markdown",
   "id": "5e9cd70e-f103-4108-acea-6f76c25e6fe6",
   "metadata": {},
   "source": [
    "Now I iterate through the possible first, second, and third balls for a frame *following* a spare. There are more possible scores here since the first ball will be double counted. First I exhaustively generate every combination then use `set()` to extract only the unique elements. For this purpose it doesn't matter how many ways you can get a given score."
   ]
  },
  {
   "cell_type": "code",
   "execution_count": 9,
   "id": "44582399-3b57-4aec-a204-5eb0632f3ca5",
   "metadata": {},
   "outputs": [],
   "source": [
    "spares = [ 2*f+s for f in basic_moves \n",
    "                 for s in filter(lambda x: f+x==15,basic_moves)]\n",
    "\n",
    "spares = list(set(spares))\n",
    "spares.sort(reverse=True)\n",
    "\n",
    "non_spares = [ 2*f+s+t for f in basic_moves\n",
    "                       for s in filter(lambda x: f+x<15, basic_moves)\n",
    "                       for t in filter(lambda x: f+s+x<=15, basic_moves) ]\n",
    "\n",
    "non_spares = list(set(non_spares))\n",
    "non_spares.sort(reverse=True)"
   ]
  },
  {
   "cell_type": "markdown",
   "id": "9626b0e7-fa82-46e9-9826-e49bfcfaec78",
   "metadata": {},
   "source": [
    "Now I generate a list of moves by combining the spares and non-spares. They are arranged such that the code tries the spares first before the non-spares, going from largest to smallest. There are now *42* possible ways of scoring a frame when spares are included (versus only *14* when they aren't)."
   ]
  },
  {
   "cell_type": "code",
   "execution_count": 10,
   "id": "bd690852-98e2-49f2-84ff-4ba4584c4f3b",
   "metadata": {},
   "outputs": [
    {
     "data": {
      "text/plain": [
       "42"
      ]
     },
     "execution_count": 10,
     "metadata": {},
     "output_type": "execute_result"
    }
   ],
   "source": [
    "spare_frame_moves = [ SingleFrame(score,\"spare\") for score in spares ]\n",
    "spare_frame_moves += [ SingleFrame(score) for score in non_spares ]\n",
    "\n",
    "len(spare_frame_moves)"
   ]
  },
  {
   "cell_type": "markdown",
   "id": "4823fcaf-d21d-4aed-8834-110fb6cade23",
   "metadata": {},
   "source": [
    "There are only two scores that are not achievable in the frame following a spare: *1* and *29*"
   ]
  },
  {
   "cell_type": "code",
   "execution_count": 11,
   "id": "6dfb1df5-0b23-4b43-865b-4595aa3e34df",
   "metadata": {},
   "outputs": [
    {
     "data": {
      "text/plain": [
       "[1, 29]"
      ]
     },
     "execution_count": 11,
     "metadata": {},
     "output_type": "execute_result"
    }
   ],
   "source": [
    "[ s for s in range(31) if s not in [x.score for x in spare_frame_moves] ]"
   ]
  },
  {
   "cell_type": "markdown",
   "id": "584d7065-a91f-4e52-9f0a-06241c39fd4f",
   "metadata": {},
   "source": [
    "Adding spares has also complicated determining if a move is *valid* or not. Since scoring now depends on the state of a given move -- *is it a spare or not* -- this impacts the bounds of possible scores that can follow any given move. Instead of putting this all into the same function, as I did before, I have broken it out into its own function that decides, given a move, a remaining number of frames, and a remaining number of points to pick up, is the move *valid*.[^4]\n",
    "\n",
    "[^4]: There is an extra move at the end because of the last frame rule: A spare at the start of the last frame leads to an extra ball, but one that can only count for up to 15."
   ]
  },
  {
   "cell_type": "code",
   "execution_count": 12,
   "id": "60f4d5b4-cf71-4128-92ac-1199a719b380",
   "metadata": {},
   "outputs": [],
   "source": [
    "def valid_spare_moves(move, n, r, mn=0, mx=15):\n",
    "    if move.special==\"spare\":\n",
    "        up = (2*n + 1)*mx\n",
    "    else:\n",
    "        up = (1 + 2*max(n-1,0) + 1)*mx\n",
    "    \n",
    "    return n*mn <= (r - move.score) <= up"
   ]
  },
  {
   "cell_type": "markdown",
   "id": "b4bf474b-d8c3-4a3e-8062-efdbed74cdb3",
   "metadata": {},
   "source": [
    "The bulk of the main function is the same. The one exception is that it now tracks whether the previous frame was a spare (with `was_spare`) and uses this to determine how to finish the last frame: if the last frame was a spare, then an extra ball is thrown but with no multiplier."
   ]
  },
  {
   "cell_type": "code",
   "execution_count": 13,
   "id": "433d9989-7aa0-4cf8-9976-0b15c14b6d9e",
   "metadata": {},
   "outputs": [],
   "source": [
    "def make_spare_moves(cur_frame, cur_score, max_frame, target, \n",
    "                     moves=single_frame_moves, was_spare=False):\n",
    "    if cur_frame == max_frame:\n",
    "        if cur_score == target:\n",
    "            return [SingleFrame(0,False,True)]\n",
    "        elif was_spare and (target - cur_score) in basic_moves:\n",
    "            # extra ball in the last frame\n",
    "            return [SingleFrame(target-cur_score,False,True)]\n",
    "        else:\n",
    "            return []\n",
    "    else:\n",
    "        next_frame = cur_frame + 1\n",
    "        n = max_frame - next_frame\n",
    "        r = target - cur_score\n",
    "        for move in filter(lambda x: valid_spare_moves(x,n,r), moves):\n",
    "            new_score = cur_score + move.score\n",
    "            if move.special == \"spare\":\n",
    "                next_moves = spare_frame_moves\n",
    "            else:\n",
    "                next_moves = single_frame_moves\n",
    "            \n",
    "            advance = make_spare_moves(next_frame, new_score, max_frame, target, next_moves, move.special==\"spare\")\n",
    "            if len(advance) > 0:\n",
    "                advance.append(move)\n",
    "                return advance\n",
    "        else:\n",
    "            return []"
   ]
  },
  {
   "cell_type": "markdown",
   "id": "b0df9efe-fc2f-4042-8bef-01e980244517",
   "metadata": {},
   "source": [
    "Looping through all the scores: $0 \\le score \\le 300$ yields the impossible to bowl scores, when spares are allowed."
   ]
  },
  {
   "cell_type": "code",
   "execution_count": 14,
   "id": "6a2e1ed3-7815-422f-bc7c-ff71326d015a",
   "metadata": {},
   "outputs": [
    {
     "name": "stdout",
     "output_type": "stream",
     "text": [
      "Score 1 is not possible, with only spares allowed\n",
      "Score 299 is not possible, with only spares allowed\n"
     ]
    }
   ],
   "source": [
    "for score in range(301):\n",
    "    game = make_spare_moves(0,0,10,score)\n",
    "    if len(game)==0:\n",
    "        print(\"Score {0} is not possible, with only spares allowed\".format(score))\n"
   ]
  },
  {
   "cell_type": "markdown",
   "id": "d88db796-902b-495c-b9d5-14a4d9a53e42",
   "metadata": {},
   "source": [
    "Which is perhaps not surprising, we still can't get 1 less than the largest multiple of 15 because we cannot bowl a *14* with the extra ball at the end of the 10th frame."
   ]
  },
  {
   "cell_type": "markdown",
   "id": "bcef8954-fc4a-426a-a7ec-1ead22d37716",
   "metadata": {},
   "source": [
    "## In striking distance of the final answer\n",
    "\n",
    "This puts me in a good position to try a full game, I need to add the possibility of a strike. For single frame scores with nothing special before them, this just means adding a third way to score a *15*. There are now 16 possible moves."
   ]
  },
  {
   "cell_type": "code",
   "execution_count": 15,
   "id": "c81fdd40-e5a0-40f4-acc4-0909cd0fbc05",
   "metadata": {},
   "outputs": [
    {
     "data": {
      "text/plain": [
       "16"
      ]
     },
     "execution_count": 15,
     "metadata": {},
     "output_type": "execute_result"
    }
   ],
   "source": [
    "# all the different scores for a frame following a regular frame\n",
    "\n",
    "single_frame_moves = [ SingleFrame(score) for score in basic_moves ]\n",
    "single_frame_moves.insert(0, SingleFrame(15,\"spare\"))\n",
    "single_frame_moves.insert(0, SingleFrame(15,\"strike\"))\n",
    "\n",
    "len(single_frame_moves)"
   ]
  },
  {
   "cell_type": "markdown",
   "id": "3bca88d7-9c56-44d6-afd6-7be129f664ad",
   "metadata": {},
   "source": [
    "Similarly the possible ways to follow a spare are the same as before, except that there is no way to \"spare\" with 30. Scoring a 30 after a spare requires that one throw a strike."
   ]
  },
  {
   "cell_type": "code",
   "execution_count": 16,
   "id": "40968781-7b2a-4965-a8bb-a66cb8f7af66",
   "metadata": {},
   "outputs": [
    {
     "data": {
      "text/plain": [
       "42"
      ]
     },
     "execution_count": 16,
     "metadata": {},
     "output_type": "execute_result"
    }
   ],
   "source": [
    "# all the different scores for a frame following a spare\n",
    "\n",
    "spare_frame_moves = [ move for move in spare_frame_moves if move.score !=30 ]\n",
    "spare_frame_moves.insert(0, SingleFrame(30,\"strike\"))\n",
    "\n",
    "len(spare_frame_moves)"
   ]
  },
  {
   "cell_type": "markdown",
   "id": "92a24e07-1481-49f7-81c2-9fdc3f781f16",
   "metadata": {},
   "source": [
    "Following a single strike the rules are different: the first two balls count twice and the third counts once. Here I exhaustively generate all strikes, spares, and remaining that could follow a single strike and then trim only to the unique scores. This is a much *smaller* set as all spares that follow a strike must, by definition, have a score of 30."
   ]
  },
  {
   "cell_type": "code",
   "execution_count": 17,
   "id": "0a1e2dcd-aede-4823-8dd7-ef58b8f73043",
   "metadata": {},
   "outputs": [
    {
     "data": {
      "text/plain": [
       "30"
      ]
     },
     "execution_count": 17,
     "metadata": {},
     "output_type": "execute_result"
    }
   ],
   "source": [
    "# all the different scores for a frame following a single strike\n",
    "\n",
    "non_spares = [ 2*f+2*s+t for f in filter(lambda x: x!=15,basic_moves)\n",
    "                         for s in filter(lambda x: f+x<15, basic_moves)\n",
    "                         for t in filter(lambda x: f+s+x<=15, basic_moves) ]\n",
    "\n",
    "non_spares = list(set(non_spares))\n",
    "non_spares.sort(reverse=True)\n",
    "\n",
    "single_strike_moves = [ SingleFrame(30,\"strike\") ]\n",
    "single_strike_moves += [ SingleFrame(30,\"spare\") ]\n",
    "single_strike_moves += [ SingleFrame(score) for score in non_spares ]\n",
    "\n",
    "len(single_strike_moves)"
   ]
  },
  {
   "cell_type": "markdown",
   "id": "4e54ee8a-dc0e-4f42-99f8-acb3fc4b073b",
   "metadata": {},
   "source": [
    "Following a double strike the rules are different again: the first ball is triple counted, the second double counted, and the third single counted."
   ]
  },
  {
   "cell_type": "code",
   "execution_count": 18,
   "id": "7c899e7c-be28-45d2-8166-a5ce3252efba",
   "metadata": {},
   "outputs": [
    {
     "data": {
      "text/plain": [
       "55"
      ]
     },
     "execution_count": 18,
     "metadata": {},
     "output_type": "execute_result"
    }
   ],
   "source": [
    "# all the different scores for a frame following 2 strikes\n",
    "\n",
    "spares = [ 3*f+2*s for f in filter(lambda x: x!=15,basic_moves)\n",
    "                   for s in filter(lambda x: f+x==15,basic_moves)]\n",
    "\n",
    "spares = list(set(spares))\n",
    "spares.sort(reverse=True)\n",
    "\n",
    "non_spares = [ 3*f+2*s+t for f in filter(lambda x: x!=15,basic_moves)\n",
    "                         for s in filter(lambda x: f+x<15, basic_moves)\n",
    "                         for t in filter(lambda x: f+s+x<=15, basic_moves) ]\n",
    "\n",
    "non_spares = list(set(non_spares))\n",
    "non_spares.sort(reverse=True)\n",
    "\n",
    "double_strike_moves = [ SingleFrame(45,\"strike\") ]\n",
    "double_strike_moves += [ SingleFrame(score,\"spare\") for score in spares ]\n",
    "double_strike_moves += [ SingleFrame(score) for score in non_spares ]\n",
    "\n",
    "len(double_strike_moves)"
   ]
  },
  {
   "cell_type": "markdown",
   "id": "c273d659-1d07-422e-964a-a9d936e26219",
   "metadata": {},
   "source": [
    "This change in scoring, allowing for triple scoring, changes the bounds of possible scores following a given move. Now, after a strike, the next frame could count triple. But there are also potentially *two* more balls in the 10th frame that don't count equally towards the upper bound on the score. The function to check for valid moves needs to be updated to reflect this."
   ]
  },
  {
   "cell_type": "code",
   "execution_count": 19,
   "id": "bfd21fb8-c8bb-4c13-a0d8-dd306b51071a",
   "metadata": {},
   "outputs": [],
   "source": [
    "def valid_full_moves(move, n, r, mn=0, mx=15):\n",
    "    if move.special==\"strike\":\n",
    "        # max score is 3 times the max score for the remaining frames\n",
    "        # plus the multiplier for the remaining balls in the last frame\n",
    "        up = (3*n + 2 + 1)*mx\n",
    "    elif move.special==\"spare\":\n",
    "        # max score is 2 times the max score for the next frame\n",
    "        # 3 times the max score for the remaining frames\n",
    "        # plus the multiplier for the remaining balls in the last frame\n",
    "        up = (2 + 3*max(n-1,0) + 2 + 1)*mx\n",
    "    else:\n",
    "        up = (1 + 2*max(n-1,0) + 2 + 1)*mx\n",
    "    return n*mn <= r - move.score <= up"
   ]
  },
  {
   "cell_type": "markdown",
   "id": "4308d6a2-bccd-45f0-ab46-123a50a45de5",
   "metadata": {},
   "source": [
    "At this point all of the sets of moves for a regular frame contain every score except *1* and *1* less than the max score (i.e. a frame following a spare or single strike cannot score a 29 and a frame following a double-strike cannot score a 44). At this point you may expect that the only impossible scores will be *1* and *449* -- this was true with the cases above. *However* there are two more sets of scoring possibilities *just for the last frame*.\n",
    "\n",
    "If the last frame starts with a spare, then it is the same as before: single ball, no multiplier.\n",
    "\n",
    "If the last frame starts with a strike, and is not preceded by one, then there are *potentially* two more balls left with no multipliers attached. And these do leave gaps."
   ]
  },
  {
   "cell_type": "code",
   "execution_count": 20,
   "id": "f08f4d6e-1ad8-4ef1-83f8-7d5f545f42b4",
   "metadata": {},
   "outputs": [
    {
     "data": {
      "text/plain": [
       "[1, 16, 29]"
      ]
     },
     "execution_count": 20,
     "metadata": {},
     "output_type": "execute_result"
    }
   ],
   "source": [
    "# all the different scores for the last 2 balls of the last frame\n",
    "# assuming the first ball in the last frame was a strike\n",
    "last_frame_moves = [ f+s for f in basic_moves \n",
    "                         for s in filter(lambda x: f+x<=15,basic_moves) ]\n",
    "last_frame_moves += [ 15 + s for s in basic_moves ]\n",
    "last_frame_moves = set(last_frame_moves)\n",
    "\n",
    "[ s for s in range(31) if s not in last_frame_moves ]"
   ]
  },
  {
   "cell_type": "markdown",
   "id": "fe053916-03b9-4443-bb2b-c8c7caa1780c",
   "metadata": {},
   "source": [
    "If the last frame starts with a strike *and* is preceded by one, then there are potentially two more balls but the first one is double counted. Again, this leaves gaps."
   ]
  },
  {
   "cell_type": "code",
   "execution_count": 21,
   "id": "5218619b-732e-49c9-9149-6ccddbab7c52",
   "metadata": {},
   "outputs": [
    {
     "data": {
      "text/plain": [
       "[1, 29, 31, 44]"
      ]
     },
     "execution_count": 21,
     "metadata": {},
     "output_type": "execute_result"
    }
   ],
   "source": [
    "# all the different scores for the last 2 balls of the last frame\n",
    "# assuming the second to last frame was a strike and the first ball\n",
    "# in the last frame was a strike\n",
    "last_frame_double_moves = [ 2*f+s for f in basic_moves\n",
    "                           for s in filter(lambda x: f+x<=15,basic_moves) ] \n",
    "last_frame_double_moves += [ 30 + s for s in basic_moves ]\n",
    "last_frame_double_moves = set(last_frame_double_moves)\n",
    "\n",
    "[ s for s in range(46) if s not in last_frame_double_moves ]"
   ]
  },
  {
   "cell_type": "markdown",
   "id": "811816cf-6826-48c2-aa68-69e57498041d",
   "metadata": {},
   "source": [
    "It certainly looks now like there will be at least 4 scores that can't be achieved because there no way to make the last step with the extra balls in the 10th frame, because the 10th frame is scored differently. This additional scoring complexity now makes it unwieldy to put all of that into the main function. I have broken it out into a separate function that just checks the last frame and either returns the last move with the remaining balls or returns an empty list if there is no possible move."
   ]
  },
  {
   "cell_type": "code",
   "execution_count": 22,
   "id": "49694309-eeb0-4ca8-9ebf-86366ada9659",
   "metadata": {},
   "outputs": [],
   "source": [
    "def last_frame_rule(remaining, last_frame, max_move, mx=45):\n",
    "    if remaining == 0:\n",
    "        # hit the target, don't need any additional balls\n",
    "        return [SingleFrame(0,None,True)]\n",
    "    elif last_frame == \"strike\" and max_move == mx and remaining in last_frame_double_moves:\n",
    "        # two extra balls following a double strike\n",
    "        return [SingleFrame(remaining,None,True)]\n",
    "    elif last_frame == \"strike\" and remaining in last_frame_moves:\n",
    "        # two extra balls following a single strike\n",
    "        return [SingleFrame(remaining,None,True)]\n",
    "    elif last_frame == \"spare\" and remaining in basic_moves:\n",
    "        # only one extra ball\n",
    "        return [SingleFrame(remaining,None,True)]\n",
    "    else:\n",
    "        # not possible\n",
    "        return []"
   ]
  },
  {
   "cell_type": "markdown",
   "id": "787db625-8294-47b6-be38-75b7db58ba35",
   "metadata": {},
   "source": [
    "The main function now has to track whether the last frame was a strike, to trigger the double strike rules, versus single strikes, spares, and regular frames. The logic is the same, though."
   ]
  },
  {
   "cell_type": "code",
   "execution_count": 23,
   "id": "c098c600-e629-4d78-87f1-04895e2051f8",
   "metadata": {},
   "outputs": [],
   "source": [
    "def make_full_moves(cur_frame, cur_score, max_frame, target, \n",
    "                     moves=single_frame_moves, last_frame=None):\n",
    "    if cur_frame == max_frame:\n",
    "        # max_move is used to check if the second-to-last frame was a strike\n",
    "        max_move = max( s.score for s in moves )\n",
    "        return last_frame_rule(target-cur_score, last_frame, max_move)\n",
    "    else:\n",
    "        next_frame = cur_frame + 1\n",
    "        n = max_frame - next_frame\n",
    "        r = target - cur_score\n",
    "        for move in filter(lambda x: valid_full_moves(x,n,r), moves):\n",
    "            new_score = cur_score + move.score\n",
    "            if last_frame == \"strike\" and move.special == \"strike\":\n",
    "                next_moves = double_strike_moves\n",
    "                next_last_frame = \"strike\"\n",
    "            elif move.special == \"strike\":\n",
    "                next_moves = single_strike_moves\n",
    "                next_last_frame = \"strike\"\n",
    "            elif move.special == \"spare\":\n",
    "                next_moves = spare_frame_moves\n",
    "                next_last_frame = \"spare\"\n",
    "            else:\n",
    "                next_moves = single_frame_moves\n",
    "                next_last_frame = None\n",
    "\n",
    "            advance = make_full_moves(next_frame, new_score, max_frame, target, next_moves, next_last_frame)\n",
    "            if len(advance) > 0:\n",
    "                advance.append(move)\n",
    "                return advance\n",
    "        else:\n",
    "            return []"
   ]
  },
  {
   "cell_type": "markdown",
   "id": "c1ef2a5e-dec2-4f2b-a5af-ddf0ce081f3e",
   "metadata": {},
   "source": [
    "Looping through all the scores: $0 \\le score \\le 450$ yields the impossible to bowl scores, when spares and strikes are allowed."
   ]
  },
  {
   "cell_type": "code",
   "execution_count": 24,
   "id": "287b94c0-d440-4fc8-9aba-1d820ae0e0ec",
   "metadata": {},
   "outputs": [
    {
     "name": "stdout",
     "output_type": "stream",
     "text": [
      "Score 1 is not possible, full game\n",
      "Score 434 is not possible, full game\n",
      "Score 436 is not possible, full game\n",
      "Score 449 is not possible, full game\n"
     ]
    }
   ],
   "source": [
    "for score in range(451):\n",
    "    game = make_full_moves(0,0,10,score)\n",
    "    if len(game)==0:\n",
    "        print(\"Score {} is not possible, full game\".format(score))"
   ]
  },
  {
   "cell_type": "markdown",
   "id": "0eb62c04-3ac8-4e93-807c-7745f8a8ed8a",
   "metadata": {},
   "source": [
    "This conforms with our intuition, after looking at the possible last-frame moves. Of course this is entirely academic as, the way I bowl, I am in no danger of coming close to these impossible scores."
   ]
  }
 ],
 "metadata": {
  "kernelspec": {
   "display_name": "Python 3 (ipykernel)",
   "language": "python",
   "name": "python3"
  },
  "language_info": {
   "codemirror_mode": {
    "name": "ipython",
    "version": 3
   },
   "file_extension": ".py",
   "mimetype": "text/x-python",
   "name": "python",
   "nbconvert_exporter": "python",
   "pygments_lexer": "ipython3",
   "version": "3.10.12"
  }
 },
 "nbformat": 4,
 "nbformat_minor": 5
}
