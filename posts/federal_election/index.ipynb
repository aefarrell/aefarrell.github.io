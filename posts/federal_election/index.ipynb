{
 "cells": [
  {
   "cell_type": "raw",
   "id": "a7afcd7a-6024-4662-93c9-bc564dbe0c0c",
   "metadata": {},
   "source": [
    "---\n",
    "title: \"The 2021 Canadian Federal Election\"\n",
    "description: \"An analysis of how exceptionally little changed.\"\n",
    "author: \"Allan Farrell\"\n",
    "date: \"09/22/2021\"\n",
    "categories: [julia, elections]\n",
    "title-block-banner: url(./chris-desort-unsplash.jpg)\n",
    "reference-location: margin\n",
    "---"
   ]
  },
  {
   "cell_type": "markdown",
   "id": "e260e2ca-996d-444d-b42c-332991c876b4",
   "metadata": {},
   "source": [
    "On Monday, September 20 2021, Canadians went to the polls and ended up electing a parliament that looked very much like the one we had in August, prior to the election. Very notably so. I'm not much of a political watcher, but I did wonder was this really so notably similar? Or do we just have short memories?\n",
    "\n",
    "This is easy enough to answer.\n",
    "\n",
    "## Methodology\n",
    "\n",
    "What I would like to do is take a table with the number of seats each party got in each election and calculate the change in seats from one election to the next, then add that up. I can't simply add it up though, as the total number of seats (usually) remains constant and any party's gain is another party's loss: the total would always be zero. Instead I am going to add up the absolute value of the change, which effectively double counts each seat (it is counted when one party loses it and again when another party gains it). Also the total number of seats in the house of commons has not always been 338, to adjust for this I will take the absolute value of the change in percentage of seats. So, for example, if party A enters an election with 20% of the seats and leaves with 20% of the seats then this counts as no change, though if they entered with 20 seats and left with 20 seats but *the overall number of seats* had increased, then that counts as a change.\n",
    "\n",
    "I can calculate this for each election and see how much of an outlier 2021 was."
   ]
  },
  {
   "cell_type": "code",
   "execution_count": 1,
   "id": "baa26b42-9460-4523-ad91-f77e4fafce33",
   "metadata": {},
   "outputs": [],
   "source": [
    "using CSV, DataFrames, Statistics, Pipe, Plots"
   ]
  },
  {
   "cell_type": "code",
   "execution_count": 2,
   "id": "eb284f94-e1ec-424c-abf2-41e40e98160e",
   "metadata": {},
   "outputs": [
    {
     "data": {
      "text/plain": [
       "seat_change (generic function with 1 method)"
      ]
     },
     "execution_count": 2,
     "metadata": {},
     "output_type": "execute_result"
    }
   ],
   "source": [
    "#| output: false\n",
    "\n",
    "# takes a dataframe of the form\n",
    "# | YEAR | party1 | party 2 | ... | party n |\n",
    "# |------|--------|---------|-----|---------|\n",
    "# | 1    |  100   |  50     | ... |   0     |\n",
    "# |  :   |    :   |    :    |  :  |   :     |\n",
    "# |  m   |   30   |   160   | ... |   1     |\n",
    "# and returns a length m vector with the relative change for each year\n",
    "function seat_change(df)\n",
    "    \n",
    "    # the first election seat change is undefined\n",
    "    changes = [NaN]\n",
    "    \n",
    "    for i in 2:nrow(df)\n",
    "        # starting with the second election\n",
    "        prev = df[i-1, Not(:YEAR)]\n",
    "        prev_total = sum(prev)\n",
    "        \n",
    "        curr = df[i, Not(:YEAR)]\n",
    "        curr_total = sum(curr)\n",
    "        \n",
    "        Δseats = 0\n",
    "        \n",
    "        # for each party, calculate the absolute difference\n",
    "        for j in 1:length(curr)\n",
    "            \n",
    "            prev_pct = prev[j]/prev_total\n",
    "            curr_pct = curr[j]/curr_total\n",
    "            Δseats += abs(curr_pct - prev_pct)\n",
    "        end\n",
    "        \n",
    "        # add the change to the list\n",
    "        push!(changes, Δseats)\n",
    "    end\n",
    "    \n",
    "    return changes\n",
    "end"
   ]
  },
  {
   "cell_type": "markdown",
   "id": "e3591587-2766-4a96-a550-b105f48e24e4",
   "metadata": {},
   "source": [
    "## Dataset\n",
    "\n",
    "I pulled the seat count for each federal election since 1867 from [wikipedia](https://en.wikipedia.org/wiki/List_of_Canadian_federal_general_elections) as a CSV, with a little bit of finessing in the data entry. We have had a lot of political parties in our short time as a country and many of them either never ended up with any seats or only one or two before disappearing from history -- I have elected to lump these in with the independents as \"Other\". We have also had several parties that merged or changed, for example the CCF ultimately became the NDP and the Reform party became part of the Canadian Alliance, I have chosen to treat those as the same party.\n",
    "\n",
    "Running this through the function I defined earlier gives the relative absolute seat change per election."
   ]
  },
  {
   "cell_type": "code",
   "execution_count": 3,
   "id": "40600bbd-0215-4864-bd56-5c017b37d333",
   "metadata": {},
   "outputs": [
    {
     "name": "stdout",
     "output_type": "stream",
     "text": [
      "\u001b[1m6×14 DataFrame\u001b[0m\n",
      "\u001b[1m Row \u001b[0m│\u001b[1m YEAR  \u001b[0m\u001b[1m Other \u001b[0m\u001b[1m Liberal \u001b[0m\u001b[1m Conservatives \u001b[0m\u001b[1m CCF/NDP \u001b[0m\u001b[1m BQ    \u001b[0m\u001b[1m Progressive \u001b[0m\u001b[1m Anti-Confederate \u001b[0m\u001b[1m Social Credit \u001b[0m\u001b[1m United Farmers \u001b[0m\u001b[1m Reform/Canadian Alliance \u001b[0m\u001b[1m Liberal Progressive \u001b[0m\u001b[1m Unionist Coalition \u001b[0m\u001b[1m Change      \u001b[0m\n",
      "\u001b[1m     \u001b[0m│\u001b[90m Int64 \u001b[0m\u001b[90m Int64 \u001b[0m\u001b[90m Int64   \u001b[0m\u001b[90m Int64         \u001b[0m\u001b[90m Int64   \u001b[0m\u001b[90m Int64 \u001b[0m\u001b[90m Int64       \u001b[0m\u001b[90m Int64            \u001b[0m\u001b[90m Int64         \u001b[0m\u001b[90m Int64          \u001b[0m\u001b[90m Int64                    \u001b[0m\u001b[90m Int64               \u001b[0m\u001b[90m Int64              \u001b[0m\u001b[90m Float64     \u001b[0m\n",
      "─────┼────────────────────────────────────────────────────────────────────────────────────────────────────────────────────────────────────────────────────────────────────────────────────────────────────\n",
      "   1 │  1867      0       62            100        0      0            0                18              0               0                         0                    0                   0  NaN\n",
      "   2 │  1872      5       95            100        0      0            0                 0              0               0                         0                    0                   0    0.311111\n",
      "   3 │  1874     12      129             65        0      0            0                 0              0               0                         0                    0                   0    0.368932\n",
      "   4 │  1878      9       63            134        0      0            0                 0              0               0                         0                    0                   0    0.669903\n",
      "   5 │  1882      4       73            134        0      0            0                 0              0               0                         0                    0                   0    0.0802926\n",
      "   6 │  1887     11       80            124        0      0            0                 0              0               0                         0                    0                   0    0.116654"
     ]
    }
   ],
   "source": [
    "data_file = \"data/federal-electon-results.csv\"\n",
    "\n",
    "results = @pipe data_file |>\n",
    "    CSV.File( _ ;  header=1 ) |>\n",
    "    DataFrame(_) |>\n",
    "    hcat(_, seat_change(_)) |>\n",
    "    rename(_, \"x1\" => \"Change\")\n",
    "\n",
    "show(first(results, 6), allcols=true)"
   ]
  },
  {
   "cell_type": "markdown",
   "id": "fa061173-c794-43e1-82cc-b3aa728e1396",
   "metadata": {},
   "source": [
    "## Results\n",
    "\n",
    "Plotting the results gives us some interesting years to think about, such as 1917 when the government was composed of the [Unionist Coalition](https://en.wikipedia.org/wiki/Unionist_Party_(Canada)), a coalition of mostly Conservatives and some Liberals and others, that basically only existed for the war in what was, apparently, one of the most bitter campaigns in Canadian history. For the next election the coalition dissolved back into it's original parties, hence an enormous change going in and going out of that parliament. There are other large changes, like the 1993 election in which the Conservatives went into the election with 156 seats and left with 2, nearly being wiped out of parliament entirely -- the largest change in history according to this metric.\n",
    "\n",
    "There have been periods of low change, the red-line on the plot indicates a change of less than 10%, but none as low as 2021. I do find it interesting that in the late 1800s and the early 1900s we had successive governments with very little change in overall composition but after 1908 things are a lot more variable."
   ]
  },
  {
   "cell_type": "code",
   "execution_count": 4,
   "id": "90a0e0e7-4472-4e7c-8994-2dfbde979225",
   "metadata": {
    "jupyter": {
     "source_hidden": true
    },
    "tags": []
   },
   "outputs": [
    {
     "data": {
      "image/svg+xml": [
       "<?xml version=\"1.0\" encoding=\"utf-8\"?>\n",
       "<svg xmlns=\"http://www.w3.org/2000/svg\" xmlns:xlink=\"http://www.w3.org/1999/xlink\" width=\"600\" height=\"400\" viewBox=\"0 0 2400 1600\">\n",
       "<defs>\n",
       "  <clipPath id=\"clip890\">\n",
       "    <rect x=\"0\" y=\"0\" width=\"2400\" height=\"1600\"/>\n",
       "  </clipPath>\n",
       "</defs>\n",
       "<path clip-path=\"url(#clip890)\" d=\"\n",
       "M0 1600 L2400 1600 L2400 0 L0 0  Z\n",
       "  \" fill=\"#ffffff\" fill-rule=\"evenodd\" fill-opacity=\"1\"/>\n",
       "<defs>\n",
       "  <clipPath id=\"clip891\">\n",
       "    <rect x=\"480\" y=\"0\" width=\"1681\" height=\"1600\"/>\n",
       "  </clipPath>\n",
       "</defs>\n",
       "<path clip-path=\"url(#clip890)\" d=\"\n",
       "M232.389 1423.18 L2352.76 1423.18 L2352.76 47.2441 L232.389 47.2441  Z\n",
       "  \" fill=\"#ffffff\" fill-rule=\"evenodd\" fill-opacity=\"1\"/>\n",
       "<defs>\n",
       "  <clipPath id=\"clip892\">\n",
       "    <rect x=\"232\" y=\"47\" width=\"2121\" height=\"1377\"/>\n",
       "  </clipPath>\n",
       "</defs>\n",
       "<polyline clip-path=\"url(#clip892)\" style=\"stroke:#000000; stroke-linecap:butt; stroke-linejoin:round; stroke-width:2; stroke-opacity:0.1; fill:none\" points=\"\n",
       "  591.153,1423.18 591.153,47.2441 \n",
       "  \"/>\n",
       "<polyline clip-path=\"url(#clip892)\" style=\"stroke:#000000; stroke-linecap:butt; stroke-linejoin:round; stroke-width:2; stroke-opacity:0.1; fill:none\" points=\"\n",
       "  980.83,1423.18 980.83,47.2441 \n",
       "  \"/>\n",
       "<polyline clip-path=\"url(#clip892)\" style=\"stroke:#000000; stroke-linecap:butt; stroke-linejoin:round; stroke-width:2; stroke-opacity:0.1; fill:none\" points=\"\n",
       "  1370.51,1423.18 1370.51,47.2441 \n",
       "  \"/>\n",
       "<polyline clip-path=\"url(#clip892)\" style=\"stroke:#000000; stroke-linecap:butt; stroke-linejoin:round; stroke-width:2; stroke-opacity:0.1; fill:none\" points=\"\n",
       "  1760.19,1423.18 1760.19,47.2441 \n",
       "  \"/>\n",
       "<polyline clip-path=\"url(#clip892)\" style=\"stroke:#000000; stroke-linecap:butt; stroke-linejoin:round; stroke-width:2; stroke-opacity:0.1; fill:none\" points=\"\n",
       "  2149.86,1423.18 2149.86,47.2441 \n",
       "  \"/>\n",
       "<polyline clip-path=\"url(#clip890)\" style=\"stroke:#000000; stroke-linecap:butt; stroke-linejoin:round; stroke-width:4; stroke-opacity:1; fill:none\" points=\"\n",
       "  232.389,1423.18 2352.76,1423.18 \n",
       "  \"/>\n",
       "<polyline clip-path=\"url(#clip890)\" style=\"stroke:#000000; stroke-linecap:butt; stroke-linejoin:round; stroke-width:4; stroke-opacity:1; fill:none\" points=\"\n",
       "  591.153,1423.18 591.153,1406.67 \n",
       "  \"/>\n",
       "<polyline clip-path=\"url(#clip890)\" style=\"stroke:#000000; stroke-linecap:butt; stroke-linejoin:round; stroke-width:4; stroke-opacity:1; fill:none\" points=\"\n",
       "  980.83,1423.18 980.83,1406.67 \n",
       "  \"/>\n",
       "<polyline clip-path=\"url(#clip890)\" style=\"stroke:#000000; stroke-linecap:butt; stroke-linejoin:round; stroke-width:4; stroke-opacity:1; fill:none\" points=\"\n",
       "  1370.51,1423.18 1370.51,1406.67 \n",
       "  \"/>\n",
       "<polyline clip-path=\"url(#clip890)\" style=\"stroke:#000000; stroke-linecap:butt; stroke-linejoin:round; stroke-width:4; stroke-opacity:1; fill:none\" points=\"\n",
       "  1760.19,1423.18 1760.19,1406.67 \n",
       "  \"/>\n",
       "<polyline clip-path=\"url(#clip890)\" style=\"stroke:#000000; stroke-linecap:butt; stroke-linejoin:round; stroke-width:4; stroke-opacity:1; fill:none\" points=\"\n",
       "  2149.86,1423.18 2149.86,1406.67 \n",
       "  \"/>\n",
       "<path clip-path=\"url(#clip890)\" d=\"M535.678 1479.92 L543.317 1479.92 L543.317 1453.55 L535.007 1455.22 L535.007 1450.96 L543.271 1449.29 L547.947 1449.29 L547.947 1479.92 L555.586 1479.92 L555.586 1483.85 L535.678 1483.85 L535.678 1479.92 Z\" fill=\"#000000\" fill-rule=\"evenodd\" fill-opacity=\"1\" /><path clip-path=\"url(#clip890)\" d=\"M575.03 1467.44 Q571.697 1467.44 569.775 1469.22 Q567.877 1471 567.877 1474.13 Q567.877 1477.25 569.775 1479.04 Q571.697 1480.82 575.03 1480.82 Q578.363 1480.82 580.285 1479.04 Q582.206 1477.23 582.206 1474.13 Q582.206 1471 580.285 1469.22 Q578.387 1467.44 575.03 1467.44 M570.354 1465.45 Q567.345 1464.71 565.655 1462.65 Q563.988 1460.59 563.988 1457.63 Q563.988 1453.48 566.928 1451.07 Q569.891 1448.67 575.03 1448.67 Q580.192 1448.67 583.132 1451.07 Q586.072 1453.48 586.072 1457.63 Q586.072 1460.59 584.382 1462.65 Q582.715 1464.71 579.729 1465.45 Q583.109 1466.24 584.984 1468.53 Q586.882 1470.82 586.882 1474.13 Q586.882 1479.15 583.803 1481.84 Q580.748 1484.52 575.03 1484.52 Q569.313 1484.52 566.234 1481.84 Q563.178 1479.15 563.178 1474.13 Q563.178 1470.82 565.076 1468.53 Q566.975 1466.24 570.354 1465.45 M568.641 1458.06 Q568.641 1460.75 570.308 1462.25 Q571.998 1463.76 575.03 1463.76 Q578.039 1463.76 579.729 1462.25 Q581.442 1460.75 581.442 1458.06 Q581.442 1455.38 579.729 1453.88 Q578.039 1452.37 575.03 1452.37 Q571.998 1452.37 570.308 1453.88 Q568.641 1455.38 568.641 1458.06 Z\" fill=\"#000000\" fill-rule=\"evenodd\" fill-opacity=\"1\" /><path clip-path=\"url(#clip890)\" d=\"M595.331 1483.13 L595.331 1478.88 Q597.09 1479.71 598.896 1480.15 Q600.701 1480.59 602.437 1480.59 Q607.067 1480.59 609.497 1477.49 Q611.951 1474.36 612.298 1468.02 Q610.956 1470.01 608.896 1471.07 Q606.835 1472.14 604.335 1472.14 Q599.15 1472.14 596.118 1469.01 Q593.109 1465.87 593.109 1460.43 Q593.109 1455.1 596.257 1451.88 Q599.405 1448.67 604.636 1448.67 Q610.632 1448.67 613.78 1453.27 Q616.951 1457.86 616.951 1466.61 Q616.951 1474.78 613.062 1479.66 Q609.197 1484.52 602.646 1484.52 Q600.886 1484.52 599.081 1484.18 Q597.275 1483.83 595.331 1483.13 M604.636 1468.48 Q607.785 1468.48 609.613 1466.33 Q611.465 1464.18 611.465 1460.43 Q611.465 1456.7 609.613 1454.55 Q607.785 1452.37 604.636 1452.37 Q601.488 1452.37 599.636 1454.55 Q597.808 1456.7 597.808 1460.43 Q597.808 1464.18 599.636 1466.33 Q601.488 1468.48 604.636 1468.48 Z\" fill=\"#000000\" fill-rule=\"evenodd\" fill-opacity=\"1\" /><path clip-path=\"url(#clip890)\" d=\"M635.354 1452.37 Q631.743 1452.37 629.914 1455.94 Q628.108 1459.48 628.108 1466.61 Q628.108 1473.71 629.914 1477.28 Q631.743 1480.82 635.354 1480.82 Q638.988 1480.82 640.794 1477.28 Q642.622 1473.71 642.622 1466.61 Q642.622 1459.48 640.794 1455.94 Q638.988 1452.37 635.354 1452.37 M635.354 1448.67 Q641.164 1448.67 644.22 1453.27 Q647.298 1457.86 647.298 1466.61 Q647.298 1475.33 644.22 1479.94 Q641.164 1484.52 635.354 1484.52 Q629.544 1484.52 626.465 1479.94 Q623.409 1475.33 623.409 1466.61 Q623.409 1457.86 626.465 1453.27 Q629.544 1448.67 635.354 1448.67 Z\" fill=\"#000000\" fill-rule=\"evenodd\" fill-opacity=\"1\" /><path clip-path=\"url(#clip890)\" d=\"M925.356 1479.92 L932.995 1479.92 L932.995 1453.55 L924.685 1455.22 L924.685 1450.96 L932.949 1449.29 L937.625 1449.29 L937.625 1479.92 L945.263 1479.92 L945.263 1483.85 L925.356 1483.85 L925.356 1479.92 Z\" fill=\"#000000\" fill-rule=\"evenodd\" fill-opacity=\"1\" /><path clip-path=\"url(#clip890)\" d=\"M954.847 1483.13 L954.847 1478.88 Q956.606 1479.71 958.412 1480.15 Q960.217 1480.59 961.953 1480.59 Q966.583 1480.59 969.013 1477.49 Q971.467 1474.36 971.814 1468.02 Q970.472 1470.01 968.412 1471.07 Q966.351 1472.14 963.851 1472.14 Q958.666 1472.14 955.634 1469.01 Q952.625 1465.87 952.625 1460.43 Q952.625 1455.1 955.773 1451.88 Q958.921 1448.67 964.152 1448.67 Q970.148 1448.67 973.296 1453.27 Q976.467 1457.86 976.467 1466.61 Q976.467 1474.78 972.578 1479.66 Q968.712 1484.52 962.162 1484.52 Q960.402 1484.52 958.597 1484.18 Q956.791 1483.83 954.847 1483.13 M964.152 1468.48 Q967.3 1468.48 969.129 1466.33 Q970.981 1464.18 970.981 1460.43 Q970.981 1456.7 969.129 1454.55 Q967.3 1452.37 964.152 1452.37 Q961.004 1452.37 959.152 1454.55 Q957.324 1456.7 957.324 1460.43 Q957.324 1464.18 959.152 1466.33 Q961.004 1468.48 964.152 1468.48 Z\" fill=\"#000000\" fill-rule=\"evenodd\" fill-opacity=\"1\" /><path clip-path=\"url(#clip890)\" d=\"M988.898 1479.92 L1005.22 1479.92 L1005.22 1483.85 L983.273 1483.85 L983.273 1479.92 Q985.935 1477.16 990.518 1472.53 Q995.124 1467.88 996.305 1466.54 Q998.55 1464.01 999.43 1462.28 Q1000.33 1460.52 1000.33 1458.83 Q1000.33 1456.07 998.388 1454.34 Q996.467 1452.6 993.365 1452.6 Q991.166 1452.6 988.712 1453.37 Q986.282 1454.13 983.504 1455.68 L983.504 1450.96 Q986.328 1449.82 988.782 1449.25 Q991.235 1448.67 993.272 1448.67 Q998.643 1448.67 1001.84 1451.35 Q1005.03 1454.04 1005.03 1458.53 Q1005.03 1460.66 1004.22 1462.58 Q1003.43 1464.48 1001.33 1467.07 Q1000.75 1467.74 997.647 1470.96 Q994.546 1474.15 988.898 1479.92 Z\" fill=\"#000000\" fill-rule=\"evenodd\" fill-opacity=\"1\" /><path clip-path=\"url(#clip890)\" d=\"M1025.03 1452.37 Q1021.42 1452.37 1019.59 1455.94 Q1017.79 1459.48 1017.79 1466.61 Q1017.79 1473.71 1019.59 1477.28 Q1021.42 1480.82 1025.03 1480.82 Q1028.67 1480.82 1030.47 1477.28 Q1032.3 1473.71 1032.3 1466.61 Q1032.3 1459.48 1030.47 1455.94 Q1028.67 1452.37 1025.03 1452.37 M1025.03 1448.67 Q1030.84 1448.67 1033.9 1453.27 Q1036.98 1457.86 1036.98 1466.61 Q1036.98 1475.33 1033.9 1479.94 Q1030.84 1484.52 1025.03 1484.52 Q1019.22 1484.52 1016.14 1479.94 Q1013.09 1475.33 1013.09 1466.61 Q1013.09 1457.86 1016.14 1453.27 Q1019.22 1448.67 1025.03 1448.67 Z\" fill=\"#000000\" fill-rule=\"evenodd\" fill-opacity=\"1\" /><path clip-path=\"url(#clip890)\" d=\"M1315.03 1479.92 L1322.67 1479.92 L1322.67 1453.55 L1314.36 1455.22 L1314.36 1450.96 L1322.63 1449.29 L1327.3 1449.29 L1327.3 1479.92 L1334.94 1479.92 L1334.94 1483.85 L1315.03 1483.85 L1315.03 1479.92 Z\" fill=\"#000000\" fill-rule=\"evenodd\" fill-opacity=\"1\" /><path clip-path=\"url(#clip890)\" d=\"M1344.52 1483.13 L1344.52 1478.88 Q1346.28 1479.71 1348.09 1480.15 Q1349.89 1480.59 1351.63 1480.59 Q1356.26 1480.59 1358.69 1477.49 Q1361.14 1474.36 1361.49 1468.02 Q1360.15 1470.01 1358.09 1471.07 Q1356.03 1472.14 1353.53 1472.14 Q1348.34 1472.14 1345.31 1469.01 Q1342.3 1465.87 1342.3 1460.43 Q1342.3 1455.1 1345.45 1451.88 Q1348.6 1448.67 1353.83 1448.67 Q1359.83 1448.67 1362.97 1453.27 Q1366.14 1457.86 1366.14 1466.61 Q1366.14 1474.78 1362.26 1479.66 Q1358.39 1484.52 1351.84 1484.52 Q1350.08 1484.52 1348.27 1484.18 Q1346.47 1483.83 1344.52 1483.13 M1353.83 1468.48 Q1356.98 1468.48 1358.81 1466.33 Q1360.66 1464.18 1360.66 1460.43 Q1360.66 1456.7 1358.81 1454.55 Q1356.98 1452.37 1353.83 1452.37 Q1350.68 1452.37 1348.83 1454.55 Q1347 1456.7 1347 1460.43 Q1347 1464.18 1348.83 1466.33 Q1350.68 1468.48 1353.83 1468.48 Z\" fill=\"#000000\" fill-rule=\"evenodd\" fill-opacity=\"1\" /><path clip-path=\"url(#clip890)\" d=\"M1374.59 1449.29 L1392.95 1449.29 L1392.95 1453.23 L1378.88 1453.23 L1378.88 1461.7 Q1379.89 1461.35 1380.91 1461.19 Q1381.93 1461 1382.95 1461 Q1388.74 1461 1392.12 1464.18 Q1395.5 1467.35 1395.5 1472.76 Q1395.5 1478.34 1392.02 1481.44 Q1388.55 1484.52 1382.23 1484.52 Q1380.06 1484.52 1377.79 1484.15 Q1375.54 1483.78 1373.14 1483.04 L1373.14 1478.34 Q1375.22 1479.48 1377.44 1480.03 Q1379.66 1480.59 1382.14 1480.59 Q1386.14 1480.59 1388.48 1478.48 Q1390.82 1476.38 1390.82 1472.76 Q1390.82 1469.15 1388.48 1467.05 Q1386.14 1464.94 1382.14 1464.94 Q1380.27 1464.94 1378.39 1465.36 Q1376.54 1465.77 1374.59 1466.65 L1374.59 1449.29 Z\" fill=\"#000000\" fill-rule=\"evenodd\" fill-opacity=\"1\" /><path clip-path=\"url(#clip890)\" d=\"M1414.71 1452.37 Q1411.1 1452.37 1409.27 1455.94 Q1407.46 1459.48 1407.46 1466.61 Q1407.46 1473.71 1409.27 1477.28 Q1411.1 1480.82 1414.71 1480.82 Q1418.34 1480.82 1420.15 1477.28 Q1421.98 1473.71 1421.98 1466.61 Q1421.98 1459.48 1420.15 1455.94 Q1418.34 1452.37 1414.71 1452.37 M1414.71 1448.67 Q1420.52 1448.67 1423.58 1453.27 Q1426.65 1457.86 1426.65 1466.61 Q1426.65 1475.33 1423.58 1479.94 Q1420.52 1484.52 1414.71 1484.52 Q1408.9 1484.52 1405.82 1479.94 Q1402.76 1475.33 1402.76 1466.61 Q1402.76 1457.86 1405.82 1453.27 Q1408.9 1448.67 1414.71 1448.67 Z\" fill=\"#000000\" fill-rule=\"evenodd\" fill-opacity=\"1\" /><path clip-path=\"url(#clip890)\" d=\"M1704.71 1479.92 L1712.35 1479.92 L1712.35 1453.55 L1704.04 1455.22 L1704.04 1450.96 L1712.3 1449.29 L1716.98 1449.29 L1716.98 1479.92 L1724.62 1479.92 L1724.62 1483.85 L1704.71 1483.85 L1704.71 1479.92 Z\" fill=\"#000000\" fill-rule=\"evenodd\" fill-opacity=\"1\" /><path clip-path=\"url(#clip890)\" d=\"M1734.2 1483.13 L1734.2 1478.88 Q1735.96 1479.71 1737.77 1480.15 Q1739.57 1480.59 1741.31 1480.59 Q1745.94 1480.59 1748.37 1477.49 Q1750.82 1474.36 1751.17 1468.02 Q1749.83 1470.01 1747.77 1471.07 Q1745.71 1472.14 1743.21 1472.14 Q1738.02 1472.14 1734.99 1469.01 Q1731.98 1465.87 1731.98 1460.43 Q1731.98 1455.1 1735.13 1451.88 Q1738.28 1448.67 1743.51 1448.67 Q1749.5 1448.67 1752.65 1453.27 Q1755.82 1457.86 1755.82 1466.61 Q1755.82 1474.78 1751.93 1479.66 Q1748.07 1484.52 1741.52 1484.52 Q1739.76 1484.52 1737.95 1484.18 Q1736.15 1483.83 1734.2 1483.13 M1743.51 1468.48 Q1746.66 1468.48 1748.48 1466.33 Q1750.34 1464.18 1750.34 1460.43 Q1750.34 1456.7 1748.48 1454.55 Q1746.66 1452.37 1743.51 1452.37 Q1740.36 1452.37 1738.51 1454.55 Q1736.68 1456.7 1736.68 1460.43 Q1736.68 1464.18 1738.51 1466.33 Q1740.36 1468.48 1743.51 1468.48 Z\" fill=\"#000000\" fill-rule=\"evenodd\" fill-opacity=\"1\" /><path clip-path=\"url(#clip890)\" d=\"M1774.23 1467.44 Q1770.89 1467.44 1768.97 1469.22 Q1767.07 1471 1767.07 1474.13 Q1767.07 1477.25 1768.97 1479.04 Q1770.89 1480.82 1774.23 1480.82 Q1777.56 1480.82 1779.48 1479.04 Q1781.4 1477.23 1781.4 1474.13 Q1781.4 1471 1779.48 1469.22 Q1777.58 1467.44 1774.23 1467.44 M1769.55 1465.45 Q1766.54 1464.71 1764.85 1462.65 Q1763.18 1460.59 1763.18 1457.63 Q1763.18 1453.48 1766.12 1451.07 Q1769.09 1448.67 1774.23 1448.67 Q1779.39 1448.67 1782.33 1451.07 Q1785.27 1453.48 1785.27 1457.63 Q1785.27 1460.59 1783.58 1462.65 Q1781.91 1464.71 1778.92 1465.45 Q1782.3 1466.24 1784.18 1468.53 Q1786.08 1470.82 1786.08 1474.13 Q1786.08 1479.15 1783 1481.84 Q1779.94 1484.52 1774.23 1484.52 Q1768.51 1484.52 1765.43 1481.84 Q1762.37 1479.15 1762.37 1474.13 Q1762.37 1470.82 1764.27 1468.53 Q1766.17 1466.24 1769.55 1465.45 M1767.84 1458.06 Q1767.84 1460.75 1769.5 1462.25 Q1771.19 1463.76 1774.23 1463.76 Q1777.23 1463.76 1778.92 1462.25 Q1780.64 1460.75 1780.64 1458.06 Q1780.64 1455.38 1778.92 1453.88 Q1777.23 1452.37 1774.23 1452.37 Q1771.19 1452.37 1769.5 1453.88 Q1767.84 1455.38 1767.84 1458.06 Z\" fill=\"#000000\" fill-rule=\"evenodd\" fill-opacity=\"1\" /><path clip-path=\"url(#clip890)\" d=\"M1804.39 1452.37 Q1800.78 1452.37 1798.95 1455.94 Q1797.14 1459.48 1797.14 1466.61 Q1797.14 1473.71 1798.95 1477.28 Q1800.78 1480.82 1804.39 1480.82 Q1808.02 1480.82 1809.83 1477.28 Q1811.66 1473.71 1811.66 1466.61 Q1811.66 1459.48 1809.83 1455.94 Q1808.02 1452.37 1804.39 1452.37 M1804.39 1448.67 Q1810.2 1448.67 1813.25 1453.27 Q1816.33 1457.86 1816.33 1466.61 Q1816.33 1475.33 1813.25 1479.94 Q1810.2 1484.52 1804.39 1484.52 Q1798.58 1484.52 1795.5 1479.94 Q1792.44 1475.33 1792.44 1466.61 Q1792.44 1457.86 1795.5 1453.27 Q1798.58 1448.67 1804.39 1448.67 Z\" fill=\"#000000\" fill-rule=\"evenodd\" fill-opacity=\"1\" /><path clip-path=\"url(#clip890)\" d=\"M2098.48 1479.92 L2114.79 1479.92 L2114.79 1483.85 L2092.85 1483.85 L2092.85 1479.92 Q2095.51 1477.16 2100.1 1472.53 Q2104.7 1467.88 2105.88 1466.54 Q2108.13 1464.01 2109.01 1462.28 Q2109.91 1460.52 2109.91 1458.83 Q2109.91 1456.07 2107.97 1454.34 Q2106.04 1452.6 2102.94 1452.6 Q2100.74 1452.6 2098.29 1453.37 Q2095.86 1454.13 2093.08 1455.68 L2093.08 1450.96 Q2095.91 1449.82 2098.36 1449.25 Q2100.81 1448.67 2102.85 1448.67 Q2108.22 1448.67 2111.41 1451.35 Q2114.61 1454.04 2114.61 1458.53 Q2114.61 1460.66 2113.8 1462.58 Q2113.01 1464.48 2110.91 1467.07 Q2110.33 1467.74 2107.23 1470.96 Q2104.12 1474.15 2098.48 1479.92 Z\" fill=\"#000000\" fill-rule=\"evenodd\" fill-opacity=\"1\" /><path clip-path=\"url(#clip890)\" d=\"M2134.61 1452.37 Q2131 1452.37 2129.17 1455.94 Q2127.36 1459.48 2127.36 1466.61 Q2127.36 1473.71 2129.17 1477.28 Q2131 1480.82 2134.61 1480.82 Q2138.24 1480.82 2140.05 1477.28 Q2141.88 1473.71 2141.88 1466.61 Q2141.88 1459.48 2140.05 1455.94 Q2138.24 1452.37 2134.61 1452.37 M2134.61 1448.67 Q2140.42 1448.67 2143.47 1453.27 Q2146.55 1457.86 2146.55 1466.61 Q2146.55 1475.33 2143.47 1479.94 Q2140.42 1484.52 2134.61 1484.52 Q2128.8 1484.52 2125.72 1479.94 Q2122.66 1475.33 2122.66 1466.61 Q2122.66 1457.86 2125.72 1453.27 Q2128.8 1448.67 2134.61 1448.67 Z\" fill=\"#000000\" fill-rule=\"evenodd\" fill-opacity=\"1\" /><path clip-path=\"url(#clip890)\" d=\"M2155.58 1479.92 L2163.22 1479.92 L2163.22 1453.55 L2154.91 1455.22 L2154.91 1450.96 L2163.17 1449.29 L2167.85 1449.29 L2167.85 1479.92 L2175.49 1479.92 L2175.49 1483.85 L2155.58 1483.85 L2155.58 1479.92 Z\" fill=\"#000000\" fill-rule=\"evenodd\" fill-opacity=\"1\" /><path clip-path=\"url(#clip890)\" d=\"M2194.93 1452.37 Q2191.32 1452.37 2189.49 1455.94 Q2187.69 1459.48 2187.69 1466.61 Q2187.69 1473.71 2189.49 1477.28 Q2191.32 1480.82 2194.93 1480.82 Q2198.57 1480.82 2200.37 1477.28 Q2202.2 1473.71 2202.2 1466.61 Q2202.2 1459.48 2200.37 1455.94 Q2198.57 1452.37 2194.93 1452.37 M2194.93 1448.67 Q2200.74 1448.67 2203.8 1453.27 Q2206.88 1457.86 2206.88 1466.61 Q2206.88 1475.33 2203.8 1479.94 Q2200.74 1484.52 2194.93 1484.52 Q2189.12 1484.52 2186.04 1479.94 Q2182.99 1475.33 2182.99 1466.61 Q2182.99 1457.86 2186.04 1453.27 Q2189.12 1448.67 2194.93 1448.67 Z\" fill=\"#000000\" fill-rule=\"evenodd\" fill-opacity=\"1\" /><path clip-path=\"url(#clip890)\" d=\"M1086.36 1520.52 L1116.4 1520.52 L1116.4 1525.93 L1092.78 1525.93 L1092.78 1540 L1115.42 1540 L1115.42 1545.41 L1092.78 1545.41 L1092.78 1562.63 L1116.97 1562.63 L1116.97 1568.04 L1086.36 1568.04 L1086.36 1520.52 Z\" fill=\"#000000\" fill-rule=\"evenodd\" fill-opacity=\"1\" /><path clip-path=\"url(#clip890)\" d=\"M1127.29 1518.52 L1133.14 1518.52 L1133.14 1568.04 L1127.29 1568.04 L1127.29 1518.52 Z\" fill=\"#000000\" fill-rule=\"evenodd\" fill-opacity=\"1\" /><path clip-path=\"url(#clip890)\" d=\"M1175.89 1548.76 L1175.89 1551.62 L1148.96 1551.62 Q1149.34 1557.67 1152.59 1560.85 Q1155.87 1564 1161.69 1564 Q1165.07 1564 1168.22 1563.17 Q1171.4 1562.35 1174.52 1560.69 L1174.52 1566.23 Q1171.37 1567.57 1168.06 1568.27 Q1164.75 1568.97 1161.34 1568.97 Q1152.81 1568.97 1147.82 1564 Q1142.85 1559.04 1142.85 1550.57 Q1142.85 1541.82 1147.56 1536.69 Q1152.3 1531.54 1160.33 1531.54 Q1167.52 1531.54 1171.69 1536.18 Q1175.89 1540.8 1175.89 1548.76 M1170.03 1547.04 Q1169.97 1542.23 1167.33 1539.37 Q1164.72 1536.5 1160.39 1536.5 Q1155.49 1536.5 1152.53 1539.27 Q1149.6 1542.04 1149.15 1547.07 L1170.03 1547.04 Z\" fill=\"#000000\" fill-rule=\"evenodd\" fill-opacity=\"1\" /><path clip-path=\"url(#clip890)\" d=\"M1211.16 1533.76 L1211.16 1539.24 Q1208.67 1537.87 1206.16 1537.2 Q1203.68 1536.5 1201.13 1536.5 Q1195.43 1536.5 1192.28 1540.13 Q1189.13 1543.73 1189.13 1550.25 Q1189.13 1556.78 1192.28 1560.4 Q1195.43 1564 1201.13 1564 Q1203.68 1564 1206.16 1563.33 Q1208.67 1562.63 1211.16 1561.26 L1211.16 1566.68 Q1208.7 1567.82 1206.06 1568.39 Q1203.45 1568.97 1200.49 1568.97 Q1192.44 1568.97 1187.7 1563.91 Q1182.96 1558.85 1182.96 1550.25 Q1182.96 1541.53 1187.73 1536.53 Q1192.54 1531.54 1200.87 1531.54 Q1203.58 1531.54 1206.16 1532.11 Q1208.74 1532.65 1211.16 1533.76 Z\" fill=\"#000000\" fill-rule=\"evenodd\" fill-opacity=\"1\" /><path clip-path=\"url(#clip890)\" d=\"M1227.13 1522.27 L1227.13 1532.4 L1239.2 1532.4 L1239.2 1536.95 L1227.13 1536.95 L1227.13 1556.3 Q1227.13 1560.66 1228.31 1561.9 Q1229.52 1563.14 1233.18 1563.14 L1239.2 1563.14 L1239.2 1568.04 L1233.18 1568.04 Q1226.4 1568.04 1223.82 1565.53 Q1221.24 1562.98 1221.24 1556.3 L1221.24 1536.95 L1216.95 1536.95 L1216.95 1532.4 L1221.24 1532.4 L1221.24 1522.27 L1227.13 1522.27 Z\" fill=\"#000000\" fill-rule=\"evenodd\" fill-opacity=\"1\" /><path clip-path=\"url(#clip890)\" d=\"M1246.9 1532.4 L1252.76 1532.4 L1252.76 1568.04 L1246.9 1568.04 L1246.9 1532.4 M1246.9 1518.52 L1252.76 1518.52 L1252.76 1525.93 L1246.9 1525.93 L1246.9 1518.52 Z\" fill=\"#000000\" fill-rule=\"evenodd\" fill-opacity=\"1\" /><path clip-path=\"url(#clip890)\" d=\"M1278.82 1536.5 Q1274.11 1536.5 1271.37 1540.19 Q1268.64 1543.85 1268.64 1550.25 Q1268.64 1556.65 1271.34 1560.34 Q1274.08 1564 1278.82 1564 Q1283.5 1564 1286.24 1560.31 Q1288.98 1556.62 1288.98 1550.25 Q1288.98 1543.92 1286.24 1540.23 Q1283.5 1536.5 1278.82 1536.5 M1278.82 1531.54 Q1286.46 1531.54 1290.82 1536.5 Q1295.18 1541.47 1295.18 1550.25 Q1295.18 1559 1290.82 1564 Q1286.46 1568.97 1278.82 1568.97 Q1271.15 1568.97 1266.79 1564 Q1262.46 1559 1262.46 1550.25 Q1262.46 1541.47 1266.79 1536.5 Q1271.15 1531.54 1278.82 1531.54 Z\" fill=\"#000000\" fill-rule=\"evenodd\" fill-opacity=\"1\" /><path clip-path=\"url(#clip890)\" d=\"M1334.52 1546.53 L1334.52 1568.04 L1328.67 1568.04 L1328.67 1546.72 Q1328.67 1541.66 1326.69 1539.14 Q1324.72 1536.63 1320.77 1536.63 Q1316.03 1536.63 1313.29 1539.65 Q1310.56 1542.68 1310.56 1547.9 L1310.56 1568.04 L1304.67 1568.04 L1304.67 1532.4 L1310.56 1532.4 L1310.56 1537.93 Q1312.66 1534.72 1315.49 1533.13 Q1318.35 1531.54 1322.08 1531.54 Q1328.22 1531.54 1331.37 1535.36 Q1334.52 1539.14 1334.52 1546.53 Z\" fill=\"#000000\" fill-rule=\"evenodd\" fill-opacity=\"1\" /><path clip-path=\"url(#clip890)\" d=\"M1360.65 1520.52 L1367.56 1520.52 L1380.74 1540.07 L1393.82 1520.52 L1400.73 1520.52 L1383.92 1545.41 L1383.92 1568.04 L1377.46 1568.04 L1377.46 1545.41 L1360.65 1520.52 Z\" fill=\"#000000\" fill-rule=\"evenodd\" fill-opacity=\"1\" /><path clip-path=\"url(#clip890)\" d=\"M1428.58 1548.76 L1428.58 1551.62 L1401.65 1551.62 Q1402.03 1557.67 1405.28 1560.85 Q1408.56 1564 1414.38 1564 Q1417.75 1564 1420.91 1563.17 Q1424.09 1562.35 1427.21 1560.69 L1427.21 1566.23 Q1424.06 1567.57 1420.75 1568.27 Q1417.44 1568.97 1414.03 1568.97 Q1405.5 1568.97 1400.5 1564 Q1395.54 1559.04 1395.54 1550.57 Q1395.54 1541.82 1400.25 1536.69 Q1404.99 1531.54 1413.01 1531.54 Q1420.21 1531.54 1424.37 1536.18 Q1428.58 1540.8 1428.58 1548.76 M1422.72 1547.04 Q1422.66 1542.23 1420.01 1539.37 Q1417.4 1536.5 1413.08 1536.5 Q1408.17 1536.5 1405.21 1539.27 Q1402.29 1542.04 1401.84 1547.07 L1422.72 1547.04 Z\" fill=\"#000000\" fill-rule=\"evenodd\" fill-opacity=\"1\" /><path clip-path=\"url(#clip890)\" d=\"M1454.39 1550.12 Q1447.29 1550.12 1444.55 1551.75 Q1441.82 1553.37 1441.82 1557.29 Q1441.82 1560.4 1443.85 1562.25 Q1445.92 1564.07 1449.46 1564.07 Q1454.33 1564.07 1457.25 1560.63 Q1460.21 1557.16 1460.21 1551.43 L1460.21 1550.12 L1454.39 1550.12 M1466.07 1547.71 L1466.07 1568.04 L1460.21 1568.04 L1460.21 1562.63 Q1458.21 1565.88 1455.22 1567.44 Q1452.22 1568.97 1447.9 1568.97 Q1442.42 1568.97 1439.17 1565.91 Q1435.96 1562.82 1435.96 1557.67 Q1435.96 1551.65 1439.97 1548.6 Q1444.01 1545.54 1452 1545.54 L1460.21 1545.54 L1460.21 1544.97 Q1460.21 1540.93 1457.54 1538.73 Q1454.9 1536.5 1450.09 1536.5 Q1447.04 1536.5 1444.14 1537.23 Q1441.24 1537.97 1438.57 1539.43 L1438.57 1534.02 Q1441.78 1532.78 1444.81 1532.17 Q1447.83 1531.54 1450.7 1531.54 Q1458.43 1531.54 1462.25 1535.55 Q1466.07 1539.56 1466.07 1547.71 Z\" fill=\"#000000\" fill-rule=\"evenodd\" fill-opacity=\"1\" /><path clip-path=\"url(#clip890)\" d=\"M1498.79 1537.87 Q1497.8 1537.3 1496.63 1537.04 Q1495.48 1536.76 1494.08 1536.76 Q1489.11 1536.76 1486.44 1540 Q1483.8 1543.22 1483.8 1549.27 L1483.8 1568.04 L1477.91 1568.04 L1477.91 1532.4 L1483.8 1532.4 L1483.8 1537.93 Q1485.64 1534.69 1488.6 1533.13 Q1491.56 1531.54 1495.8 1531.54 Q1496.4 1531.54 1497.13 1531.63 Q1497.87 1531.7 1498.76 1531.85 L1498.79 1537.87 Z\" fill=\"#000000\" fill-rule=\"evenodd\" fill-opacity=\"1\" /><polyline clip-path=\"url(#clip892)\" style=\"stroke:#000000; stroke-linecap:butt; stroke-linejoin:round; stroke-width:2; stroke-opacity:0.1; fill:none\" points=\"\n",
       "  232.389,1407.18 2352.76,1407.18 \n",
       "  \"/>\n",
       "<polyline clip-path=\"url(#clip892)\" style=\"stroke:#000000; stroke-linecap:butt; stroke-linejoin:round; stroke-width:2; stroke-opacity:0.1; fill:none\" points=\"\n",
       "  232.389,1164.84 2352.76,1164.84 \n",
       "  \"/>\n",
       "<polyline clip-path=\"url(#clip892)\" style=\"stroke:#000000; stroke-linecap:butt; stroke-linejoin:round; stroke-width:2; stroke-opacity:0.1; fill:none\" points=\"\n",
       "  232.389,922.488 2352.76,922.488 \n",
       "  \"/>\n",
       "<polyline clip-path=\"url(#clip892)\" style=\"stroke:#000000; stroke-linecap:butt; stroke-linejoin:round; stroke-width:2; stroke-opacity:0.1; fill:none\" points=\"\n",
       "  232.389,680.141 2352.76,680.141 \n",
       "  \"/>\n",
       "<polyline clip-path=\"url(#clip892)\" style=\"stroke:#000000; stroke-linecap:butt; stroke-linejoin:round; stroke-width:2; stroke-opacity:0.1; fill:none\" points=\"\n",
       "  232.389,437.794 2352.76,437.794 \n",
       "  \"/>\n",
       "<polyline clip-path=\"url(#clip892)\" style=\"stroke:#000000; stroke-linecap:butt; stroke-linejoin:round; stroke-width:2; stroke-opacity:0.1; fill:none\" points=\"\n",
       "  232.389,195.447 2352.76,195.447 \n",
       "  \"/>\n",
       "<polyline clip-path=\"url(#clip890)\" style=\"stroke:#000000; stroke-linecap:butt; stroke-linejoin:round; stroke-width:4; stroke-opacity:1; fill:none\" points=\"\n",
       "  232.389,1423.18 232.389,47.2441 \n",
       "  \"/>\n",
       "<polyline clip-path=\"url(#clip890)\" style=\"stroke:#000000; stroke-linecap:butt; stroke-linejoin:round; stroke-width:4; stroke-opacity:1; fill:none\" points=\"\n",
       "  232.389,1407.18 257.834,1407.18 \n",
       "  \"/>\n",
       "<polyline clip-path=\"url(#clip890)\" style=\"stroke:#000000; stroke-linecap:butt; stroke-linejoin:round; stroke-width:4; stroke-opacity:1; fill:none\" points=\"\n",
       "  232.389,1164.84 257.834,1164.84 \n",
       "  \"/>\n",
       "<polyline clip-path=\"url(#clip890)\" style=\"stroke:#000000; stroke-linecap:butt; stroke-linejoin:round; stroke-width:4; stroke-opacity:1; fill:none\" points=\"\n",
       "  232.389,922.488 257.834,922.488 \n",
       "  \"/>\n",
       "<polyline clip-path=\"url(#clip890)\" style=\"stroke:#000000; stroke-linecap:butt; stroke-linejoin:round; stroke-width:4; stroke-opacity:1; fill:none\" points=\"\n",
       "  232.389,680.141 257.834,680.141 \n",
       "  \"/>\n",
       "<polyline clip-path=\"url(#clip890)\" style=\"stroke:#000000; stroke-linecap:butt; stroke-linejoin:round; stroke-width:4; stroke-opacity:1; fill:none\" points=\"\n",
       "  232.389,437.794 257.834,437.794 \n",
       "  \"/>\n",
       "<polyline clip-path=\"url(#clip890)\" style=\"stroke:#000000; stroke-linecap:butt; stroke-linejoin:round; stroke-width:4; stroke-opacity:1; fill:none\" points=\"\n",
       "  232.389,195.447 257.834,195.447 \n",
       "  \"/>\n",
       "<path clip-path=\"url(#clip890)\" d=\"M184.445 1392.98 Q180.834 1392.98 179.005 1396.55 Q177.2 1400.09 177.2 1407.22 Q177.2 1414.32 179.005 1417.89 Q180.834 1421.43 184.445 1421.43 Q188.079 1421.43 189.885 1417.89 Q191.713 1414.32 191.713 1407.22 Q191.713 1400.09 189.885 1396.55 Q188.079 1392.98 184.445 1392.98 M184.445 1389.28 Q190.255 1389.28 193.311 1393.88 Q196.389 1398.47 196.389 1407.22 Q196.389 1415.94 193.311 1420.55 Q190.255 1425.13 184.445 1425.13 Q178.635 1425.13 175.556 1420.55 Q172.501 1415.94 172.501 1407.22 Q172.501 1398.47 175.556 1393.88 Q178.635 1389.28 184.445 1389.28 Z\" fill=\"#000000\" fill-rule=\"evenodd\" fill-opacity=\"1\" /><path clip-path=\"url(#clip890)\" d=\"M149.306 1178.18 L165.626 1178.18 L165.626 1182.12 L143.681 1182.12 L143.681 1178.18 Q146.343 1175.43 150.927 1170.8 Q155.533 1166.14 156.714 1164.8 Q158.959 1162.28 159.839 1160.54 Q160.741 1158.78 160.741 1157.09 Q160.741 1154.34 158.797 1152.6 Q156.876 1150.87 153.774 1150.87 Q151.575 1150.87 149.121 1151.63 Q146.691 1152.39 143.913 1153.94 L143.913 1149.22 Q146.737 1148.09 149.191 1147.51 Q151.644 1146.93 153.681 1146.93 Q159.052 1146.93 162.246 1149.62 Q165.44 1152.3 165.44 1156.79 Q165.44 1158.92 164.63 1160.84 Q163.843 1162.74 161.737 1165.33 Q161.158 1166 158.056 1169.22 Q154.954 1172.42 149.306 1178.18 Z\" fill=\"#000000\" fill-rule=\"evenodd\" fill-opacity=\"1\" /><path clip-path=\"url(#clip890)\" d=\"M175.487 1147.56 L193.843 1147.56 L193.843 1151.49 L179.769 1151.49 L179.769 1159.96 Q180.788 1159.62 181.806 1159.45 Q182.825 1159.27 183.843 1159.27 Q189.63 1159.27 193.01 1162.44 Q196.389 1165.61 196.389 1171.03 Q196.389 1176.61 192.917 1179.71 Q189.445 1182.79 183.126 1182.79 Q180.95 1182.79 178.681 1182.42 Q176.436 1182.05 174.028 1181.31 L174.028 1176.61 Q176.112 1177.74 178.334 1178.3 Q180.556 1178.85 183.033 1178.85 Q187.038 1178.85 189.375 1176.74 Q191.713 1174.64 191.713 1171.03 Q191.713 1167.42 189.375 1165.31 Q187.038 1163.2 183.033 1163.2 Q181.158 1163.2 179.283 1163.62 Q177.431 1164.04 175.487 1164.92 L175.487 1147.56 Z\" fill=\"#000000\" fill-rule=\"evenodd\" fill-opacity=\"1\" /><path clip-path=\"url(#clip890)\" d=\"M144.329 905.208 L162.686 905.208 L162.686 909.143 L148.612 909.143 L148.612 917.616 Q149.63 917.268 150.649 917.106 Q151.667 916.921 152.686 916.921 Q158.473 916.921 161.852 920.092 Q165.232 923.264 165.232 928.68 Q165.232 934.259 161.76 937.361 Q158.288 940.44 151.968 940.44 Q149.792 940.44 147.524 940.069 Q145.279 939.699 142.871 938.958 L142.871 934.259 Q144.954 935.393 147.177 935.949 Q149.399 936.504 151.876 936.504 Q155.88 936.504 158.218 934.398 Q160.556 932.291 160.556 928.68 Q160.556 925.069 158.218 922.963 Q155.88 920.856 151.876 920.856 Q150.001 920.856 148.126 921.273 Q146.274 921.69 144.329 922.569 L144.329 905.208 Z\" fill=\"#000000\" fill-rule=\"evenodd\" fill-opacity=\"1\" /><path clip-path=\"url(#clip890)\" d=\"M184.445 908.287 Q180.834 908.287 179.005 911.852 Q177.2 915.393 177.2 922.523 Q177.2 929.629 179.005 933.194 Q180.834 936.736 184.445 936.736 Q188.079 936.736 189.885 933.194 Q191.713 929.629 191.713 922.523 Q191.713 915.393 189.885 911.852 Q188.079 908.287 184.445 908.287 M184.445 904.583 Q190.255 904.583 193.311 909.19 Q196.389 913.773 196.389 922.523 Q196.389 931.25 193.311 935.856 Q190.255 940.44 184.445 940.44 Q178.635 940.44 175.556 935.856 Q172.501 931.25 172.501 922.523 Q172.501 913.773 175.556 909.19 Q178.635 904.583 184.445 904.583 Z\" fill=\"#000000\" fill-rule=\"evenodd\" fill-opacity=\"1\" /><path clip-path=\"url(#clip890)\" d=\"M144.098 662.861 L166.32 662.861 L166.32 664.852 L153.774 697.421 L148.89 697.421 L160.695 666.796 L144.098 666.796 L144.098 662.861 Z\" fill=\"#000000\" fill-rule=\"evenodd\" fill-opacity=\"1\" /><path clip-path=\"url(#clip890)\" d=\"M175.487 662.861 L193.843 662.861 L193.843 666.796 L179.769 666.796 L179.769 675.269 Q180.788 674.921 181.806 674.759 Q182.825 674.574 183.843 674.574 Q189.63 674.574 193.01 677.745 Q196.389 680.917 196.389 686.333 Q196.389 691.912 192.917 695.014 Q189.445 698.093 183.126 698.093 Q180.95 698.093 178.681 697.722 Q176.436 697.352 174.028 696.611 L174.028 691.912 Q176.112 693.046 178.334 693.602 Q180.556 694.157 183.033 694.157 Q187.038 694.157 189.375 692.051 Q191.713 689.944 191.713 686.333 Q191.713 682.722 189.375 680.616 Q187.038 678.509 183.033 678.509 Q181.158 678.509 179.283 678.926 Q177.431 679.343 175.487 680.222 L175.487 662.861 Z\" fill=\"#000000\" fill-rule=\"evenodd\" fill-opacity=\"1\" /><path clip-path=\"url(#clip890)\" d=\"M114.931 451.139 L122.57 451.139 L122.57 424.773 L114.26 426.44 L114.26 422.181 L122.524 420.514 L127.2 420.514 L127.2 451.139 L134.839 451.139 L134.839 455.074 L114.931 455.074 L114.931 451.139 Z\" fill=\"#000000\" fill-rule=\"evenodd\" fill-opacity=\"1\" /><path clip-path=\"url(#clip890)\" d=\"M154.283 423.593 Q150.672 423.593 148.843 427.158 Q147.038 430.699 147.038 437.829 Q147.038 444.935 148.843 448.5 Q150.672 452.042 154.283 452.042 Q157.917 452.042 159.723 448.5 Q161.552 444.935 161.552 437.829 Q161.552 430.699 159.723 427.158 Q157.917 423.593 154.283 423.593 M154.283 419.889 Q160.093 419.889 163.149 424.496 Q166.227 429.079 166.227 437.829 Q166.227 446.556 163.149 451.162 Q160.093 455.746 154.283 455.746 Q148.473 455.746 145.394 451.162 Q142.339 446.556 142.339 437.829 Q142.339 429.079 145.394 424.496 Q148.473 419.889 154.283 419.889 Z\" fill=\"#000000\" fill-rule=\"evenodd\" fill-opacity=\"1\" /><path clip-path=\"url(#clip890)\" d=\"M184.445 423.593 Q180.834 423.593 179.005 427.158 Q177.2 430.699 177.2 437.829 Q177.2 444.935 179.005 448.5 Q180.834 452.042 184.445 452.042 Q188.079 452.042 189.885 448.5 Q191.713 444.935 191.713 437.829 Q191.713 430.699 189.885 427.158 Q188.079 423.593 184.445 423.593 M184.445 419.889 Q190.255 419.889 193.311 424.496 Q196.389 429.079 196.389 437.829 Q196.389 446.556 193.311 451.162 Q190.255 455.746 184.445 455.746 Q178.635 455.746 175.556 451.162 Q172.501 446.556 172.501 437.829 Q172.501 429.079 175.556 424.496 Q178.635 419.889 184.445 419.889 Z\" fill=\"#000000\" fill-rule=\"evenodd\" fill-opacity=\"1\" /><path clip-path=\"url(#clip890)\" d=\"M115.927 208.792 L123.566 208.792 L123.566 182.426 L115.256 184.093 L115.256 179.834 L123.519 178.167 L128.195 178.167 L128.195 208.792 L135.834 208.792 L135.834 212.727 L115.927 212.727 L115.927 208.792 Z\" fill=\"#000000\" fill-rule=\"evenodd\" fill-opacity=\"1\" /><path clip-path=\"url(#clip890)\" d=\"M149.306 208.792 L165.626 208.792 L165.626 212.727 L143.681 212.727 L143.681 208.792 Q146.343 206.037 150.927 201.408 Q155.533 196.755 156.714 195.412 Q158.959 192.889 159.839 191.153 Q160.741 189.394 160.741 187.704 Q160.741 184.95 158.797 183.213 Q156.876 181.477 153.774 181.477 Q151.575 181.477 149.121 182.241 Q146.691 183.005 143.913 184.556 L143.913 179.834 Q146.737 178.7 149.191 178.121 Q151.644 177.542 153.681 177.542 Q159.052 177.542 162.246 180.227 Q165.44 182.913 165.44 187.403 Q165.44 189.533 164.63 191.454 Q163.843 193.352 161.737 195.945 Q161.158 196.616 158.056 199.834 Q154.954 203.028 149.306 208.792 Z\" fill=\"#000000\" fill-rule=\"evenodd\" fill-opacity=\"1\" /><path clip-path=\"url(#clip890)\" d=\"M175.487 178.167 L193.843 178.167 L193.843 182.102 L179.769 182.102 L179.769 190.575 Q180.788 190.227 181.806 190.065 Q182.825 189.88 183.843 189.88 Q189.63 189.88 193.01 193.051 Q196.389 196.223 196.389 201.639 Q196.389 207.218 192.917 210.32 Q189.445 213.399 183.126 213.399 Q180.95 213.399 178.681 213.028 Q176.436 212.658 174.028 211.917 L174.028 207.218 Q176.112 208.352 178.334 208.908 Q180.556 209.463 183.033 209.463 Q187.038 209.463 189.375 207.357 Q191.713 205.25 191.713 201.639 Q191.713 198.028 189.375 195.922 Q187.038 193.815 183.033 193.815 Q181.158 193.815 179.283 194.232 Q177.431 194.649 175.487 195.528 L175.487 178.167 Z\" fill=\"#000000\" fill-rule=\"evenodd\" fill-opacity=\"1\" /><path clip-path=\"url(#clip890)\" d=\"M43.0928 1090.66 Q43.0928 1093.43 45.4481 1095.02 Q47.8034 1096.58 52.0048 1096.58 Q56.1425 1096.58 58.5296 1095.02 Q60.885 1093.43 60.885 1090.66 Q60.885 1087.95 58.5296 1086.39 Q56.1425 1084.8 52.0048 1084.8 Q47.8353 1084.8 45.48 1086.39 Q43.0928 1087.95 43.0928 1090.66 M39.0506 1090.66 Q39.0506 1085.63 42.5517 1082.67 Q46.0529 1079.71 52.0048 1079.71 Q57.9567 1079.71 61.4579 1082.7 Q64.9272 1085.66 64.9272 1090.66 Q64.9272 1095.75 61.4579 1098.71 Q57.9567 1101.67 52.0048 1101.67 Q46.021 1101.67 42.5517 1098.71 Q39.0506 1095.72 39.0506 1090.66 M19.667 1123.5 Q19.667 1126.24 22.0542 1127.83 Q24.4095 1129.39 28.5472 1129.39 Q32.7485 1129.39 35.1038 1127.83 Q37.4592 1126.27 37.4592 1123.5 Q37.4592 1120.74 35.1038 1119.18 Q32.7485 1117.58 28.5472 1117.58 Q24.4413 1117.58 22.0542 1119.18 Q19.667 1120.77 19.667 1123.5 M15.6248 1094.76 L15.6248 1089.67 L64.9272 1119.4 L64.9272 1124.49 L15.6248 1094.76 M15.6248 1123.5 Q15.6248 1118.48 19.1259 1115.48 Q22.5952 1112.49 28.5472 1112.49 Q34.5628 1112.49 38.0321 1115.48 Q41.5014 1118.44 41.5014 1123.5 Q41.5014 1128.56 38.0321 1131.52 Q34.5309 1134.45 28.5472 1134.45 Q22.6271 1134.45 19.1259 1131.49 Q15.6248 1128.53 15.6248 1123.5 Z\" fill=\"#000000\" fill-rule=\"evenodd\" fill-opacity=\"1\" /><path clip-path=\"url(#clip890)\" d=\"M22.818 1033.11 L46.4666 1041.83 L46.4666 1024.36 L22.818 1033.11 M16.4842 1036.74 L16.4842 1029.45 L64.0042 1011.34 L64.0042 1018.02 L51.8138 1022.35 L51.8138 1043.77 L64.0042 1048.1 L64.0042 1054.88 L16.4842 1036.74 Z\" fill=\"#000000\" fill-rule=\"evenodd\" fill-opacity=\"1\" /><path clip-path=\"url(#clip890)\" d=\"M46.212 979.066 Q39.7508 979.066 36.0905 981.74 Q32.3984 984.382 32.3984 989.029 Q32.3984 993.676 36.0905 996.349 Q39.7508 998.991 46.212 998.991 Q52.6732 998.991 56.3653 996.349 Q60.0256 993.676 60.0256 989.029 Q60.0256 984.382 56.3653 981.74 Q52.6732 979.066 46.212 979.066 M33.7671 998.991 Q30.5842 997.145 29.0564 994.344 Q27.4968 991.511 27.4968 987.596 Q27.4968 981.103 32.6531 977.061 Q37.8093 972.987 46.212 972.987 Q54.6147 972.987 59.771 977.061 Q64.9272 981.103 64.9272 987.596 Q64.9272 991.511 63.3994 994.344 Q61.8398 997.145 58.657 998.991 L64.0042 998.991 L64.0042 1004.88 L14.479 1004.88 L14.479 998.991 L33.7671 998.991 Z\" fill=\"#000000\" fill-rule=\"evenodd\" fill-opacity=\"1\" /><path clip-path=\"url(#clip890)\" d=\"M29.4065 940.554 L34.9447 940.554 Q33.6716 943.036 33.035 945.71 Q32.3984 948.384 32.3984 951.248 Q32.3984 955.609 33.7352 957.805 Q35.072 959.969 37.7456 959.969 Q39.7826 959.969 40.9603 958.41 Q42.1061 956.85 43.1565 952.139 L43.6021 950.134 Q44.9389 943.896 47.3897 941.286 Q49.8086 938.644 54.1691 938.644 Q59.1344 938.644 62.0308 942.591 Q64.9272 946.506 64.9272 953.381 Q64.9272 956.245 64.3543 959.364 Q63.8132 962.452 62.6992 965.889 L56.6518 965.889 Q58.3387 962.643 59.198 959.492 Q60.0256 956.341 60.0256 953.253 Q60.0256 949.116 58.6251 946.888 Q57.1929 944.66 54.6147 944.66 Q52.2276 944.66 50.9545 946.283 Q49.6813 947.874 48.5037 953.317 L48.0262 955.354 Q46.8804 960.797 44.5251 963.216 Q42.138 965.635 38.0002 965.635 Q32.9713 965.635 30.2341 962.07 Q27.4968 958.505 27.4968 951.948 Q27.4968 948.702 27.9743 945.837 Q28.4517 942.973 29.4065 940.554 Z\" fill=\"#000000\" fill-rule=\"evenodd\" fill-opacity=\"1\" /><path clip-path=\"url(#clip890)\" d=\"M32.4621 915.505 Q32.4621 920.215 36.1542 922.953 Q39.8145 925.69 46.212 925.69 Q52.6095 925.69 56.3017 922.984 Q59.9619 920.247 59.9619 915.505 Q59.9619 910.826 56.2698 908.089 Q52.5777 905.351 46.212 905.351 Q39.8781 905.351 36.186 908.089 Q32.4621 910.826 32.4621 915.505 M27.4968 915.505 Q27.4968 907.866 32.4621 903.505 Q37.4273 899.145 46.212 899.145 Q54.9649 899.145 59.9619 903.505 Q64.9272 907.866 64.9272 915.505 Q64.9272 923.175 59.9619 927.536 Q54.9649 931.865 46.212 931.865 Q37.4273 931.865 32.4621 927.536 Q27.4968 923.175 27.4968 915.505 Z\" fill=\"#000000\" fill-rule=\"evenodd\" fill-opacity=\"1\" /><path clip-path=\"url(#clip890)\" d=\"M14.479 889.437 L14.479 883.581 L64.0042 883.581 L64.0042 889.437 L14.479 889.437 Z\" fill=\"#000000\" fill-rule=\"evenodd\" fill-opacity=\"1\" /><path clip-path=\"url(#clip890)\" d=\"M49.9359 871.931 L28.3562 871.931 L28.3562 866.075 L49.7131 866.075 Q54.7739 866.075 57.3202 864.102 Q59.8346 862.128 59.8346 858.182 Q59.8346 853.439 56.8109 850.702 Q53.7872 847.933 48.5673 847.933 L28.3562 847.933 L28.3562 842.076 L64.0042 842.076 L64.0042 847.933 L58.5296 847.933 Q61.7762 850.065 63.3676 852.898 Q64.9272 855.699 64.9272 859.423 Q64.9272 865.566 61.1078 868.749 Q57.2883 871.931 49.9359 871.931 M27.4968 857.195 L27.4968 857.195 Z\" fill=\"#000000\" fill-rule=\"evenodd\" fill-opacity=\"1\" /><path clip-path=\"url(#clip890)\" d=\"M18.2347 824.22 L28.3562 824.22 L28.3562 812.157 L32.9077 812.157 L32.9077 824.22 L52.2594 824.22 Q56.6199 824.22 57.8613 823.043 Q59.1026 821.833 59.1026 818.173 L59.1026 812.157 L64.0042 812.157 L64.0042 818.173 Q64.0042 824.953 61.4897 827.531 Q58.9434 830.109 52.2594 830.109 L32.9077 830.109 L32.9077 834.406 L28.3562 834.406 L28.3562 830.109 L18.2347 830.109 L18.2347 824.22 Z\" fill=\"#000000\" fill-rule=\"evenodd\" fill-opacity=\"1\" /><path clip-path=\"url(#clip890)\" d=\"M44.7161 773.963 L47.5806 773.963 L47.5806 800.89 Q53.6281 800.508 56.8109 797.262 Q59.9619 793.983 59.9619 788.159 Q59.9619 784.785 59.1344 781.634 Q58.3069 778.451 56.6518 775.332 L62.1899 775.332 Q63.5267 778.483 64.227 781.793 Q64.9272 785.103 64.9272 788.509 Q64.9272 797.039 59.9619 802.036 Q54.9967 807.001 46.5303 807.001 Q37.7774 807.001 32.6531 802.291 Q27.4968 797.548 27.4968 789.527 Q27.4968 782.334 32.1438 778.165 Q36.7589 773.963 44.7161 773.963 M42.9973 779.82 Q38.1912 779.883 35.3266 782.525 Q32.4621 785.135 32.4621 789.464 Q32.4621 794.365 35.2312 797.325 Q38.0002 800.254 43.0292 800.699 L42.9973 779.82 Z\" fill=\"#000000\" fill-rule=\"evenodd\" fill-opacity=\"1\" /><path clip-path=\"url(#clip890)\" d=\"M18.0438 714.889 L24.314 714.889 Q22.5634 718.55 21.704 721.796 Q20.8447 725.043 20.8447 728.066 Q20.8447 733.318 22.8817 736.183 Q24.9187 739.015 28.6745 739.015 Q31.8255 739.015 33.4488 737.138 Q35.0402 735.228 36.0269 729.944 L36.8226 726.061 Q38.1912 718.868 41.6605 715.462 Q45.098 712.025 50.8908 712.025 Q57.7976 712.025 61.3624 716.672 Q64.9272 721.287 64.9272 730.231 Q64.9272 733.605 64.1633 737.424 Q63.3994 741.212 61.9035 745.286 L55.2831 745.286 Q57.4793 741.371 58.5933 737.615 Q59.7073 733.859 59.7073 730.231 Q59.7073 724.724 57.543 721.733 Q55.3786 718.741 51.3682 718.741 Q47.8671 718.741 45.8937 720.905 Q43.9204 723.038 42.9337 727.939 L42.1698 731.854 Q40.7375 739.047 37.682 742.262 Q34.6264 745.477 29.1837 745.477 Q22.8817 745.477 19.2532 741.053 Q15.6248 736.597 15.6248 728.799 Q15.6248 725.457 16.2295 721.987 Q16.8343 718.518 18.0438 714.889 Z\" fill=\"#000000\" fill-rule=\"evenodd\" fill-opacity=\"1\" /><path clip-path=\"url(#clip890)\" d=\"M44.7161 671.762 L47.5806 671.762 L47.5806 698.689 Q53.6281 698.307 56.8109 695.06 Q59.9619 691.782 59.9619 685.957 Q59.9619 682.583 59.1344 679.432 Q58.3069 676.25 56.6518 673.13 L62.1899 673.13 Q63.5267 676.281 64.227 679.592 Q64.9272 682.902 64.9272 686.307 Q64.9272 694.837 59.9619 699.835 Q54.9967 704.8 46.5303 704.8 Q37.7774 704.8 32.6531 700.089 Q27.4968 695.347 27.4968 687.326 Q27.4968 680.133 32.1438 675.963 Q36.7589 671.762 44.7161 671.762 M42.9973 677.618 Q38.1912 677.682 35.3266 680.324 Q32.4621 682.934 32.4621 687.262 Q32.4621 692.164 35.2312 695.124 Q38.0002 698.052 43.0292 698.498 L42.9973 677.618 Z\" fill=\"#000000\" fill-rule=\"evenodd\" fill-opacity=\"1\" /><path clip-path=\"url(#clip890)\" d=\"M46.0847 645.949 Q46.0847 653.047 47.7079 655.784 Q49.3312 658.521 53.2461 658.521 Q56.3653 658.521 58.2114 656.484 Q60.0256 654.415 60.0256 650.882 Q60.0256 646.013 56.5881 643.084 Q53.1188 640.124 47.3897 640.124 L46.0847 640.124 L46.0847 645.949 M43.6657 634.268 L64.0042 634.268 L64.0042 640.124 L58.5933 640.124 Q61.8398 642.129 63.3994 645.121 Q64.9272 648.113 64.9272 652.442 Q64.9272 657.916 61.8716 661.163 Q58.7843 664.378 53.6281 664.378 Q47.6125 664.378 44.5569 660.367 Q41.5014 656.325 41.5014 648.336 L41.5014 640.124 L40.9285 640.124 Q36.8862 640.124 34.6901 642.798 Q32.4621 645.44 32.4621 650.246 Q32.4621 653.301 33.1941 656.198 Q33.9262 659.094 35.3903 661.768 L29.9795 661.768 Q28.7381 658.553 28.1334 655.529 Q27.4968 652.506 27.4968 649.641 Q27.4968 641.907 31.5072 638.087 Q35.5176 634.268 43.6657 634.268 Z\" fill=\"#000000\" fill-rule=\"evenodd\" fill-opacity=\"1\" /><path clip-path=\"url(#clip890)\" d=\"M18.2347 616.412 L28.3562 616.412 L28.3562 604.349 L32.9077 604.349 L32.9077 616.412 L52.2594 616.412 Q56.6199 616.412 57.8613 615.234 Q59.1026 614.025 59.1026 610.365 L59.1026 604.349 L64.0042 604.349 L64.0042 610.365 Q64.0042 617.144 61.4897 619.722 Q58.9434 622.3 52.2594 622.3 L32.9077 622.3 L32.9077 626.597 L28.3562 626.597 L28.3562 622.3 L18.2347 622.3 L18.2347 616.412 Z\" fill=\"#000000\" fill-rule=\"evenodd\" fill-opacity=\"1\" /><path clip-path=\"url(#clip890)\" d=\"M20.1444 540.087 L26.9239 540.087 Q23.9002 543.334 22.4043 547.026 Q20.9083 550.686 20.9083 554.824 Q20.9083 562.972 25.9054 567.301 Q30.8707 571.629 40.2919 571.629 Q49.6813 571.629 54.6784 567.301 Q59.6436 562.972 59.6436 554.824 Q59.6436 550.686 58.1477 547.026 Q56.6518 543.334 53.6281 540.087 L60.3439 540.087 Q62.6355 543.461 63.7814 547.249 Q64.9272 551.004 64.9272 555.206 Q64.9272 565.996 58.3387 572.202 Q51.7183 578.409 40.2919 578.409 Q28.8336 578.409 22.2451 572.202 Q15.6248 565.996 15.6248 555.206 Q15.6248 550.941 16.7706 547.185 Q17.8846 543.397 20.1444 540.087 Z\" fill=\"#000000\" fill-rule=\"evenodd\" fill-opacity=\"1\" /><path clip-path=\"url(#clip890)\" d=\"M42.4881 500.779 L64.0042 500.779 L64.0042 506.635 L42.679 506.635 Q37.6183 506.635 35.1038 508.609 Q32.5894 510.582 32.5894 514.529 Q32.5894 519.271 35.6131 522.009 Q38.6368 524.746 43.8567 524.746 L64.0042 524.746 L64.0042 530.634 L14.479 530.634 L14.479 524.746 L33.8944 524.746 Q30.6797 522.645 29.0883 519.812 Q27.4968 516.948 27.4968 513.224 Q27.4968 507.081 31.3163 503.93 Q35.1038 500.779 42.4881 500.779 Z\" fill=\"#000000\" fill-rule=\"evenodd\" fill-opacity=\"1\" /><path clip-path=\"url(#clip890)\" d=\"M46.0847 472.897 Q46.0847 479.995 47.7079 482.732 Q49.3312 485.469 53.2461 485.469 Q56.3653 485.469 58.2114 483.432 Q60.0256 481.364 60.0256 477.831 Q60.0256 472.961 56.5881 470.033 Q53.1188 467.072 47.3897 467.072 L46.0847 467.072 L46.0847 472.897 M43.6657 461.216 L64.0042 461.216 L64.0042 467.072 L58.5933 467.072 Q61.8398 469.078 63.3994 472.07 Q64.9272 475.061 64.9272 479.39 Q64.9272 484.865 61.8716 488.111 Q58.7843 491.326 53.6281 491.326 Q47.6125 491.326 44.5569 487.315 Q41.5014 483.273 41.5014 475.284 L41.5014 467.072 L40.9285 467.072 Q36.8862 467.072 34.6901 469.746 Q32.4621 472.388 32.4621 477.194 Q32.4621 480.25 33.1941 483.146 Q33.9262 486.042 35.3903 488.716 L29.9795 488.716 Q28.7381 485.501 28.1334 482.478 Q27.4968 479.454 27.4968 476.589 Q27.4968 468.855 31.5072 465.035 Q35.5176 461.216 43.6657 461.216 Z\" fill=\"#000000\" fill-rule=\"evenodd\" fill-opacity=\"1\" /><path clip-path=\"url(#clip890)\" d=\"M42.4881 419.521 L64.0042 419.521 L64.0042 425.377 L42.679 425.377 Q37.6183 425.377 35.1038 427.35 Q32.5894 429.324 32.5894 433.271 Q32.5894 438.013 35.6131 440.75 Q38.6368 443.488 43.8567 443.488 L64.0042 443.488 L64.0042 449.376 L28.3562 449.376 L28.3562 443.488 L33.8944 443.488 Q30.6797 441.387 29.0883 438.554 Q27.4968 435.69 27.4968 431.966 Q27.4968 425.823 31.3163 422.672 Q35.1038 419.521 42.4881 419.521 Z\" fill=\"#000000\" fill-rule=\"evenodd\" fill-opacity=\"1\" /><path clip-path=\"url(#clip890)\" d=\"M45.7664 384.382 Q39.4007 384.382 35.8996 387.024 Q32.3984 389.634 32.3984 394.376 Q32.3984 399.087 35.8996 401.729 Q39.4007 404.338 45.7664 404.338 Q52.1003 404.338 55.6014 401.729 Q59.1026 399.087 59.1026 394.376 Q59.1026 389.634 55.6014 387.024 Q52.1003 384.382 45.7664 384.382 M59.58 378.526 Q68.683 378.526 73.1071 382.568 Q77.5631 386.61 77.5631 394.949 Q77.5631 398.036 77.0857 400.774 Q76.6401 403.511 75.6852 406.089 L69.9879 406.089 Q71.3884 403.511 72.0568 400.996 Q72.7252 398.482 72.7252 395.872 Q72.7252 390.111 69.7015 387.247 Q66.7096 384.382 60.6303 384.382 L57.7339 384.382 Q60.885 386.196 62.4446 389.029 Q64.0042 391.862 64.0042 395.808 Q64.0042 402.365 59.0071 406.375 Q54.01 410.386 45.7664 410.386 Q37.491 410.386 32.4939 406.375 Q27.4968 402.365 27.4968 395.808 Q27.4968 391.862 29.0564 389.029 Q30.616 386.196 33.7671 384.382 L28.3562 384.382 L28.3562 378.526 L59.58 378.526 Z\" fill=\"#000000\" fill-rule=\"evenodd\" fill-opacity=\"1\" /><path clip-path=\"url(#clip890)\" d=\"M44.7161 335.971 L47.5806 335.971 L47.5806 362.898 Q53.6281 362.516 56.8109 359.269 Q59.9619 355.991 59.9619 350.166 Q59.9619 346.792 59.1344 343.641 Q58.3069 340.459 56.6518 337.339 L62.1899 337.339 Q63.5267 340.49 64.227 343.801 Q64.9272 347.111 64.9272 350.516 Q64.9272 359.046 59.9619 364.044 Q54.9967 369.009 46.5303 369.009 Q37.7774 369.009 32.6531 364.298 Q27.4968 359.556 27.4968 351.535 Q27.4968 344.342 32.1438 340.172 Q36.7589 335.971 44.7161 335.971 M42.9973 341.827 Q38.1912 341.891 35.3266 344.533 Q32.4621 347.143 32.4621 351.471 Q32.4621 356.373 35.2312 359.333 Q38.0002 362.261 43.0292 362.707 L42.9973 341.827 Z\" fill=\"#000000\" fill-rule=\"evenodd\" fill-opacity=\"1\" /><polyline clip-path=\"url(#clip892)\" style=\"stroke:#009af9; stroke-linecap:butt; stroke-linejoin:round; stroke-width:4; stroke-opacity:1; fill:none\" points=\"\n",
       "  357.346,1105.59 383.325,1049.54 435.282,757.786 487.239,1329.35 552.185,1294.1 604.142,1317.01 669.088,1125.9 721.045,1307.06 773.002,1331.09 824.959,1332.78 \n",
       "  863.927,986.091 941.863,144.915 993.82,144.915 1045.78,901.4 1058.77,1130.21 1110.72,1058.99 1175.67,544.625 1240.62,1343.88 1305.56,908.64 1357.52,927.578 \n",
       "  1409.48,1229.64 1461.43,924.317 1474.42,650.147 1526.38,686.5 1539.37,1195.01 1565.35,1334.02 1604.31,1226.27 1656.27,1076.71 1682.25,1172.18 1747.2,1102.77 \n",
       "  1760.19,1132.28 1812.14,657.797 1864.1,1060.35 1929.05,86.1857 1981,1170.67 2019.97,1259.04 2071.93,723.985 2097.91,1186.87 2123.89,1230.93 2162.85,846.952 \n",
       "  2214.81,533.593 2266.77,1137.59 2292.75,1384.24 \n",
       "  \"/>\n",
       "<circle clip-path=\"url(#clip892)\" cx=\"357.346\" cy=\"1105.59\" r=\"14\" fill=\"#009af9\" fill-rule=\"evenodd\" fill-opacity=\"1\" stroke=\"#000000\" stroke-opacity=\"1\" stroke-width=\"3.2\"/>\n",
       "<circle clip-path=\"url(#clip892)\" cx=\"383.325\" cy=\"1049.54\" r=\"14\" fill=\"#009af9\" fill-rule=\"evenodd\" fill-opacity=\"1\" stroke=\"#000000\" stroke-opacity=\"1\" stroke-width=\"3.2\"/>\n",
       "<circle clip-path=\"url(#clip892)\" cx=\"435.282\" cy=\"757.786\" r=\"14\" fill=\"#009af9\" fill-rule=\"evenodd\" fill-opacity=\"1\" stroke=\"#000000\" stroke-opacity=\"1\" stroke-width=\"3.2\"/>\n",
       "<circle clip-path=\"url(#clip892)\" cx=\"487.239\" cy=\"1329.35\" r=\"14\" fill=\"#009af9\" fill-rule=\"evenodd\" fill-opacity=\"1\" stroke=\"#000000\" stroke-opacity=\"1\" stroke-width=\"3.2\"/>\n",
       "<circle clip-path=\"url(#clip892)\" cx=\"552.185\" cy=\"1294.1\" r=\"14\" fill=\"#009af9\" fill-rule=\"evenodd\" fill-opacity=\"1\" stroke=\"#000000\" stroke-opacity=\"1\" stroke-width=\"3.2\"/>\n",
       "<circle clip-path=\"url(#clip892)\" cx=\"604.142\" cy=\"1317.01\" r=\"14\" fill=\"#009af9\" fill-rule=\"evenodd\" fill-opacity=\"1\" stroke=\"#000000\" stroke-opacity=\"1\" stroke-width=\"3.2\"/>\n",
       "<circle clip-path=\"url(#clip892)\" cx=\"669.088\" cy=\"1125.9\" r=\"14\" fill=\"#009af9\" fill-rule=\"evenodd\" fill-opacity=\"1\" stroke=\"#000000\" stroke-opacity=\"1\" stroke-width=\"3.2\"/>\n",
       "<circle clip-path=\"url(#clip892)\" cx=\"721.045\" cy=\"1307.06\" r=\"14\" fill=\"#009af9\" fill-rule=\"evenodd\" fill-opacity=\"1\" stroke=\"#000000\" stroke-opacity=\"1\" stroke-width=\"3.2\"/>\n",
       "<circle clip-path=\"url(#clip892)\" cx=\"773.002\" cy=\"1331.09\" r=\"14\" fill=\"#009af9\" fill-rule=\"evenodd\" fill-opacity=\"1\" stroke=\"#000000\" stroke-opacity=\"1\" stroke-width=\"3.2\"/>\n",
       "<circle clip-path=\"url(#clip892)\" cx=\"824.959\" cy=\"1332.78\" r=\"14\" fill=\"#009af9\" fill-rule=\"evenodd\" fill-opacity=\"1\" stroke=\"#000000\" stroke-opacity=\"1\" stroke-width=\"3.2\"/>\n",
       "<circle clip-path=\"url(#clip892)\" cx=\"863.927\" cy=\"986.091\" r=\"14\" fill=\"#009af9\" fill-rule=\"evenodd\" fill-opacity=\"1\" stroke=\"#000000\" stroke-opacity=\"1\" stroke-width=\"3.2\"/>\n",
       "<circle clip-path=\"url(#clip892)\" cx=\"941.863\" cy=\"144.915\" r=\"14\" fill=\"#009af9\" fill-rule=\"evenodd\" fill-opacity=\"1\" stroke=\"#000000\" stroke-opacity=\"1\" stroke-width=\"3.2\"/>\n",
       "<circle clip-path=\"url(#clip892)\" cx=\"993.82\" cy=\"144.915\" r=\"14\" fill=\"#009af9\" fill-rule=\"evenodd\" fill-opacity=\"1\" stroke=\"#000000\" stroke-opacity=\"1\" stroke-width=\"3.2\"/>\n",
       "<circle clip-path=\"url(#clip892)\" cx=\"1045.78\" cy=\"901.4\" r=\"14\" fill=\"#009af9\" fill-rule=\"evenodd\" fill-opacity=\"1\" stroke=\"#000000\" stroke-opacity=\"1\" stroke-width=\"3.2\"/>\n",
       "<circle clip-path=\"url(#clip892)\" cx=\"1058.77\" cy=\"1130.21\" r=\"14\" fill=\"#009af9\" fill-rule=\"evenodd\" fill-opacity=\"1\" stroke=\"#000000\" stroke-opacity=\"1\" stroke-width=\"3.2\"/>\n",
       "<circle clip-path=\"url(#clip892)\" cx=\"1110.72\" cy=\"1058.99\" r=\"14\" fill=\"#009af9\" fill-rule=\"evenodd\" fill-opacity=\"1\" stroke=\"#000000\" stroke-opacity=\"1\" stroke-width=\"3.2\"/>\n",
       "<circle clip-path=\"url(#clip892)\" cx=\"1175.67\" cy=\"544.625\" r=\"14\" fill=\"#009af9\" fill-rule=\"evenodd\" fill-opacity=\"1\" stroke=\"#000000\" stroke-opacity=\"1\" stroke-width=\"3.2\"/>\n",
       "<circle clip-path=\"url(#clip892)\" cx=\"1240.62\" cy=\"1343.88\" r=\"14\" fill=\"#009af9\" fill-rule=\"evenodd\" fill-opacity=\"1\" stroke=\"#000000\" stroke-opacity=\"1\" stroke-width=\"3.2\"/>\n",
       "<circle clip-path=\"url(#clip892)\" cx=\"1305.56\" cy=\"908.64\" r=\"14\" fill=\"#009af9\" fill-rule=\"evenodd\" fill-opacity=\"1\" stroke=\"#000000\" stroke-opacity=\"1\" stroke-width=\"3.2\"/>\n",
       "<circle clip-path=\"url(#clip892)\" cx=\"1357.52\" cy=\"927.578\" r=\"14\" fill=\"#009af9\" fill-rule=\"evenodd\" fill-opacity=\"1\" stroke=\"#000000\" stroke-opacity=\"1\" stroke-width=\"3.2\"/>\n",
       "<circle clip-path=\"url(#clip892)\" cx=\"1409.48\" cy=\"1229.64\" r=\"14\" fill=\"#009af9\" fill-rule=\"evenodd\" fill-opacity=\"1\" stroke=\"#000000\" stroke-opacity=\"1\" stroke-width=\"3.2\"/>\n",
       "<circle clip-path=\"url(#clip892)\" cx=\"1461.43\" cy=\"924.317\" r=\"14\" fill=\"#009af9\" fill-rule=\"evenodd\" fill-opacity=\"1\" stroke=\"#000000\" stroke-opacity=\"1\" stroke-width=\"3.2\"/>\n",
       "<circle clip-path=\"url(#clip892)\" cx=\"1474.42\" cy=\"650.147\" r=\"14\" fill=\"#009af9\" fill-rule=\"evenodd\" fill-opacity=\"1\" stroke=\"#000000\" stroke-opacity=\"1\" stroke-width=\"3.2\"/>\n",
       "<circle clip-path=\"url(#clip892)\" cx=\"1526.38\" cy=\"686.5\" r=\"14\" fill=\"#009af9\" fill-rule=\"evenodd\" fill-opacity=\"1\" stroke=\"#000000\" stroke-opacity=\"1\" stroke-width=\"3.2\"/>\n",
       "<circle clip-path=\"url(#clip892)\" cx=\"1539.37\" cy=\"1195.01\" r=\"14\" fill=\"#009af9\" fill-rule=\"evenodd\" fill-opacity=\"1\" stroke=\"#000000\" stroke-opacity=\"1\" stroke-width=\"3.2\"/>\n",
       "<circle clip-path=\"url(#clip892)\" cx=\"1565.35\" cy=\"1334.02\" r=\"14\" fill=\"#009af9\" fill-rule=\"evenodd\" fill-opacity=\"1\" stroke=\"#000000\" stroke-opacity=\"1\" stroke-width=\"3.2\"/>\n",
       "<circle clip-path=\"url(#clip892)\" cx=\"1604.31\" cy=\"1226.27\" r=\"14\" fill=\"#009af9\" fill-rule=\"evenodd\" fill-opacity=\"1\" stroke=\"#000000\" stroke-opacity=\"1\" stroke-width=\"3.2\"/>\n",
       "<circle clip-path=\"url(#clip892)\" cx=\"1656.27\" cy=\"1076.71\" r=\"14\" fill=\"#009af9\" fill-rule=\"evenodd\" fill-opacity=\"1\" stroke=\"#000000\" stroke-opacity=\"1\" stroke-width=\"3.2\"/>\n",
       "<circle clip-path=\"url(#clip892)\" cx=\"1682.25\" cy=\"1172.18\" r=\"14\" fill=\"#009af9\" fill-rule=\"evenodd\" fill-opacity=\"1\" stroke=\"#000000\" stroke-opacity=\"1\" stroke-width=\"3.2\"/>\n",
       "<circle clip-path=\"url(#clip892)\" cx=\"1747.2\" cy=\"1102.77\" r=\"14\" fill=\"#009af9\" fill-rule=\"evenodd\" fill-opacity=\"1\" stroke=\"#000000\" stroke-opacity=\"1\" stroke-width=\"3.2\"/>\n",
       "<circle clip-path=\"url(#clip892)\" cx=\"1760.19\" cy=\"1132.28\" r=\"14\" fill=\"#009af9\" fill-rule=\"evenodd\" fill-opacity=\"1\" stroke=\"#000000\" stroke-opacity=\"1\" stroke-width=\"3.2\"/>\n",
       "<circle clip-path=\"url(#clip892)\" cx=\"1812.14\" cy=\"657.797\" r=\"14\" fill=\"#009af9\" fill-rule=\"evenodd\" fill-opacity=\"1\" stroke=\"#000000\" stroke-opacity=\"1\" stroke-width=\"3.2\"/>\n",
       "<circle clip-path=\"url(#clip892)\" cx=\"1864.1\" cy=\"1060.35\" r=\"14\" fill=\"#009af9\" fill-rule=\"evenodd\" fill-opacity=\"1\" stroke=\"#000000\" stroke-opacity=\"1\" stroke-width=\"3.2\"/>\n",
       "<circle clip-path=\"url(#clip892)\" cx=\"1929.05\" cy=\"86.1857\" r=\"14\" fill=\"#009af9\" fill-rule=\"evenodd\" fill-opacity=\"1\" stroke=\"#000000\" stroke-opacity=\"1\" stroke-width=\"3.2\"/>\n",
       "<circle clip-path=\"url(#clip892)\" cx=\"1981\" cy=\"1170.67\" r=\"14\" fill=\"#009af9\" fill-rule=\"evenodd\" fill-opacity=\"1\" stroke=\"#000000\" stroke-opacity=\"1\" stroke-width=\"3.2\"/>\n",
       "<circle clip-path=\"url(#clip892)\" cx=\"2019.97\" cy=\"1259.04\" r=\"14\" fill=\"#009af9\" fill-rule=\"evenodd\" fill-opacity=\"1\" stroke=\"#000000\" stroke-opacity=\"1\" stroke-width=\"3.2\"/>\n",
       "<circle clip-path=\"url(#clip892)\" cx=\"2071.93\" cy=\"723.985\" r=\"14\" fill=\"#009af9\" fill-rule=\"evenodd\" fill-opacity=\"1\" stroke=\"#000000\" stroke-opacity=\"1\" stroke-width=\"3.2\"/>\n",
       "<circle clip-path=\"url(#clip892)\" cx=\"2097.91\" cy=\"1186.87\" r=\"14\" fill=\"#009af9\" fill-rule=\"evenodd\" fill-opacity=\"1\" stroke=\"#000000\" stroke-opacity=\"1\" stroke-width=\"3.2\"/>\n",
       "<circle clip-path=\"url(#clip892)\" cx=\"2123.89\" cy=\"1230.93\" r=\"14\" fill=\"#009af9\" fill-rule=\"evenodd\" fill-opacity=\"1\" stroke=\"#000000\" stroke-opacity=\"1\" stroke-width=\"3.2\"/>\n",
       "<circle clip-path=\"url(#clip892)\" cx=\"2162.85\" cy=\"846.952\" r=\"14\" fill=\"#009af9\" fill-rule=\"evenodd\" fill-opacity=\"1\" stroke=\"#000000\" stroke-opacity=\"1\" stroke-width=\"3.2\"/>\n",
       "<circle clip-path=\"url(#clip892)\" cx=\"2214.81\" cy=\"533.593\" r=\"14\" fill=\"#009af9\" fill-rule=\"evenodd\" fill-opacity=\"1\" stroke=\"#000000\" stroke-opacity=\"1\" stroke-width=\"3.2\"/>\n",
       "<circle clip-path=\"url(#clip892)\" cx=\"2266.77\" cy=\"1137.59\" r=\"14\" fill=\"#009af9\" fill-rule=\"evenodd\" fill-opacity=\"1\" stroke=\"#000000\" stroke-opacity=\"1\" stroke-width=\"3.2\"/>\n",
       "<circle clip-path=\"url(#clip892)\" cx=\"2292.75\" cy=\"1384.24\" r=\"14\" fill=\"#009af9\" fill-rule=\"evenodd\" fill-opacity=\"1\" stroke=\"#000000\" stroke-opacity=\"1\" stroke-width=\"3.2\"/>\n",
       "<polyline clip-path=\"url(#clip892)\" style=\"stroke:#e26f46; stroke-linecap:butt; stroke-linejoin:round; stroke-width:4; stroke-opacity:1; fill:none\" points=\"\n",
       "  292.4,1310.24 2292.75,1310.24 \n",
       "  \"/>\n",
       "</svg>\n"
      ]
     },
     "execution_count": 4,
     "metadata": {},
     "output_type": "execute_result"
    }
   ],
   "source": [
    "#| echo: false\n",
    "#| label: fig-results\n",
    "#| fig-cap: \"Change in seats per Canadian Federal Election, 1867-2021\"\n",
    "\n",
    "p = plot(results[!, :YEAR], results[!, :Change] .* 100, lab=false,\n",
    "     xlabel=\"Election Year\", ylabel=\"% Absolute Seat Change\", markershape=:circle)\n",
    "plot!(p, [1867, 2021], [10, 10], lab=false)\n",
    "\n",
    "plot(p)"
   ]
  },
  {
   "cell_type": "markdown",
   "id": "d448d725-828f-4c54-85e7-06ef370fb09f",
   "metadata": {},
   "source": [
    "We can filter out the low-change elections and get a sense of not just the 2021 election, but the neighbourhood of low-change elections."
   ]
  },
  {
   "cell_type": "code",
   "execution_count": 5,
   "id": "1dadd6ee-4f8e-438f-be1d-a072adc1d9d7",
   "metadata": {
    "tags": []
   },
   "outputs": [],
   "source": [
    "lowest = filter(row -> row[:Change] < 0.10, results)\n",
    "\n",
    "sort!(lowest, [:Change]);"
   ]
  },
  {
   "cell_type": "code",
   "execution_count": 6,
   "id": "32eaf7ae-f971-4154-874e-22c515cf345b",
   "metadata": {
    "jupyter": {
     "source_hidden": true
    },
    "tags": []
   },
   "outputs": [
    {
     "name": "stdout",
     "output_type": "stream",
     "text": [
      "\u001b[1m7×9 DataFrame\u001b[0m\n",
      "\u001b[1m Row \u001b[0m│\u001b[1m YEAR  \u001b[0m\u001b[1m Liberal \u001b[0m\u001b[1m Conservatives \u001b[0m\u001b[1m BQ    \u001b[0m\u001b[1m CCF/NDP \u001b[0m\u001b[1m Social Credit \u001b[0m\u001b[1m Liberal Progressive \u001b[0m\u001b[1m Other \u001b[0m\u001b[1m Change    \u001b[0m\n",
      "\u001b[1m     \u001b[0m│\u001b[90m Int64 \u001b[0m\u001b[90m Int64   \u001b[0m\u001b[90m Int64         \u001b[0m\u001b[90m Int64 \u001b[0m\u001b[90m Int64   \u001b[0m\u001b[90m Int64         \u001b[0m\u001b[90m Int64               \u001b[0m\u001b[90m Int64 \u001b[0m\u001b[90m Float64   \u001b[0m\n",
      "─────┼─────────────────────────────────────────────────────────────────────────────────────────────────────\n",
      "   1 │  2021      158            119     34       25              0                    0      2  0.0236686\n",
      "   2 │  1940      179             39      0        8             10                    3      6  0.0653061\n",
      "   3 │  1965      131             97      0       21             14                    0      2  0.0754717\n",
      "   4 │  1908      133             85      0        0              0                    0      3  0.0767539\n",
      "   5 │  1904      137             75      0        0              0                    0      2  0.0784959\n",
      "   6 │  1882       73            134      0        0              0                    0      4  0.0802926\n",
      "   7 │  1891       90            118      0        0              0                    0      7  0.0930233"
     ]
    }
   ],
   "source": [
    "#| echo: false\n",
    "\n",
    "show(lowest[!, [\"YEAR\", \"Liberal\", \"Conservatives\", \"BQ\", \"CCF/NDP\", \"Social Credit\", \"Liberal Progressive\", \"Other\", \"Change\"]], allcols=true)"
   ]
  },
  {
   "cell_type": "markdown",
   "id": "08370805-3db1-4b26-a82e-84cab30dd3fd",
   "metadata": {},
   "source": [
    "This is an exceptionally low change, the next lowest year (1940) had &gt;2&times; as many seats change hands. Also, the last time the overall seat change was even close to this low was decades ago, the next previous year with a relative change &lt;10% was 1965 and in that case &gt;3&times; as many seats changed hands.\n",
    "\n",
    "This result may change, as of right now several ridings are still too-close to call without mail in ballots, but for some of those if they flip it will actually lower the overall change in seats, not increase it. For example Edmonton Center is currently undecided with the Liberal candidate ahead, but if it flips to the incumbent Conservative the overall relative change for this election would go down.\n"
   ]
  }
 ],
 "metadata": {
  "kernelspec": {
   "display_name": "Julia 1.10.5",
   "language": "julia",
   "name": "julia-1.10"
  },
  "language_info": {
   "file_extension": ".jl",
   "mimetype": "application/julia",
   "name": "julia",
   "version": "1.10.5"
  }
 },
 "nbformat": 4,
 "nbformat_minor": 5
}
