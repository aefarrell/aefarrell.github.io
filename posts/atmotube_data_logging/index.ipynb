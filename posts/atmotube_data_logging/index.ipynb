{
 "cells": [
  {
   "cell_type": "raw",
   "id": "dd238948-a419-4499-a1b4-bb150a19e5c1",
   "metadata": {},
   "source": [
    "---\n",
    "title: \"Logging data from an Atmotube PRO over Bluetooth\"\n",
    "description: \"Having fun with data logging.\"\n",
    "author: \"Allan Farrell\"\n",
    "date: \"05/19/2025\"\n",
    "last-modified: \"05/28/2025\"\n",
    "categories: [python, air quality, atmotube]\n",
    "title-block-banner: url(./pexels-fotios-photos-header.jpg)\n",
    "reference-location: margin\n",
    "---"
   ]
  },
  {
   "cell_type": "markdown",
   "id": "f7b956c8-9d28-4123-bf28-2ffdf080c7f3",
   "metadata": {},
   "source": [
    "I have had an Atmotube Pro for [a few years](/posts/indoor_air_quality/), mostly using it during the summer to keep an eye on poor air quality during wildfire smoke events. I often export data from it, as a csv, to noodle around, but I haven't really looked at how to log data directly from it with my laptop. Atmotube provides documentation on [the bluetooth API](https://support.atmotube.com/en/articles/10364981-bluetooth-api) and a guide for how to set up an [MQTT router](https://support.atmotube.com/en/articles/10365091-connect-atmotube-pro-to-the-cloud-via-ble-wi-fi-router). But I couldn't really find anything on just logging data from it directly, using python.\n",
    "\n",
    "Thus my project for the Victoria Day long weekend was to figure out how to collect data from my atmotube using python. This works on my laptop but could, presumably, be ported to something like a raspberry pi easily enough."
   ]
  },
  {
   "cell_type": "markdown",
   "id": "35cc92d7-1c61-461d-8641-b0ff33116759",
   "metadata": {},
   "source": [
    "## Requesting data with GATT\n",
    "\n",
    "The Atmotube documentation gives two main ways of getting data from the device: using [GATT](https://www.bluetooth.com/wp-content/uploads/Files/Specification/HTML/Core-54/out/en/host/generic-attribute-profile--gatt-.html) or just passively from the advertising data the Atmotube broadcasts when it isn't connected to anything (the BLE advertising packet). The most straightforward, to retrieve something specific, is via GATT.\n",
    "\n",
    "I am going to be using [Bleak](https://bleak.readthedocs.io/en/latest/index.html) to scan and connect to BLE devices. To start I need a `BleakScanner` to scan for devices and, once I have found the one I want, connect to it as a `BleakClient`. Then, to make the various requests, I need the corresponding UUIDs -- these correspond to specific packets of data as described in [the docs](https://support.atmotube.com/en/articles/10364981-bluetooth-api)"
   ]
  },
  {
   "cell_type": "code",
   "execution_count": 1,
   "id": "9ef4c88c-ccaf-4a4d-8e73-71bad010b969",
   "metadata": {},
   "outputs": [],
   "source": [
    "import time"
   ]
  },
  {
   "cell_type": "code",
   "execution_count": 2,
   "id": "766d43e2-e10d-47eb-8ee6-b43954ea1883",
   "metadata": {},
   "outputs": [],
   "source": [
    "from bleak import BleakScanner, BleakClient"
   ]
  },
  {
   "cell_type": "code",
   "execution_count": 3,
   "id": "845711ec-cc1a-4f78-8001-cff378fd1325",
   "metadata": {},
   "outputs": [],
   "source": [
    "# some constants\n",
    "ATMOTUBE      = \"C2:2B:42:15:30:89\" # the mac address of my Atmotube\n",
    "SGPC3_UUID    = \"DB450002-8E9A-4818-ADD7-6ED94A328AB4\"\n",
    "BME280_UUID   = \"DB450003-8E9A-4818-ADD7-6ED94A328AB4\"\n",
    "SPS30_UUID    = \"DB450005-8E9A-4818-ADD7-6ED94A328AB4\"\n",
    "STATUS_UUID   = \"DB450004-8E9A-4818-ADD7-6ED94A328AB4\""
   ]
  },
  {
   "cell_type": "markdown",
   "id": "67fb897f-acb9-4c01-9424-8f521020cadd",
   "metadata": {},
   "source": [
    "The function `scan_and_connect` scans for the device which matches the mac address of my Atmotube, then proceeds to request each of the four packets of data. This simply returns a tuple with the data and the timestamp."
   ]
  },
  {
   "cell_type": "code",
   "execution_count": 5,
   "id": "7a7b7b2a-8086-4b7e-b9a3-fc142f3bf49c",
   "metadata": {},
   "outputs": [],
   "source": [
    "async def scan_and_connect(address):\n",
    "    device = await BleakScanner.find_device_by_address(address)\n",
    "    if not device:\n",
    "        print(\"Device not found\")\n",
    "        return None\n",
    "\n",
    "    async with BleakClient(device) as client:\n",
    "        stat = await client.read_gatt_char(STATUS_UUID)\n",
    "        bme = await client.read_gatt_char(BME280_UUID)\n",
    "        sgp = await client.read_gatt_char(SGPC3_UUID)\n",
    "        sps = await client.read_gatt_char(SPS30_UUID)\n",
    "        ts = time.time()\n",
    "        return (ts, stat, bme, sgp, sps)"
   ]
  },
  {
   "cell_type": "markdown",
   "id": "5c107bc3-d63a-4d5e-85b1-111e714ecc60",
   "metadata": {},
   "source": [
    "I can connect and get a single data point, but what I have is a timestamp and a collection of bytes. It is not cleaned up and readable in any way."
   ]
  },
  {
   "cell_type": "code",
   "execution_count": 6,
   "id": "98aa4f5d-56b0-4baf-aea6-f6a3cc1247b7",
   "metadata": {},
   "outputs": [],
   "source": [
    "res = await scan_and_connect(ATMOTUBE)"
   ]
  },
  {
   "cell_type": "markdown",
   "id": "8e498393-005f-4432-a845-612c7ca44cf5",
   "metadata": {},
   "source": [
    "The easiest way to unpack a sequence of bytes is to use the [struct](https://docs.python.org/3/library/struct.html) standard library. But there are two exceptions: \n",
    "\n",
    "1. The info byte is 8-bits where each bit corresponds to a particular flag. I could pull out each bit one by one using bit-shifting or something, but using a ctype struct lets me map the whole two-byte status characteristic into the various info flags and the battery state in one clean step.\n"
   ]
  },
  {
   "cell_type": "code",
   "execution_count": 7,
   "id": "abd816a5-f7a0-4dc3-b9db-9e4a95ec17f6",
   "metadata": {},
   "outputs": [],
   "source": [
    "import struct"
   ]
  },
  {
   "cell_type": "code",
   "execution_count": 66,
   "id": "e0c22887-b1ea-4bbd-a4e3-be344dd8d477",
   "metadata": {},
   "outputs": [],
   "source": [
    "from ctypes import LittleEndianStructure, c_uint8, c_int8\n",
    "\n",
    "class InfoBytes(LittleEndianStructure):\n",
    "    _fields_ = [\n",
    "                (\"pm_sensor\",    c_uint8, 1),\n",
    "                (\"error\",        c_uint8, 1),\n",
    "                (\"bonding\",      c_uint8, 1),\n",
    "                (\"charging\",     c_uint8, 1),\n",
    "                (\"charge_timer\", c_uint8, 1),\n",
    "                (\"bit_6\",        c_uint8, 1),\n",
    "                (\"pre_heating\",  c_uint8, 1),\n",
    "                (\"bit_8\",        c_uint8, 1),\n",
    "                (\"batt_level\",   c_uint8, 8),\n",
    "    ]"
   ]
  },
  {
   "cell_type": "markdown",
   "id": "02ee6bd7-7fc3-4c77-99da-ba50f4bd9abf",
   "metadata": {},
   "source": [
    "2. The PM characteristic is a 12-byte sequence where each set of 3-bytes is a 24-bit integer. This is not an integer type that is natively supported by python. I thought I could do the same thing as the Status characteristic and map it onto a ctype struct, but that didn't work. As a work-around I collect each 3-byte sequence as arrays and convert each to an int as a two-step process. I could also have used `int.from_bytes()` directly, but I think this is a little neater and easier to read."
   ]
  },
  {
   "cell_type": "code",
   "execution_count": 43,
   "id": "fc099cf0-67c5-4282-a062-9df4dad677f1",
   "metadata": {},
   "outputs": [],
   "source": [
    "class PMBytes(LittleEndianStructure):\n",
    "    _fields_ = [\n",
    "\t\t('_pm1',   c_int8*3),\n",
    "\t\t('_pm2_5', c_int8*3),\n",
    "\t\t('_pm10',  c_int8*3),\n",
    "\t\t('_pm4',   c_int8*3), \n",
    "    ]\n",
    "    _pack_ = 1\n",
    "\n",
    "    @property\n",
    "    def pm1(self):\n",
    "        return int.from_bytes(self._pm1, 'little', signed=True)\n",
    "\n",
    "    @property\n",
    "    def pm2_5(self):\n",
    "        return int.from_bytes(self._pm2_5, 'little', signed=True)\n",
    "\n",
    "    @property\n",
    "    def pm10(self):\n",
    "        return int.from_bytes(self._pm10, 'little', signed=True)"
   ]
  },
  {
   "cell_type": "markdown",
   "id": "9dd590c6-4aff-4278-8706-f19b225032b8",
   "metadata": {},
   "source": [
    "With those two pieces out of the way, I define the actual variables I want -- these are the column names I want to have in the final dataframe -- and process the bytes. The first step is to use the `InfoByte` struct I defined above to pull out the flags and battery status, I add this to the results more for my own interest. Then I use `struct.unpack()` to unpack the integers from each byte-string and store the results.\n",
    "\n",
    "Finally I use the `PMBytes` class to process the PM data. If the sensor isn't on the results are `-1` and so I clean those out. The idea is to leave any blank readings as `None`, since that is easy to filter out with pandas later on."
   ]
  },
  {
   "cell_type": "code",
   "execution_count": 4,
   "id": "46acb196-ef45-457a-b826-d8142233eebb",
   "metadata": {},
   "outputs": [],
   "source": [
    "HEADERS = [\"Timestamp\", \"VOC\", \"RH\", \"T\", \"P\", \"PM1\", \"PM2.5\", \"PM10\"]"
   ]
  },
  {
   "cell_type": "code",
   "execution_count": 10,
   "id": "89c6cf23-b8b4-4f11-b6a1-2d7bacce1c14",
   "metadata": {},
   "outputs": [],
   "source": [
    "def process_gatt_data(data):\n",
    "    result = dict.fromkeys(HEADERS)\n",
    "    if res is not None:\n",
    "        ts, stat, bme, sgp, sps = data\n",
    "        result[\"Timestamp\"] = ts\n",
    "\n",
    "        # Info and Battery data\n",
    "        inf_bits = InfoBytes.from_buffer_copy(stat)\n",
    "        for (fld, _, _) in inf_bits._fields_:\n",
    "            result[f\"INFO.{fld}\"] = getattr(inf_bits, fld)\n",
    "        \n",
    "        # SGPC3 data format\n",
    "        tvoc, _ = struct.unpack('<hh', sgp)\n",
    "        result[\"VOC\"] = tvoc/1000\n",
    "\n",
    "        # BME280 data format\n",
    "        rh, T, P, T_plus = struct.unpack('<bblh', bme)\n",
    "        result[\"RH\"] = rh\n",
    "        result[\"T\"] = T_plus/100\n",
    "        result[\"P\"] = P/1000\n",
    "\n",
    "        # SPS30 data format\n",
    "        pms = PMBytes.from_buffer_copy(sps)\n",
    "        result[\"PM1\"] = pms.pm1/100 if pms.pm1 > 0 else None\n",
    "        result[\"PM2.5\"] = pms.pm2_5/100 if pms.pm2_5 > 0 else None\n",
    "        result[\"PM10\"] = pms.pm10/100 if pms.pm10 > 0 else None\n",
    "\n",
    "    return result"
   ]
  },
  {
   "cell_type": "markdown",
   "id": "9d57475a-b8a4-46d2-bc60-c1adec983408",
   "metadata": {},
   "source": [
    "Now I can process the result I collected earlier."
   ]
  },
  {
   "cell_type": "code",
   "execution_count": 44,
   "id": "c998f6c0-95f9-4a1e-a8e9-494a23483c96",
   "metadata": {},
   "outputs": [
    {
     "data": {
      "text/plain": [
       "{'Timestamp': 1747673644.60206,\n",
       " 'VOC': 0.223,\n",
       " 'RH': 32,\n",
       " 'T': 21.3,\n",
       " 'P': 93.37,\n",
       " 'PM1': 1.0,\n",
       " 'PM2.5': 2.18,\n",
       " 'PM10': 3.27,\n",
       " 'INFO.pm_sensor': 1,\n",
       " 'INFO.error': 0,\n",
       " 'INFO.bonding': 0,\n",
       " 'INFO.charging': 0,\n",
       " 'INFO.charge_timer': 1,\n",
       " 'INFO.bit_6': 0,\n",
       " 'INFO.pre_heating': 1,\n",
       " 'INFO.bit_8': 0,\n",
       " 'INFO.batt_level': 63}"
      ]
     },
     "execution_count": 44,
     "metadata": {},
     "output_type": "execute_result"
    }
   ],
   "source": [
    "process_gatt_data(res)"
   ]
  },
  {
   "cell_type": "markdown",
   "id": "308d1e69-6a4f-464e-b8d9-8d4daadc9485",
   "metadata": {},
   "source": [
    "The results are what I expect for my apartment. In addition to the air quality data, we can see that the PM sensor was on and that the Atmotube had been charging recently.[^1] The pre-heat flag indicates that the device has completed any pre-heating and is ready. So everything looks good.\n",
    "\n",
    "[^1]: I unplugged it before charging was done so it wouldn't interfere with any temperature readings when I tested this code, that's why the battery was only at 63%"
   ]
  },
  {
   "cell_type": "markdown",
   "id": "4ee79080-bb8f-430f-93f1-ef5ea4d7d664",
   "metadata": {},
   "source": [
    "I could, at this point, just start a service or cron job to poll the device every so often and log the results. It will only return PM results when the atmotube is actively sampling, which could present some issues with timing. If the device is set to sample, for example, every 15 minutes and the script doesn't make a request during that window, it will never return results. For everything that follows I set my atmotube to sample continuously."
   ]
  },
  {
   "cell_type": "markdown",
   "id": "84fbe137-1776-4d2d-8089-6652b88e2c4e",
   "metadata": {},
   "source": [
    "## Collecting broadcast data\n",
    "\n",
    "The other way of logging data from the atmotube is to pull it out of the advertising packet the atmotube broadcasts as a bluetooth device. In this case I don't actually connect to the device, the scanner runs continuously and sends back any advertising data it finds using the `adv_cb()` callback function. This checks if the data came from my atmotube and, if it did, adds it to the results.\n",
    "\n",
    "The scanner runs inside an event loop which starts the scanner, waits until the `collection_time` has elapsed, then shuts down and returns the results."
   ]
  },
  {
   "cell_type": "code",
   "execution_count": 12,
   "id": "2963527e-0293-44a0-8ff8-cb4a2ad0690b",
   "metadata": {},
   "outputs": [],
   "source": [
    "import asyncio"
   ]
  },
  {
   "cell_type": "code",
   "execution_count": 58,
   "id": "7cbe3133-d44d-404a-b452-fa872dde1bb1",
   "metadata": {},
   "outputs": [],
   "source": [
    "async def collect_data(device_mac, collection_time=600):\n",
    "    def adv_cb(device, advertising_data):\n",
    "        if device.address == device_mac:\n",
    "            results.append((time.time(), device, advertising_data))\n",
    "        else:\n",
    "            pass\n",
    "        return None\n",
    "    \n",
    "    async def receiver(event):\n",
    "        async with BleakScanner(adv_cb, scanning_mode='active') as scanner:\n",
    "            await event.wait()\n",
    "    \n",
    "    results = []\n",
    "    loop = asyncio.Event()\n",
    "    task = asyncio.create_task(receiver(loop))\n",
    "    await asyncio.sleep(collection_time)\n",
    "    loop.set()\n",
    "    _ = await asyncio.wait([task])\n",
    "    return results"
   ]
  },
  {
   "cell_type": "markdown",
   "id": "da99bc97-6779-48b8-8348-b8f08ef1b1e5",
   "metadata": {},
   "source": [
    "Running this for 10 seconds lets me collect some example data to play with."
   ]
  },
  {
   "cell_type": "code",
   "execution_count": 14,
   "id": "dcb986b8-ac34-4b17-a9a9-50821a7d89dc",
   "metadata": {},
   "outputs": [],
   "source": [
    "broadcasts = await collect_data(ATMOTUBE, 10)"
   ]
  },
  {
   "cell_type": "markdown",
   "id": "be5ed15a-5964-4c31-a082-71b0c4de2f9b",
   "metadata": {},
   "source": [
    "Processing the advertising packet is similar to what was done with the GATT data, except that it comes in two flavours: the broadcast packet has the basic temperature, pressure, VOC, device status and the scan response packet contains the PM data and is shorter. Here the PM data is at a lower resolution -- 16-bit integers -- and so they can be unpacked using `struct.unpack()`. The GATT data returns the PM data to 2 decimal places (and the temperature to 1 decimal place), whereas the advertising packet data is rounded to the nearest whole number."
   ]
  },
  {
   "cell_type": "code",
   "execution_count": 62,
   "id": "456fbc4a-eb59-4197-93c5-6ec8cf969dc3",
   "metadata": {},
   "outputs": [],
   "source": [
    "def process_adv_data(full_data, company_id=int(0xFFFF)):\n",
    "    result = dict.fromkeys(HEADERS)\n",
    "    if full_data is None:\n",
    "        return result\n",
    "    else:\n",
    "        timestamp, device, advertising_data = full_data\n",
    "        result[\"Timestamp\"] = timestamp\n",
    "\n",
    "        # process advertising data\n",
    "        data = advertising_data.manufacturer_data.get(company_id)\n",
    "        if len(data) == 12:\n",
    "            tvoc, devid, rh, T, P, inf, batt = struct.unpack(\">hhbblbb\", data)\n",
    "            result[\"VOC\"] = tvoc/1000\n",
    "            result[\"RH\"] = rh\n",
    "            result[\"T\"] = T\n",
    "            result[\"P\"] = P/1000\n",
    "        elif len(data) == 9:\n",
    "            pm1, pm2_5, pm10, fw_maj, fw_min, fw_bld = struct.unpack(\">hhhbbb\", data)\n",
    "            result[\"PM1\"] = pm1 if pm1 > 0 else None\n",
    "            result[\"PM2.5\"] = pm2_5 if pm2_5 > 0 else None\n",
    "            result[\"PM10\"] = pm10 if pm10 > 0 else None\n",
    "        else:\n",
    "            pass\n",
    "        return result"
   ]
  },
  {
   "cell_type": "markdown",
   "id": "53749b9d-69d8-417f-a2d1-871226a09944",
   "metadata": {},
   "source": [
    "I can process this and look at examples of the two types of advertising packet"
   ]
  },
  {
   "cell_type": "code",
   "execution_count": 63,
   "id": "b625310f-6763-4eb3-943a-6fe9563e2bb0",
   "metadata": {},
   "outputs": [
    {
     "data": {
      "text/plain": [
       "{'Timestamp': 1747673646.9507601,\n",
       " 'VOC': None,\n",
       " 'RH': None,\n",
       " 'T': None,\n",
       " 'P': None,\n",
       " 'PM1': 1,\n",
       " 'PM2.5': 2,\n",
       " 'PM10': 3}"
      ]
     },
     "execution_count": 63,
     "metadata": {},
     "output_type": "execute_result"
    }
   ],
   "source": [
    "process_adv_data(broadcasts[0])"
   ]
  },
  {
   "cell_type": "code",
   "execution_count": 64,
   "id": "daf37d73-5d9d-40bd-bce0-ddcf865247cd",
   "metadata": {},
   "outputs": [
    {
     "data": {
      "text/plain": [
       "{'Timestamp': 1747673647.2869163,\n",
       " 'VOC': 0.208,\n",
       " 'RH': 36,\n",
       " 'T': 21,\n",
       " 'P': 93.357,\n",
       " 'PM1': None,\n",
       " 'PM2.5': None,\n",
       " 'PM10': None}"
      ]
     },
     "execution_count": 64,
     "metadata": {},
     "output_type": "execute_result"
    }
   ],
   "source": [
    "process_adv_data(broadcasts[5])"
   ]
  },
  {
   "cell_type": "markdown",
   "id": "eca8caa2-183d-4483-b481-93f73894a140",
   "metadata": {},
   "source": [
    "The way I have this set up is very wasteful of memory if the atmotube is set-up to only sample periodically. In those cases there will be a lot of packets with no PM data that are being dutifully logged in `results`. By processing the data as it is retrieved, I can collect only the packets that had measurements in them."
   ]
  },
  {
   "cell_type": "code",
   "execution_count": 18,
   "id": "a93b6cc4-6888-4265-84d4-274d02a1f81d",
   "metadata": {},
   "outputs": [],
   "source": [
    "async def better_collect_data(device_mac, collection_time=600):\n",
    "    def adv_cb(device, advertising_data):\n",
    "        if device.address == device_mac:\n",
    "            row = process_adv_data((time.time(), device, advertising_data))\n",
    "            if len( [ val for key, val in row.items() if val is not None ]) >1:\n",
    "                # only collect results when we actually have a measurement\n",
    "                results.append(row)\n",
    "        else:\n",
    "            pass\n",
    "        return None\n",
    "    \n",
    "    async def receiver(event):\n",
    "        async with BleakScanner(adv_cb) as scanner:\n",
    "            await event.wait()\n",
    "    \n",
    "    results = []\n",
    "    loop = asyncio.Event()\n",
    "    task = asyncio.create_task(receiver(loop))\n",
    "    await asyncio.sleep(collection_time)\n",
    "    loop.set()\n",
    "    _ = await asyncio.wait([task])\n",
    "    return results"
   ]
  },
  {
   "cell_type": "markdown",
   "id": "fe42bd7e-db66-46a1-98fb-ef8fb71abc9f",
   "metadata": {},
   "source": [
    "Which I let collect for 5 minutes"
   ]
  },
  {
   "cell_type": "code",
   "execution_count": 19,
   "id": "2e3584bd-5ce0-4c0d-b693-90d202803765",
   "metadata": {},
   "outputs": [],
   "source": [
    "new_broadcasts = await better_collect_data(ATMOTUBE, 300)"
   ]
  },
  {
   "cell_type": "markdown",
   "id": "9b81fe9e-bca4-4263-b4c6-354440d5c846",
   "metadata": {},
   "source": [
    "## Processing the broadcast data\n",
    "\n",
    "At this point we want to actually look at the results and maybe do some stats. By logging the data as a list of dicts, transforming this into a dataframe is very straightforward."
   ]
  },
  {
   "cell_type": "code",
   "execution_count": 13,
   "id": "27c5ae91-dd9d-4c51-88e3-56b4ce3e3ac4",
   "metadata": {},
   "outputs": [],
   "source": [
    "import pandas as pd"
   ]
  },
  {
   "cell_type": "code",
   "execution_count": 21,
   "id": "f8d09e29-82fd-4ba8-b494-aa95e84ed812",
   "metadata": {},
   "outputs": [],
   "source": [
    "df = pd.DataFrame(new_broadcasts)"
   ]
  },
  {
   "cell_type": "code",
   "execution_count": 22,
   "id": "5c58de33-3a8d-4e7f-bbe1-5409b41be256",
   "metadata": {},
   "outputs": [
    {
     "data": {
      "text/html": [
       "<div>\n",
       "<style scoped>\n",
       "    .dataframe tbody tr th:only-of-type {\n",
       "        vertical-align: middle;\n",
       "    }\n",
       "\n",
       "    .dataframe tbody tr th {\n",
       "        vertical-align: top;\n",
       "    }\n",
       "\n",
       "    .dataframe thead th {\n",
       "        text-align: right;\n",
       "    }\n",
       "</style>\n",
       "<table border=\"1\" class=\"dataframe\">\n",
       "  <thead>\n",
       "    <tr style=\"text-align: right;\">\n",
       "      <th></th>\n",
       "      <th>Timestamp</th>\n",
       "      <th>VOC</th>\n",
       "      <th>RH</th>\n",
       "      <th>T</th>\n",
       "      <th>P</th>\n",
       "      <th>PM1</th>\n",
       "      <th>PM2.5</th>\n",
       "      <th>PM10</th>\n",
       "    </tr>\n",
       "  </thead>\n",
       "  <tbody>\n",
       "    <tr>\n",
       "      <th>count</th>\n",
       "      <td>4.100000e+02</td>\n",
       "      <td>57.000000</td>\n",
       "      <td>57.000000</td>\n",
       "      <td>57.0</td>\n",
       "      <td>57.000000</td>\n",
       "      <td>353.0</td>\n",
       "      <td>353.000000</td>\n",
       "      <td>353.000000</td>\n",
       "    </tr>\n",
       "    <tr>\n",
       "      <th>mean</th>\n",
       "      <td>1.747674e+09</td>\n",
       "      <td>0.203228</td>\n",
       "      <td>35.105263</td>\n",
       "      <td>21.0</td>\n",
       "      <td>93.351193</td>\n",
       "      <td>1.0</td>\n",
       "      <td>2.005666</td>\n",
       "      <td>3.039660</td>\n",
       "    </tr>\n",
       "    <tr>\n",
       "      <th>std</th>\n",
       "      <td>8.914660e+01</td>\n",
       "      <td>0.002797</td>\n",
       "      <td>0.450564</td>\n",
       "      <td>0.0</td>\n",
       "      <td>0.004576</td>\n",
       "      <td>0.0</td>\n",
       "      <td>0.184550</td>\n",
       "      <td>0.246825</td>\n",
       "    </tr>\n",
       "    <tr>\n",
       "      <th>min</th>\n",
       "      <td>1.747674e+09</td>\n",
       "      <td>0.199000</td>\n",
       "      <td>34.000000</td>\n",
       "      <td>21.0</td>\n",
       "      <td>93.343000</td>\n",
       "      <td>1.0</td>\n",
       "      <td>1.000000</td>\n",
       "      <td>2.000000</td>\n",
       "    </tr>\n",
       "    <tr>\n",
       "      <th>25%</th>\n",
       "      <td>1.747674e+09</td>\n",
       "      <td>0.201000</td>\n",
       "      <td>35.000000</td>\n",
       "      <td>21.0</td>\n",
       "      <td>93.348000</td>\n",
       "      <td>1.0</td>\n",
       "      <td>2.000000</td>\n",
       "      <td>3.000000</td>\n",
       "    </tr>\n",
       "    <tr>\n",
       "      <th>50%</th>\n",
       "      <td>1.747674e+09</td>\n",
       "      <td>0.203000</td>\n",
       "      <td>35.000000</td>\n",
       "      <td>21.0</td>\n",
       "      <td>93.351000</td>\n",
       "      <td>1.0</td>\n",
       "      <td>2.000000</td>\n",
       "      <td>3.000000</td>\n",
       "    </tr>\n",
       "    <tr>\n",
       "      <th>75%</th>\n",
       "      <td>1.747674e+09</td>\n",
       "      <td>0.204000</td>\n",
       "      <td>35.000000</td>\n",
       "      <td>21.0</td>\n",
       "      <td>93.355000</td>\n",
       "      <td>1.0</td>\n",
       "      <td>2.000000</td>\n",
       "      <td>3.000000</td>\n",
       "    </tr>\n",
       "    <tr>\n",
       "      <th>max</th>\n",
       "      <td>1.747674e+09</td>\n",
       "      <td>0.210000</td>\n",
       "      <td>36.000000</td>\n",
       "      <td>21.0</td>\n",
       "      <td>93.361000</td>\n",
       "      <td>1.0</td>\n",
       "      <td>3.000000</td>\n",
       "      <td>4.000000</td>\n",
       "    </tr>\n",
       "  </tbody>\n",
       "</table>\n",
       "</div>"
      ],
      "text/plain": [
       "          Timestamp        VOC         RH     T          P    PM1       PM2.5  \\\n",
       "count  4.100000e+02  57.000000  57.000000  57.0  57.000000  353.0  353.000000   \n",
       "mean   1.747674e+09   0.203228  35.105263  21.0  93.351193    1.0    2.005666   \n",
       "std    8.914660e+01   0.002797   0.450564   0.0   0.004576    0.0    0.184550   \n",
       "min    1.747674e+09   0.199000  34.000000  21.0  93.343000    1.0    1.000000   \n",
       "25%    1.747674e+09   0.201000  35.000000  21.0  93.348000    1.0    2.000000   \n",
       "50%    1.747674e+09   0.203000  35.000000  21.0  93.351000    1.0    2.000000   \n",
       "75%    1.747674e+09   0.204000  35.000000  21.0  93.355000    1.0    2.000000   \n",
       "max    1.747674e+09   0.210000  36.000000  21.0  93.361000    1.0    3.000000   \n",
       "\n",
       "             PM10  \n",
       "count  353.000000  \n",
       "mean     3.039660  \n",
       "std      0.246825  \n",
       "min      2.000000  \n",
       "25%      3.000000  \n",
       "50%      3.000000  \n",
       "75%      3.000000  \n",
       "max      4.000000  "
      ]
     },
     "execution_count": 22,
     "metadata": {},
     "output_type": "execute_result"
    }
   ],
   "source": [
    "df.describe()"
   ]
  },
  {
   "cell_type": "markdown",
   "id": "849fcd27-1523-445a-af89-6a40503ddc3f",
   "metadata": {},
   "source": [
    "This shows a real asymmetry in quantity of data found and what was in it -- of 410 packets received 353 were PM data and 57 contained the VOC, temperature, etc. data."
   ]
  },
  {
   "cell_type": "code",
   "execution_count": 23,
   "id": "ba43795b-7c59-4d77-ae5a-6786b1e57a4b",
   "metadata": {},
   "outputs": [],
   "source": [
    "df['Time'] = df['Timestamp'] - df.iloc[0]['Timestamp']"
   ]
  },
  {
   "cell_type": "code",
   "execution_count": 24,
   "id": "45ffc8a4-137f-4a91-9dd4-d20a0fd58379",
   "metadata": {
    "jupyter": {
     "source_hidden": true
    }
   },
   "outputs": [],
   "source": [
    "#| echo: false\n",
    "\n",
    "from matplotlib import pyplot as plt"
   ]
  },
  {
   "cell_type": "code",
   "execution_count": 35,
   "id": "d76e3c9f-f47a-4196-9c89-7a5d1fe75345",
   "metadata": {
    "jupyter": {
     "source_hidden": true
    }
   },
   "outputs": [
    {
     "data": {
      "image/png": "[encoded data removed]",
      "text/plain": [
       "<Figure size 640x480 with 2 Axes>"
      ]
     },
     "metadata": {},
     "output_type": "display_data"
    }
   ],
   "source": [
    "#| echo: false\n",
    "#| label: fig-1\n",
    "#| fig-cap: \"Time series data of indoor VOC and PM concentrations, a 5 minute sample of BLE advertising data\"\n",
    "\n",
    "fig1, ax1 = plt.subplots()\n",
    "ax1.scatter(df['Time'], df['VOC'], label=\"VOC\")\n",
    "ax1.set_xlabel('Time (s)')\n",
    "ax1.set_ylabel('VOC (ppm)')\n",
    "ax1.set_ylim(0.0, 0.4)\n",
    "\n",
    "ax1_2 = ax1.twinx()\n",
    "ax1_2.scatter(df['Time'], df['PM1'], color='tab:red', label=\"pm1\")\n",
    "ax1_2.scatter(df['Time'], df['PM2.5'], color='tab:orange', label=\"pm2.5\")\n",
    "ax1_2.scatter(df['Time'], df['PM10'], color='gold', label=\"pm10\")\n",
    "ax1_2.set_ylabel('Particulate Matter (ug/m^3)')\n",
    "ax1_2.set_ylim(0.0, df['PM10'].max())\n",
    "\n",
    "fig1.legend(loc=\"upper center\", ncols=4)\n",
    "\n",
    "plt.show()"
   ]
  },
  {
   "cell_type": "markdown",
   "id": "153ed6db-b822-4bda-b921-171829b0051c",
   "metadata": {},
   "source": [
    "Plotting the timeseries data shows the PM data is very noisy -- largely because it is rounding to the nearest whole integer. I also suspect that I should be cleaning up the scan responses better. Probably a lot of those are duplicates -- it is not actually a fresh reading just rebroadcast of what had been read last. I'm not really sure."
   ]
  },
  {
   "cell_type": "markdown",
   "id": "4776ec9f-e46f-4fe2-8b7d-f9609452b4b9",
   "metadata": {},
   "source": [
    "## Logging to a CSV\n",
    "\n",
    "If you are only collecting 5 minutes of data, reading directly into memory like this is reasonable. But probably you want to log the data over a longer stretch of time, and it makes more sense to log the data to a csv -- saving it more permanently. The following creates a new csv with the given filename then, for every valid packet processed, appends the results to the csv."
   ]
  },
  {
   "cell_type": "code",
   "execution_count": 26,
   "id": "48efc792-f3f3-413d-ad07-266d4874cba5",
   "metadata": {},
   "outputs": [],
   "source": [
    "import csv"
   ]
  },
  {
   "cell_type": "code",
   "execution_count": 27,
   "id": "c7ff2c3d-e028-4953-8f24-32a1d8d4c647",
   "metadata": {},
   "outputs": [],
   "source": [
    "async def log_to_csv(device_mac, collection_time=600, file=\"atmotube.csv\"):\n",
    "    def adv_cb(device, advertising_data):\n",
    "        if device.address == device_mac:\n",
    "            row = process_adv_data((time.time(), device, advertising_data))\n",
    "            if len( [ val for key, val in row.items() if val is not None ]) >1:\n",
    "                # only collect results when we actually have a measurement\n",
    "                with open(file, 'a', newline='') as csvfile:\n",
    "                    writer = csv.DictWriter(csvfile, fieldnames=HEADERS)\n",
    "                    writer.writerow(row)\n",
    "        else:\n",
    "            pass\n",
    "        return None\n",
    "    \n",
    "    async def receiver(event):\n",
    "        async with BleakScanner(adv_cb) as scanner:\n",
    "            await event.wait()\n",
    "    \n",
    "    # prepare csv file\n",
    "    with open(file, 'w', newline='') as csvfile:\n",
    "        writer = csv.DictWriter(csvfile, fieldnames=HEADERS)\n",
    "        writer.writeheader()\n",
    "\n",
    "    # start scanning\n",
    "    loop = asyncio.Event()\n",
    "    task = asyncio.create_task(receiver(loop))\n",
    "\n",
    "    # wait until the collection time is up\n",
    "    await asyncio.sleep(collection_time)\n",
    "    loop.set()\n",
    "    _ = await asyncio.wait([task])\n",
    "    \n",
    "    return True"
   ]
  },
  {
   "cell_type": "markdown",
   "id": "3ec8e8f7-8556-4d54-ac2d-efc044951140",
   "metadata": {},
   "source": [
    "::: {.callout-warning}\n",
    "The callback function is doing a lot of work and blocking to write to a csv. This is, in general, not a good idea. When I put this together, I figured that the rate of new data from the Atmotube is significantly slower than the time required to process data and write it to a csv that it would be fine, and it was, but it isn't really robust. A better solution might be to have the callback put the data into a queue and have a seperate worker process results into the csv.\n",
    ":::"
   ]
  },
  {
   "cell_type": "markdown",
   "id": "cbed2f09-f93b-4920-8d57-00c316eef28c",
   "metadata": {},
   "source": [
    "To get this going, I just created a csv with the current timestep in the filename -- so if I stop and start I don't clobber previous data -- and leave it to run for an hour. I just left this running in jupyter while I switched to a different desktop and went about my life, but a longer-term solution would be in a script that runs in the background."
   ]
  },
  {
   "cell_type": "code",
   "execution_count": 28,
   "id": "4dc59302-df12-48a9-99fd-f20c42b51501",
   "metadata": {},
   "outputs": [],
   "source": [
    "import math"
   ]
  },
  {
   "cell_type": "code",
   "execution_count": 29,
   "id": "07424613-b979-4ede-b319-406faff5ff58",
   "metadata": {},
   "outputs": [
    {
     "name": "stdout",
     "output_type": "stream",
     "text": [
      "Success!\n"
     ]
    }
   ],
   "source": [
    "now = math.floor(time.time())\n",
    "timestamped_file = f\"atmotube-{now}.csv\"\n",
    "result = await log_to_csv(ATMOTUBE, 3600, timestamped_file)\n",
    "\n",
    "print(\"Success!\") if result else print(\"Boo\")"
   ]
  },
  {
   "cell_type": "markdown",
   "id": "d8ad0144-6397-4e0d-9e25-74d496123450",
   "metadata": {},
   "source": [
    "While it is running, you can check on the progress with `tail -f %filename`, and watch the results come in live on the terminal. Once it is done, the csv can be read into pandas and plotted like before"
   ]
  },
  {
   "cell_type": "code",
   "execution_count": 30,
   "id": "36ad76d5-db85-4707-b7f4-7ac5c90bfef6",
   "metadata": {},
   "outputs": [],
   "source": [
    "logged_data = pd.read_csv(timestamped_file)"
   ]
  },
  {
   "cell_type": "code",
   "execution_count": 31,
   "id": "3e0fd9f5-dc49-4602-a0f3-eda8e8f23fe9",
   "metadata": {},
   "outputs": [
    {
     "data": {
      "text/html": [
       "<div>\n",
       "<style scoped>\n",
       "    .dataframe tbody tr th:only-of-type {\n",
       "        vertical-align: middle;\n",
       "    }\n",
       "\n",
       "    .dataframe tbody tr th {\n",
       "        vertical-align: top;\n",
       "    }\n",
       "\n",
       "    .dataframe thead th {\n",
       "        text-align: right;\n",
       "    }\n",
       "</style>\n",
       "<table border=\"1\" class=\"dataframe\">\n",
       "  <thead>\n",
       "    <tr style=\"text-align: right;\">\n",
       "      <th></th>\n",
       "      <th>Timestamp</th>\n",
       "      <th>VOC</th>\n",
       "      <th>RH</th>\n",
       "      <th>T</th>\n",
       "      <th>P</th>\n",
       "      <th>PM1</th>\n",
       "      <th>PM2.5</th>\n",
       "      <th>PM10</th>\n",
       "    </tr>\n",
       "  </thead>\n",
       "  <tbody>\n",
       "    <tr>\n",
       "      <th>count</th>\n",
       "      <td>4.823000e+03</td>\n",
       "      <td>835.000000</td>\n",
       "      <td>835.000000</td>\n",
       "      <td>835.0</td>\n",
       "      <td>835.000000</td>\n",
       "      <td>3988.0</td>\n",
       "      <td>3988.000000</td>\n",
       "      <td>3988.000000</td>\n",
       "    </tr>\n",
       "    <tr>\n",
       "      <th>mean</th>\n",
       "      <td>1.747676e+09</td>\n",
       "      <td>0.226522</td>\n",
       "      <td>34.810778</td>\n",
       "      <td>21.0</td>\n",
       "      <td>93.320590</td>\n",
       "      <td>1.0</td>\n",
       "      <td>1.919007</td>\n",
       "      <td>2.945587</td>\n",
       "    </tr>\n",
       "    <tr>\n",
       "      <th>std</th>\n",
       "      <td>1.037307e+03</td>\n",
       "      <td>0.012884</td>\n",
       "      <td>0.711420</td>\n",
       "      <td>0.0</td>\n",
       "      <td>0.018019</td>\n",
       "      <td>0.0</td>\n",
       "      <td>0.328726</td>\n",
       "      <td>0.325025</td>\n",
       "    </tr>\n",
       "    <tr>\n",
       "      <th>min</th>\n",
       "      <td>1.747674e+09</td>\n",
       "      <td>0.195000</td>\n",
       "      <td>34.000000</td>\n",
       "      <td>21.0</td>\n",
       "      <td>93.283000</td>\n",
       "      <td>1.0</td>\n",
       "      <td>1.000000</td>\n",
       "      <td>2.000000</td>\n",
       "    </tr>\n",
       "    <tr>\n",
       "      <th>25%</th>\n",
       "      <td>1.747675e+09</td>\n",
       "      <td>0.217000</td>\n",
       "      <td>34.000000</td>\n",
       "      <td>21.0</td>\n",
       "      <td>93.303000</td>\n",
       "      <td>1.0</td>\n",
       "      <td>2.000000</td>\n",
       "      <td>3.000000</td>\n",
       "    </tr>\n",
       "    <tr>\n",
       "      <th>50%</th>\n",
       "      <td>1.747676e+09</td>\n",
       "      <td>0.230000</td>\n",
       "      <td>35.000000</td>\n",
       "      <td>21.0</td>\n",
       "      <td>93.325000</td>\n",
       "      <td>1.0</td>\n",
       "      <td>2.000000</td>\n",
       "      <td>3.000000</td>\n",
       "    </tr>\n",
       "    <tr>\n",
       "      <th>75%</th>\n",
       "      <td>1.747677e+09</td>\n",
       "      <td>0.237000</td>\n",
       "      <td>35.000000</td>\n",
       "      <td>21.0</td>\n",
       "      <td>93.337000</td>\n",
       "      <td>1.0</td>\n",
       "      <td>2.000000</td>\n",
       "      <td>3.000000</td>\n",
       "    </tr>\n",
       "    <tr>\n",
       "      <th>max</th>\n",
       "      <td>1.747678e+09</td>\n",
       "      <td>0.249000</td>\n",
       "      <td>37.000000</td>\n",
       "      <td>21.0</td>\n",
       "      <td>93.355000</td>\n",
       "      <td>1.0</td>\n",
       "      <td>3.000000</td>\n",
       "      <td>4.000000</td>\n",
       "    </tr>\n",
       "  </tbody>\n",
       "</table>\n",
       "</div>"
      ],
      "text/plain": [
       "          Timestamp         VOC          RH      T           P     PM1  \\\n",
       "count  4.823000e+03  835.000000  835.000000  835.0  835.000000  3988.0   \n",
       "mean   1.747676e+09    0.226522   34.810778   21.0   93.320590     1.0   \n",
       "std    1.037307e+03    0.012884    0.711420    0.0    0.018019     0.0   \n",
       "min    1.747674e+09    0.195000   34.000000   21.0   93.283000     1.0   \n",
       "25%    1.747675e+09    0.217000   34.000000   21.0   93.303000     1.0   \n",
       "50%    1.747676e+09    0.230000   35.000000   21.0   93.325000     1.0   \n",
       "75%    1.747677e+09    0.237000   35.000000   21.0   93.337000     1.0   \n",
       "max    1.747678e+09    0.249000   37.000000   21.0   93.355000     1.0   \n",
       "\n",
       "             PM2.5         PM10  \n",
       "count  3988.000000  3988.000000  \n",
       "mean      1.919007     2.945587  \n",
       "std       0.328726     0.325025  \n",
       "min       1.000000     2.000000  \n",
       "25%       2.000000     3.000000  \n",
       "50%       2.000000     3.000000  \n",
       "75%       2.000000     3.000000  \n",
       "max       3.000000     4.000000  "
      ]
     },
     "execution_count": 31,
     "metadata": {},
     "output_type": "execute_result"
    }
   ],
   "source": [
    "logged_data.describe()"
   ]
  },
  {
   "cell_type": "code",
   "execution_count": 32,
   "id": "869a1053-2489-429a-99ab-0eb3261dd30c",
   "metadata": {},
   "outputs": [],
   "source": [
    "logged_data['Time'] = logged_data['Timestamp'] - logged_data.iloc[0]['Timestamp']"
   ]
  },
  {
   "cell_type": "code",
   "execution_count": 34,
   "id": "4e7f0f13-919f-42b2-bf2a-f1b2d382aa97",
   "metadata": {
    "jupyter": {
     "source_hidden": true
    }
   },
   "outputs": [
    {
     "data": {
      "image/png": "[encoded data removed]",
      "text/plain": [
       "<Figure size 640x480 with 2 Axes>"
      ]
     },
     "metadata": {},
     "output_type": "display_data"
    }
   ],
   "source": [
    "#| echo: false\n",
    "#| label: fig-2\n",
    "#| fig-cap: \"Time series data of indoor VOC and PM concentrations, a 1-hr sample of BLE advertising data\"\n",
    "\n",
    "\n",
    "fig2, ax2 = plt.subplots()\n",
    "ax2.scatter(logged_data['Time'], logged_data['VOC'], label=\"VOC\")\n",
    "ax2.set_xlabel('Time (s)')\n",
    "ax2.set_ylabel('VOC (ppm)')\n",
    "ax2.set_ylim(0.0, 0.5)\n",
    "\n",
    "ax2_2 = ax2.twinx()\n",
    "ax2_2.scatter(logged_data['Time'], logged_data['PM1'], color='tab:red', label=\"pm1\")\n",
    "ax2_2.scatter(logged_data['Time'], logged_data['PM2.5'], color='tab:orange', label=\"pm2.5\")\n",
    "ax2_2.scatter(logged_data['Time'], logged_data['PM10'], color='gold', label=\"pm10\")\n",
    "ax2_2.set_ylabel('Particulate Matter (ug/m^3)')\n",
    "ax2_2.set_ylim(0.0, logged_data['PM10'].max())\n",
    "\n",
    "fig2.legend(loc=\"upper center\", ncols=4)\n",
    "\n",
    "plt.show()"
   ]
  },
  {
   "cell_type": "markdown",
   "id": "71e850c2-40d4-4c25-9854-871e23288ba3",
   "metadata": {},
   "source": [
    "The atmotube is also logging data to its internal memory, so I exported that and plotted it against what was broadcast."
   ]
  },
  {
   "cell_type": "code",
   "execution_count": 37,
   "id": "988b0bb6-58e6-405a-bbe6-7822c1d72cbe",
   "metadata": {},
   "outputs": [
    {
     "data": {
      "text/html": [
       "<div>\n",
       "<style scoped>\n",
       "    .dataframe tbody tr th:only-of-type {\n",
       "        vertical-align: middle;\n",
       "    }\n",
       "\n",
       "    .dataframe tbody tr th {\n",
       "        vertical-align: top;\n",
       "    }\n",
       "\n",
       "    .dataframe thead th {\n",
       "        text-align: right;\n",
       "    }\n",
       "</style>\n",
       "<table border=\"1\" class=\"dataframe\">\n",
       "  <thead>\n",
       "    <tr style=\"text-align: right;\">\n",
       "      <th></th>\n",
       "      <th>VOC, ppm</th>\n",
       "      <th>AQS</th>\n",
       "      <th>Air quality health index (AQHI) - Canada</th>\n",
       "      <th>Temperature, °C</th>\n",
       "      <th>Humidity, %</th>\n",
       "      <th>Pressure, kPa</th>\n",
       "      <th>PM1, ug/m3</th>\n",
       "      <th>PM2.5, ug/m3</th>\n",
       "      <th>PM2.5 (avg 3h), ug/m3</th>\n",
       "      <th>PM10, ug/m3</th>\n",
       "      <th>PM10 (avg 3h), ug/m3</th>\n",
       "      <th>Latitude</th>\n",
       "      <th>Longitude</th>\n",
       "    </tr>\n",
       "  </thead>\n",
       "  <tbody>\n",
       "    <tr>\n",
       "      <th>count</th>\n",
       "      <td>66.000000</td>\n",
       "      <td>66.000000</td>\n",
       "      <td>66.0</td>\n",
       "      <td>66.0</td>\n",
       "      <td>66.000000</td>\n",
       "      <td>66.000000</td>\n",
       "      <td>66.0</td>\n",
       "      <td>66.000000</td>\n",
       "      <td>66.000000</td>\n",
       "      <td>66.000000</td>\n",
       "      <td>66.000000</td>\n",
       "      <td>0.0</td>\n",
       "      <td>0.0</td>\n",
       "    </tr>\n",
       "    <tr>\n",
       "      <th>mean</th>\n",
       "      <td>0.239985</td>\n",
       "      <td>85.045455</td>\n",
       "      <td>1.0</td>\n",
       "      <td>21.0</td>\n",
       "      <td>34.484848</td>\n",
       "      <td>93.316364</td>\n",
       "      <td>1.0</td>\n",
       "      <td>1.530303</td>\n",
       "      <td>1.559175</td>\n",
       "      <td>2.545455</td>\n",
       "      <td>2.861027</td>\n",
       "      <td>NaN</td>\n",
       "      <td>NaN</td>\n",
       "    </tr>\n",
       "    <tr>\n",
       "      <th>std</th>\n",
       "      <td>0.018563</td>\n",
       "      <td>1.156012</td>\n",
       "      <td>0.0</td>\n",
       "      <td>0.0</td>\n",
       "      <td>0.769464</td>\n",
       "      <td>0.019817</td>\n",
       "      <td>0.0</td>\n",
       "      <td>0.502905</td>\n",
       "      <td>0.036129</td>\n",
       "      <td>0.501745</td>\n",
       "      <td>0.041909</td>\n",
       "      <td>NaN</td>\n",
       "      <td>NaN</td>\n",
       "    </tr>\n",
       "    <tr>\n",
       "      <th>min</th>\n",
       "      <td>0.212000</td>\n",
       "      <td>82.000000</td>\n",
       "      <td>1.0</td>\n",
       "      <td>21.0</td>\n",
       "      <td>33.000000</td>\n",
       "      <td>93.280000</td>\n",
       "      <td>1.0</td>\n",
       "      <td>1.000000</td>\n",
       "      <td>1.466667</td>\n",
       "      <td>2.000000</td>\n",
       "      <td>2.722222</td>\n",
       "      <td>NaN</td>\n",
       "      <td>NaN</td>\n",
       "    </tr>\n",
       "    <tr>\n",
       "      <th>25%</th>\n",
       "      <td>0.228250</td>\n",
       "      <td>85.000000</td>\n",
       "      <td>1.0</td>\n",
       "      <td>21.0</td>\n",
       "      <td>34.000000</td>\n",
       "      <td>93.300000</td>\n",
       "      <td>1.0</td>\n",
       "      <td>1.000000</td>\n",
       "      <td>1.550000</td>\n",
       "      <td>2.000000</td>\n",
       "      <td>2.866667</td>\n",
       "      <td>NaN</td>\n",
       "      <td>NaN</td>\n",
       "    </tr>\n",
       "    <tr>\n",
       "      <th>50%</th>\n",
       "      <td>0.238000</td>\n",
       "      <td>85.000000</td>\n",
       "      <td>1.0</td>\n",
       "      <td>21.0</td>\n",
       "      <td>34.500000</td>\n",
       "      <td>93.320000</td>\n",
       "      <td>1.0</td>\n",
       "      <td>2.000000</td>\n",
       "      <td>1.561111</td>\n",
       "      <td>3.000000</td>\n",
       "      <td>2.877778</td>\n",
       "      <td>NaN</td>\n",
       "      <td>NaN</td>\n",
       "    </tr>\n",
       "    <tr>\n",
       "      <th>75%</th>\n",
       "      <td>0.244750</td>\n",
       "      <td>86.000000</td>\n",
       "      <td>1.0</td>\n",
       "      <td>21.0</td>\n",
       "      <td>35.000000</td>\n",
       "      <td>93.337500</td>\n",
       "      <td>1.0</td>\n",
       "      <td>2.000000</td>\n",
       "      <td>1.583333</td>\n",
       "      <td>3.000000</td>\n",
       "      <td>2.888889</td>\n",
       "      <td>NaN</td>\n",
       "      <td>NaN</td>\n",
       "    </tr>\n",
       "    <tr>\n",
       "      <th>max</th>\n",
       "      <td>0.295000</td>\n",
       "      <td>87.000000</td>\n",
       "      <td>1.0</td>\n",
       "      <td>21.0</td>\n",
       "      <td>36.000000</td>\n",
       "      <td>93.350000</td>\n",
       "      <td>1.0</td>\n",
       "      <td>2.000000</td>\n",
       "      <td>1.616667</td>\n",
       "      <td>3.000000</td>\n",
       "      <td>2.888889</td>\n",
       "      <td>NaN</td>\n",
       "      <td>NaN</td>\n",
       "    </tr>\n",
       "  </tbody>\n",
       "</table>\n",
       "</div>"
      ],
      "text/plain": [
       "        VOC, ppm        AQS  Air quality health index (AQHI) - Canada  \\\n",
       "count  66.000000  66.000000                                      66.0   \n",
       "mean    0.239985  85.045455                                       1.0   \n",
       "std     0.018563   1.156012                                       0.0   \n",
       "min     0.212000  82.000000                                       1.0   \n",
       "25%     0.228250  85.000000                                       1.0   \n",
       "50%     0.238000  85.000000                                       1.0   \n",
       "75%     0.244750  86.000000                                       1.0   \n",
       "max     0.295000  87.000000                                       1.0   \n",
       "\n",
       "       Temperature, °C  Humidity, %  Pressure, kPa  PM1, ug/m3  PM2.5, ug/m3  \\\n",
       "count             66.0    66.000000      66.000000        66.0     66.000000   \n",
       "mean              21.0    34.484848      93.316364         1.0      1.530303   \n",
       "std                0.0     0.769464       0.019817         0.0      0.502905   \n",
       "min               21.0    33.000000      93.280000         1.0      1.000000   \n",
       "25%               21.0    34.000000      93.300000         1.0      1.000000   \n",
       "50%               21.0    34.500000      93.320000         1.0      2.000000   \n",
       "75%               21.0    35.000000      93.337500         1.0      2.000000   \n",
       "max               21.0    36.000000      93.350000         1.0      2.000000   \n",
       "\n",
       "       PM2.5 (avg 3h), ug/m3  PM10, ug/m3  PM10 (avg 3h), ug/m3  Latitude  \\\n",
       "count              66.000000    66.000000             66.000000       0.0   \n",
       "mean                1.559175     2.545455              2.861027       NaN   \n",
       "std                 0.036129     0.501745              0.041909       NaN   \n",
       "min                 1.466667     2.000000              2.722222       NaN   \n",
       "25%                 1.550000     2.000000              2.866667       NaN   \n",
       "50%                 1.561111     3.000000              2.877778       NaN   \n",
       "75%                 1.583333     3.000000              2.888889       NaN   \n",
       "max                 1.616667     3.000000              2.888889       NaN   \n",
       "\n",
       "       Longitude  \n",
       "count        0.0  \n",
       "mean         NaN  \n",
       "std          NaN  \n",
       "min          NaN  \n",
       "25%          NaN  \n",
       "50%          NaN  \n",
       "75%          NaN  \n",
       "max          NaN  "
      ]
     },
     "execution_count": 37,
     "metadata": {},
     "output_type": "execute_result"
    }
   ],
   "source": [
    "export_data = pd.read_csv('atmotube-export-data.csv')\n",
    "export_data.describe()"
   ]
  },
  {
   "cell_type": "code",
   "execution_count": 36,
   "id": "e912ae9f-2de0-4c06-ba76-892f366b9138",
   "metadata": {},
   "outputs": [],
   "source": [
    "from datetime import datetime"
   ]
  },
  {
   "cell_type": "code",
   "execution_count": 38,
   "id": "36244b90-cc86-4f54-9224-ae0aad191ca4",
   "metadata": {},
   "outputs": [],
   "source": [
    "export_data['Timestamp'] = export_data[['Date']].apply(\n",
    "    lambda str: datetime.strptime(str.iloc[0], \"%Y/%m/%d %H:%M:%S\").timestamp(), axis=1)"
   ]
  },
  {
   "cell_type": "code",
   "execution_count": 39,
   "id": "d3c9be2d-cf0d-435a-9c6e-e2f06d63992e",
   "metadata": {},
   "outputs": [],
   "source": [
    "export_data['Time'] = export_data['Timestamp'] - logged_data.iloc[0]['Timestamp']"
   ]
  },
  {
   "cell_type": "code",
   "execution_count": 57,
   "id": "1eb594c2-806f-48da-b1b4-0173fa0309be",
   "metadata": {
    "jupyter": {
     "source_hidden": true
    }
   },
   "outputs": [
    {
     "data": {
      "image/png": "[encoded data removed]",
      "text/plain": [
       "<Figure size 640x480 with 2 Axes>"
      ]
     },
     "metadata": {},
     "output_type": "display_data"
    }
   ],
   "source": [
    "#| echo: false\n",
    "#| label: fig-5\n",
    "#| fig-cap: \" Time series data of indoor temperature and pressure, a 1-hr sample of BLE advertising data and data exported from the Atmotube app\"\n",
    "\n",
    "fig5, ax5 = plt.subplots()\n",
    "ax5.plot(export_data['Time'], export_data['Pressure, kPa'], color='darkblue', label=\"Pressure (exported)\")\n",
    "ax5.scatter(logged_data['Time'], logged_data['P'], color='deepskyblue', label=\"Pressure (BLE)\")\n",
    "ax5.set_xlabel('Time (s)')\n",
    "ax5.set_ylabel('Pressure (kPa)')\n",
    "ax5.set_ylim(90.0, 95.0)\n",
    "\n",
    "ax5_2 = ax5.twinx()\n",
    "ax5_2.plot(export_data['Time'], export_data['Temperature, °C'], color='darkgreen', label=\"Temperature (exported)\")\n",
    "ax5_2.scatter(logged_data['Time'], logged_data['T'], color='limegreen', label=\"Temperature (BLE)\")\n",
    "ax5_2.set_xlabel('Time (s)')\n",
    "ax5_2.set_ylabel('Temperature (C)')\n",
    "ax5_2.set_ylim(20.0, 25.0)\n",
    "\n",
    "fig5.legend(loc=\"upper center\", ncols=2)\n",
    "\n",
    "plt.show()"
   ]
  },
  {
   "cell_type": "markdown",
   "id": "34cfd02a-2871-4aa0-a060-b016c6fdce65",
   "metadata": {},
   "source": [
    "The basic atmospheric data like temperature, pressure, and relative humidity appear to be the same. But there is something weird going on with the VOC measurements."
   ]
  },
  {
   "cell_type": "code",
   "execution_count": 41,
   "id": "1e42390d-3d00-4ebd-9e31-bf68ec748b35",
   "metadata": {
    "jupyter": {
     "source_hidden": true
    }
   },
   "outputs": [
    {
     "data": {
      "image/png": "[encoded data removed]",
      "text/plain": [
       "<Figure size 640x480 with 1 Axes>"
      ]
     },
     "metadata": {},
     "output_type": "display_data"
    }
   ],
   "source": [
    "#| echo: false\n",
    "#| label: fig-3\n",
    "#| fig-cap: \"Time series data of indoor VOC concentrations, a 1-hr sample of BLE advertising data and data exported from the Atmotube app\"\n",
    "\n",
    "\n",
    "fig3, ax3 = plt.subplots()\n",
    "ax3.plot(export_data['Time'], export_data['VOC, ppm'], color='black', label=\"Atmotube exported\")\n",
    "ax3.scatter(logged_data['Time'], logged_data['VOC'], color='steelblue', label=\"BLE logged\")\n",
    "ax3.set_xlabel('Time (s)')\n",
    "ax3.set_ylabel('VOC (ppm)')\n",
    "ax3.set_ylim(0.0, 0.4)\n",
    "\n",
    "fig3.legend(loc=\"upper center\", ncols=2)\n",
    "\n",
    "plt.show()"
   ]
  },
  {
   "cell_type": "markdown",
   "id": "0b5df7b3-5a2d-4ad4-9a2d-a39ef8c9f57f",
   "metadata": {},
   "source": [
    "I *think* the atmotube is actually exporting the rolling average of the VOC results over a fairly broad window, whereas the broadcast reading is more direct from the sensor. I would have to run this for much longer to see if that's the case."
   ]
  },
  {
   "cell_type": "code",
   "execution_count": 42,
   "id": "6bf8d136-3b0f-412b-aca6-d556259a0920",
   "metadata": {
    "jupyter": {
     "source_hidden": true
    }
   },
   "outputs": [
    {
     "data": {
      "image/png": "[encoded data removed]",
      "text/plain": [
       "<Figure size 640x480 with 1 Axes>"
      ]
     },
     "metadata": {},
     "output_type": "display_data"
    }
   ],
   "source": [
    "#| echo: false\n",
    "#| label: fig-4\n",
    "#| fig-cap: \"Time series data of indoor PM2.5 concentrations, a 1-hr sample of BLE advertising data and data exported from the Atmotube app\"\n",
    "\n",
    "\n",
    "fig4, ax4 = plt.subplots()\n",
    "ax4.plot(export_data['Time'], export_data['PM2.5, ug/m3'], color='black', label=\"Atmotube exported\")\n",
    "ax4.scatter(logged_data['Time'], logged_data['PM2.5'], color='darkorange', label=\"BLE logged\")\n",
    "ax4.set_xlabel('Time (s)')\n",
    "ax4.set_ylabel('PM2.5 (ug/m^3)')\n",
    "ax4.set_ylim(0.0, 4.0)\n",
    "\n",
    "fig4.legend(loc=\"upper center\", ncols=2)\n",
    "\n",
    "plt.show()"
   ]
  },
  {
   "cell_type": "markdown",
   "id": "c3284b97-53a7-4d1b-92c8-c773d001efeb",
   "metadata": {},
   "source": [
    "The PM data shows the results are closer, but still have issues. The exported data is (I believe) a by-the-minute average, rounded to the nearest integer. There is a single data point for each minute in the dataset, giving 66 overall. Whereas the raw PM broadcast data has 3988 data points, and I think most of those are just rebroadcasts and are not \"real\".\n",
    "\n",
    "One thing I was thinking of doing was to capture only the first scan response packet after an advertising packet then ignore all the rest until the next advertising packet. I have also been ignoring the info flags since, when I was just noodling around, they didn't seem to change at all (with the device always sampling), they might actually be telling me things that I've been ignoring."
   ]
  },
  {
   "cell_type": "markdown",
   "id": "6ee411ca-598b-4acc-b059-6f455b9b3373",
   "metadata": {},
   "source": [
    "## Final Thoughts\n",
    "\n",
    "Hopefully this helps you get set-up collecting data from your atmotube (I don't know why else you would read this far). From here to building a simple dashboard or datalogger should be an easy weekend project. I think for applications where you want higher fidelity data over a long stretch of time, periodically requesting data using GATT makes the most sense. The PM data comes with more decimal places of precision, and you don't need it more frequently than every minute or so.\n",
    "\n",
    "The BLE advertising data could be an easy way of building a passive dashboard, continuously listening and updating the air quality statistics. Though some effort would need to be put in cleaning up the data, or perhaps just presenting a rolling average of some kind to smooth out the noise.\n",
    "\n",
    "There is also a whole section of the documentation on connecting to an atmotube and downloading data from it, which I didn't bother to investigate. It looked overly complicated for what I wanted to do. If you figure that out, please let me know!"
   ]
  },
  {
   "cell_type": "markdown",
   "id": "b0c85ed3-8a05-420f-9b68-be5029fe07ca",
   "metadata": {},
   "source": [
    "## Update\n",
    "\n",
    "I was thinking about this more and there was one avenue I neglected to explore: subscribing to GATT notifications from the atmotube. Instead of requesting a single data point, like I did above, one can subscribe to the feed and the atmotube will just send packets whenever an update occurs. That is what I do below.\n",
    "\n",
    "To get started I decided to make cytpe structs for each of the bytestrings that can be returned. I don't think this is necessary, but I like how it seperates the logic of decoding the response on an aesthetic level. It also makes it very clear how the bytestrings are structured."
   ]
  },
  {
   "cell_type": "code",
   "execution_count": 4,
   "id": "39841a3c-7a19-4360-afd2-3342728d5fd4",
   "metadata": {},
   "outputs": [],
   "source": [
    "from ctypes import LittleEndianStructure, c_ubyte, c_byte, c_short, c_int\n",
    "\n",
    "class StatusData(LittleEndianStructure):\n",
    "    _fields_ = [\n",
    "                (\"pm_sensor\",          c_ubyte, 1),\n",
    "                (\"error\",              c_ubyte, 1),\n",
    "                (\"bonding\",            c_ubyte, 1),\n",
    "                (\"charging\",           c_ubyte, 1),\n",
    "                (\"charging_timer\",     c_ubyte, 1),\n",
    "                (\"_bit_6\",             c_ubyte, 1),\n",
    "                (\"sgpc3_pre_heating\",  c_ubyte, 1),\n",
    "                (\"_bit_8\",             c_ubyte, 1),\n",
    "                (\"battery_level\",      c_ubyte, 8),\n",
    "    ]\n",
    "\n",
    "    def __new__(cls, ts, data):\n",
    "        return cls.from_buffer_copy(data)\n",
    "\n",
    "    def __init__(self, ts, data):\n",
    "        self.timestamp = ts"
   ]
  },
  {
   "cell_type": "code",
   "execution_count": 5,
   "id": "a5fe1e7a-2f5f-483b-999d-4f4a8b417362",
   "metadata": {},
   "outputs": [],
   "source": [
    "class SPS30Data(LittleEndianStructure):\n",
    "    _fields_ = [\n",
    "\t\t('_pm1',   c_byte*3),\n",
    "\t\t('_pm2_5', c_byte*3),\n",
    "\t\t('_pm10',  c_byte*3),\n",
    "\t\t('_pm4',   c_byte*3), \n",
    "    ]\n",
    "    _pack_ = 1\n",
    "\n",
    "    def __new__(cls, ts, data):\n",
    "        return cls.from_buffer_copy(data)\n",
    "\n",
    "    def __init__(self, ts, data):\n",
    "        self.timestamp = ts\n",
    "\n",
    "    @property\n",
    "    def pm1(self):\n",
    "        res = int.from_bytes(self._pm1, 'little', signed=True)\n",
    "        return res/100 if res > 0 else None\n",
    "\n",
    "    @property\n",
    "    def pm2_5(self):\n",
    "        res = int.from_bytes(self._pm2_5, 'little', signed=True)\n",
    "        return res/100 if res > 0 else None\n",
    "\n",
    "    @property\n",
    "    def pm10(self):\n",
    "        res = int.from_bytes(self._pm10, 'little', signed=True)\n",
    "        return res/100 if res > 0 else None"
   ]
  },
  {
   "cell_type": "code",
   "execution_count": 6,
   "id": "0ee59446-15c6-4dcd-b7b5-9431255ba73e",
   "metadata": {},
   "outputs": [],
   "source": [
    "class BME280Data(LittleEndianStructure):\n",
    "    _fields_ = [\n",
    "        ('_rh',    c_byte),\n",
    "        ('_T',     c_byte),\n",
    "        ('_P',     c_int),\n",
    "        ('_T_dec', c_short),\n",
    "        ]\n",
    "    _pack_ = 1\n",
    "\n",
    "    def __new__(cls, ts, data):\n",
    "        return cls.from_buffer_copy(data)\n",
    "\n",
    "    def __init__(self, ts, data):\n",
    "        self.timestamp = ts\n",
    "   \n",
    "    @property\n",
    "    def RH(self):\n",
    "        return self._rh\n",
    "\n",
    "    @property\n",
    "    def T(self):\n",
    "        return self._T_dec/100\n",
    "\n",
    "    @property\n",
    "    def P(self):\n",
    "        return self._P/1000"
   ]
  },
  {
   "cell_type": "code",
   "execution_count": 7,
   "id": "0622a840-ed05-4cf4-b5d0-dd016097e42d",
   "metadata": {},
   "outputs": [],
   "source": [
    "class SGPC3Data(LittleEndianStructure):\n",
    "    _fields_ = [\n",
    "        ('_TVOC',    c_short),\n",
    "        ]\n",
    "    _pack_ = 1\n",
    "\n",
    "    def __new__(cls, ts, data):\n",
    "        return cls.from_buffer_copy(data)\n",
    "\n",
    "    def __init__(self, ts, data):\n",
    "        self.timestamp = ts\n",
    "\n",
    "    @property\n",
    "    def TVOC(self):\n",
    "        return self._TVOC/1000"
   ]
  },
  {
   "cell_type": "markdown",
   "id": "b8bf8ab9-5708-4aaf-8cf0-e9db9665339f",
   "metadata": {},
   "source": [
    "With that out of the way, there are two other components I need for this to work: a collector which will collect all of the data sent back from the atmotube and a worker which will log it to a csv. Unlike above, where I logged each advertising packet as I came in, I am going to make these run asynchronously using `asyncio`. I think this is what really *should* be done, instead of blocking for file i/o every time a callback function is triggered.\n",
    "\n",
    "To make this happen I largely copied [what was done in this example](https://github.com/hbldh/bleak/blob/develop/examples/async_callback_with_queue.py) which uses an async queue to pass data between the two workers. The basic idea is:\n",
    "\n",
    "1. The collector starts up and scans for the atmotube, by MAC address.\n",
    "2. When it finds the device it requests notifications for one of the GATT characteristics, in this case I am requesting the status data and the SPS30 data, which contains the pm concentrations.\n",
    "3. The collector then waits around for the `collection_time` and every time it gets a new set of data uses the callbacks `status_cb` and `sps30_cb` to process the bytestring and put the result on the queue"
   ]
  },
  {
   "cell_type": "code",
   "execution_count": 8,
   "id": "85e83eed-a018-4ad2-aca8-196d5d4596c4",
   "metadata": {},
   "outputs": [],
   "source": [
    "async def collect_data(mac, queue, collection_time):\n",
    "    async def status_cb(char, data):\n",
    "        ts = time.time()\n",
    "        res = StatusData(ts, data)\n",
    "        await queue.put(res)\n",
    "\n",
    "    async def sps30_cb(char, data):\n",
    "        ts = time.time()\n",
    "        res = SPS30Data(ts, data)\n",
    "        await queue.put(res)\n",
    "    \n",
    "    device = await BleakScanner.find_device_by_address(mac)\n",
    "    if not device:\n",
    "        raise Exception(\"Device not found\")\n",
    "    \n",
    "    async with BleakClient(device) as client:\n",
    "        # start notifications\n",
    "        await client.start_notify(STATUS_UUID, status_cb)\n",
    "        await client.start_notify(SPS30_UUID, sps30_cb)\n",
    "\n",
    "        # wait for collection period to end\n",
    "        await asyncio.sleep(collection_time)\n",
    "\n",
    "        # signals end of queue\n",
    "        await queue.put(None)"
   ]
  },
  {
   "cell_type": "markdown",
   "id": "daedece3-d460-4777-9340-d84c147e987e",
   "metadata": {},
   "source": [
    "Concurrently with that, a logger needs to write things to a csv. The basic idea is this:\n",
    "\n",
    "1. When the logger starts it creates a new csv file with the given `filename`, and writes the column headers.\n",
    "2. The worker waits for data to appear on the queue and, once it does, takes it out (first in first out).\n",
    "3. The result on the queue is lined up to the right columns in the csv, I check for the attribute `battery_level` as a lazy check of which type of result it is.\n",
    "4. Finally the worker writes the result as new row on the csv.\n",
    "5. If the result is `None`, that is a signal that the collector has finished and the loop exits.\n",
    "6. Regardless, once the logger has processed the data from the queue, it calls `task_done()` to notify the queue of this and the loop begins again."
   ]
  },
  {
   "cell_type": "code",
   "execution_count": 9,
   "id": "dc8c8d06-6585-4a26-909a-b7250b4e604b",
   "metadata": {},
   "outputs": [],
   "source": [
    "import csv"
   ]
  },
  {
   "cell_type": "code",
   "execution_count": 10,
   "id": "fbfc5e46-dfd7-40d3-80a2-a51568a339c7",
   "metadata": {},
   "outputs": [],
   "source": [
    "HEADERS = [\"Timestamp\", \"PM Sensor\", \"PM1\", \"PM2.5\", \"PM10\"]"
   ]
  },
  {
   "cell_type": "code",
   "execution_count": 11,
   "id": "6c98656f-dd43-4f1b-9775-036e512f1885",
   "metadata": {},
   "outputs": [],
   "source": [
    "async def write_row(filename,row):\n",
    "    async with aiofiles.open(filename, 'a', newline='') as csvfile:\n",
    "        writer = aiocsv.AsyncDictWriter(csvfile, fieldnames=HEADERS)\n",
    "        await writer.writerow(row)"
   ]
  },
  {
   "cell_type": "code",
   "execution_count": 12,
   "id": "52f32bce-1945-49c7-9f55-75d33c3b84c6",
   "metadata": {},
   "outputs": [],
   "source": [
    "async def log_to_csv(filename, queue):\n",
    "    # prepare csv file\n",
    "    async with aiofiles.open(filename, 'w', newline='') as csvfile:\n",
    "        writer = aiocsv.AsyncDictWriter(csvfile, fieldnames=HEADERS)\n",
    "        await writer.writeheader()\n",
    "\n",
    "    # log data from queue\n",
    "    flag = True\n",
    "    while flag:\n",
    "        result = await queue.get()\n",
    "        if result is not None:\n",
    "            # we have some data to write\n",
    "            row = dict.fromkeys(HEADERS)\n",
    "            row[\"Timestamp\"] = result.timestamp\n",
    "            if hasattr(result, \"battery_level\"):\n",
    "                # we have a status type\n",
    "                row[\"PM Sensor\"] = result.pm_sensor\n",
    "            else:\n",
    "                # we have pm data\n",
    "                row[\"PM1\"] = result.pm1\n",
    "                row[\"PM2.5\"] = result.pm2_5\n",
    "                row[\"PM10\"] = result.pm10\n",
    "\n",
    "            await write_row(filename,row)\n",
    "        else:\n",
    "            # the end of the queue\n",
    "            flag = False\n",
    "        queue.task_done()"
   ]
  },
  {
   "cell_type": "markdown",
   "id": "0eda2232-ce65-489d-9b8d-826180551eb6",
   "metadata": {},
   "source": [
    "My first attempt at this I put the `while` loop inside the `with` block, so the whole thing ran inside the file context manager. This had the effect of nothing actually being written to the csv until the `with` block exited and the file closed. It took me a long time to realize *that* is what was happening, since it looked exactly the same as the two processes running sequentially: collect all the data *and then* write it all to csv.\n",
    "\n",
    "In this version, every time a row is added to the csv the file is opened, a line is written, and then it is closed. There is probably a way of holding it open while logging, but that might make things more complicated since a whole bunch of new logic would be needed to catch any exceptions and ensure that the file is closed properly -- something that happens behind the scenes with a simple `with` block.\n",
    "\n",
    "Finally, I put it all together with a simple sequence of tasks:\n",
    "\n",
    "1. Create an empty asyncio `Queue`\n",
    "2. Start the logger, the worker that logs results to the csv\n",
    "3. Start the collector, the worker that collects packets from the atmotube\n",
    "4. Wait for the collector to finish, then close."
   ]
  },
  {
   "cell_type": "code",
   "execution_count": 14,
   "id": "5288fdcd-0262-4a67-be62-97385ae1fb7b",
   "metadata": {},
   "outputs": [],
   "source": [
    "async def save_data(mac, csv, collection_time):\n",
    "    q = asyncio.Queue()\n",
    "    \n",
    "    logger = asyncio.create_task(log_to_csv(csv, q))\n",
    "    collector = asyncio.ensure_future(collect_data(mac, q, collection_time))\n",
    "    \n",
    "    await collector"
   ]
  },
  {
   "cell_type": "markdown",
   "id": "5653b103-c59d-4c28-8ad3-e646bfef8835",
   "metadata": {},
   "source": [
    "I ran this for an hour in the background as a test and it seems to work fine."
   ]
  },
  {
   "cell_type": "markdown",
   "id": "3d1a564d-fd3d-4adc-92e6-b9781d907c80",
   "metadata": {},
   "source": [
    "```python\n",
    "await save_data(ATMOTUBE, f\"atmotube-{math.floor(time.time())}.csv\", 3600)\n",
    "```"
   ]
  },
  {
   "cell_type": "code",
   "execution_count": 24,
   "id": "896d5553-70a6-48c7-ba22-6cc4bb39ab5c",
   "metadata": {},
   "outputs": [],
   "source": [
    "df = pd.read_csv(\"atmotube-1748482080.csv\")"
   ]
  },
  {
   "cell_type": "code",
   "execution_count": 26,
   "id": "53f7f159-b8cd-4dd1-860f-80f355f2372c",
   "metadata": {},
   "outputs": [],
   "source": [
    "df['Time'] = df['Timestamp'] - df.iloc[0]['Timestamp']"
   ]
  },
  {
   "cell_type": "code",
   "execution_count": 29,
   "id": "aced9b1b-f060-49c4-b4cf-b76562a91631",
   "metadata": {},
   "outputs": [
    {
     "data": {
      "text/html": [
       "<div>\n",
       "<style scoped>\n",
       "    .dataframe tbody tr th:only-of-type {\n",
       "        vertical-align: middle;\n",
       "    }\n",
       "\n",
       "    .dataframe tbody tr th {\n",
       "        vertical-align: top;\n",
       "    }\n",
       "\n",
       "    .dataframe thead th {\n",
       "        text-align: right;\n",
       "    }\n",
       "</style>\n",
       "<table border=\"1\" class=\"dataframe\">\n",
       "  <thead>\n",
       "    <tr style=\"text-align: right;\">\n",
       "      <th></th>\n",
       "      <th>Timestamp</th>\n",
       "      <th>PM Sensor</th>\n",
       "      <th>PM1</th>\n",
       "      <th>PM2.5</th>\n",
       "      <th>PM10</th>\n",
       "      <th>Time</th>\n",
       "    </tr>\n",
       "  </thead>\n",
       "  <tbody>\n",
       "    <tr>\n",
       "      <th>0</th>\n",
       "      <td>1.748482e+09</td>\n",
       "      <td>NaN</td>\n",
       "      <td>10.92</td>\n",
       "      <td>13.43</td>\n",
       "      <td>14.97</td>\n",
       "      <td>0.000000</td>\n",
       "    </tr>\n",
       "    <tr>\n",
       "      <th>1</th>\n",
       "      <td>1.748482e+09</td>\n",
       "      <td>NaN</td>\n",
       "      <td>10.93</td>\n",
       "      <td>13.03</td>\n",
       "      <td>14.66</td>\n",
       "      <td>2.610108</td>\n",
       "    </tr>\n",
       "    <tr>\n",
       "      <th>2</th>\n",
       "      <td>1.748482e+09</td>\n",
       "      <td>NaN</td>\n",
       "      <td>11.05</td>\n",
       "      <td>13.42</td>\n",
       "      <td>15.19</td>\n",
       "      <td>5.220881</td>\n",
       "    </tr>\n",
       "    <tr>\n",
       "      <th>3</th>\n",
       "      <td>1.748482e+09</td>\n",
       "      <td>NaN</td>\n",
       "      <td>11.35</td>\n",
       "      <td>13.75</td>\n",
       "      <td>15.34</td>\n",
       "      <td>7.784888</td>\n",
       "    </tr>\n",
       "    <tr>\n",
       "      <th>4</th>\n",
       "      <td>1.748482e+09</td>\n",
       "      <td>NaN</td>\n",
       "      <td>11.59</td>\n",
       "      <td>14.13</td>\n",
       "      <td>15.50</td>\n",
       "      <td>10.395001</td>\n",
       "    </tr>\n",
       "  </tbody>\n",
       "</table>\n",
       "</div>"
      ],
      "text/plain": [
       "      Timestamp  PM Sensor    PM1  PM2.5   PM10       Time\n",
       "0  1.748482e+09        NaN  10.92  13.43  14.97   0.000000\n",
       "1  1.748482e+09        NaN  10.93  13.03  14.66   2.610108\n",
       "2  1.748482e+09        NaN  11.05  13.42  15.19   5.220881\n",
       "3  1.748482e+09        NaN  11.35  13.75  15.34   7.784888\n",
       "4  1.748482e+09        NaN  11.59  14.13  15.50  10.395001"
      ]
     },
     "execution_count": 29,
     "metadata": {},
     "output_type": "execute_result"
    }
   ],
   "source": [
    "df.head()"
   ]
  },
  {
   "cell_type": "code",
   "execution_count": 18,
   "id": "c0cf93c1-4e7d-4a60-b6c3-3a80a8307c47",
   "metadata": {
    "jupyter": {
     "source_hidden": true
    }
   },
   "outputs": [],
   "source": [
    "#| echo: false\n",
    "from matplotlib import pyplot as plt"
   ]
  },
  {
   "cell_type": "code",
   "execution_count": 23,
   "id": "15c8e8cf-c1e5-40a3-884d-71da0f558a2a",
   "metadata": {
    "jupyter": {
     "source_hidden": true
    }
   },
   "outputs": [
    {
     "data": {
      "image/png": "[encoded data removed]",
      "text/plain": [
       "<Figure size 640x480 with 1 Axes>"
      ]
     },
     "metadata": {},
     "output_type": "display_data"
    }
   ],
   "source": [
    "#| echo: false\n",
    "#| label: fig-6\n",
    "#| fig-cap: \"Time series data of indoor PM2.5 concentrations, a 1-hr sample using GATT notifications\"\n",
    "\n",
    "\n",
    "fig5, ax5 = plt.subplots()\n",
    "ax5.scatter(df['Time'], df['PM1'], label=\"PM1\")\n",
    "ax5.scatter(df['Time'], df['PM2.5'], label=\"PM2.5\")\n",
    "ax5.scatter(df['Time'], df['PM10'], label=\"PM10\")\n",
    "ax5.set_xlabel('Time (s)')\n",
    "ax5.set_ylabel('PM (ppm)')\n",
    "ax5.set_ylim(0.0, 20.0)\n",
    "\n",
    "fig5.legend(loc=\"upper center\", ncols=3)\n",
    "\n",
    "plt.show()"
   ]
  },
  {
   "cell_type": "markdown",
   "id": "d3c2f8ef-b850-4059-abdc-02251b555452",
   "metadata": {},
   "source": [
    "With no context it looks like something is horribly wrong, what are all those gaps in the data? My atmotube is set to only sample every 15 minutes, this is usually how I leave it to save on battery. This also explains some of the weirdness with the data, why does each sample start with a rapidly increasing concentration before levelling out? The atmotube is returning data right when the sampling fan has just turned on; this is not yet an accurate sample of the ambient air, it is the stagnant air inside the atmotube. This is a much more obvious problem with VOC data, it is clearly visible on the app as a funky saw-tooth wave where the VOC concentration plunges whenever the fan starts and, once it stops, slowly creeps up. It is an artifact of how the atmotube is sampling the air, not of how the data is being collected.\n",
    "\n",
    "If the atmotube is set to always on mode, these artifacts go away, but if you want to monitor it in other configurations it is worth considering how the data should be cleaned up. For example watching for the `pm_sensor` flag to turn on then throwing out the first ~30s of pm data before looking at the rest. The GATT notifications make it very clear when the atmotube is sampling and when it isn't. There will be a notification that `pm_sensor` has turned from 0 to 1, then data will start arriving with pm data, then a notification that the `pm_sensor` has turned from 1 to 0, followed by an empty row of pm data. See a snipped of the csv below. Note that `pm_sensor` values and actual pm values are always on seperate rows."
   ]
  },
  {
   "cell_type": "code",
   "execution_count": 28,
   "id": "ad37668e-7ef1-432e-9d48-78c614baf658",
   "metadata": {},
   "outputs": [
    {
     "data": {
      "text/html": [
       "<div>\n",
       "<style scoped>\n",
       "    .dataframe tbody tr th:only-of-type {\n",
       "        vertical-align: middle;\n",
       "    }\n",
       "\n",
       "    .dataframe tbody tr th {\n",
       "        vertical-align: top;\n",
       "    }\n",
       "\n",
       "    .dataframe thead th {\n",
       "        text-align: right;\n",
       "    }\n",
       "</style>\n",
       "<table border=\"1\" class=\"dataframe\">\n",
       "  <thead>\n",
       "    <tr style=\"text-align: right;\">\n",
       "      <th></th>\n",
       "      <th>Timestamp</th>\n",
       "      <th>PM Sensor</th>\n",
       "      <th>PM1</th>\n",
       "      <th>PM2.5</th>\n",
       "      <th>PM10</th>\n",
       "      <th>Time</th>\n",
       "    </tr>\n",
       "  </thead>\n",
       "  <tbody>\n",
       "    <tr>\n",
       "      <th>36</th>\n",
       "      <td>1.748482e+09</td>\n",
       "      <td>NaN</td>\n",
       "      <td>12.42</td>\n",
       "      <td>14.34</td>\n",
       "      <td>15.23</td>\n",
       "      <td>127.802146</td>\n",
       "    </tr>\n",
       "    <tr>\n",
       "      <th>37</th>\n",
       "      <td>1.748482e+09</td>\n",
       "      <td>0.0</td>\n",
       "      <td>NaN</td>\n",
       "      <td>NaN</td>\n",
       "      <td>NaN</td>\n",
       "      <td>130.322095</td>\n",
       "    </tr>\n",
       "    <tr>\n",
       "      <th>38</th>\n",
       "      <td>1.748482e+09</td>\n",
       "      <td>NaN</td>\n",
       "      <td>NaN</td>\n",
       "      <td>NaN</td>\n",
       "      <td>NaN</td>\n",
       "      <td>130.322191</td>\n",
       "    </tr>\n",
       "    <tr>\n",
       "      <th>39</th>\n",
       "      <td>1.748483e+09</td>\n",
       "      <td>1.0</td>\n",
       "      <td>NaN</td>\n",
       "      <td>NaN</td>\n",
       "      <td>NaN</td>\n",
       "      <td>1035.107224</td>\n",
       "    </tr>\n",
       "    <tr>\n",
       "      <th>40</th>\n",
       "      <td>1.748483e+09</td>\n",
       "      <td>NaN</td>\n",
       "      <td>7.74</td>\n",
       "      <td>9.55</td>\n",
       "      <td>10.21</td>\n",
       "      <td>1040.146906</td>\n",
       "    </tr>\n",
       "    <tr>\n",
       "      <th>41</th>\n",
       "      <td>1.748483e+09</td>\n",
       "      <td>NaN</td>\n",
       "      <td>7.81</td>\n",
       "      <td>9.82</td>\n",
       "      <td>11.40</td>\n",
       "      <td>1042.621936</td>\n",
       "    </tr>\n",
       "  </tbody>\n",
       "</table>\n",
       "</div>"
      ],
      "text/plain": [
       "       Timestamp  PM Sensor    PM1  PM2.5   PM10         Time\n",
       "36  1.748482e+09        NaN  12.42  14.34  15.23   127.802146\n",
       "37  1.748482e+09        0.0    NaN    NaN    NaN   130.322095\n",
       "38  1.748482e+09        NaN    NaN    NaN    NaN   130.322191\n",
       "39  1.748483e+09        1.0    NaN    NaN    NaN  1035.107224\n",
       "40  1.748483e+09        NaN   7.74   9.55  10.21  1040.146906\n",
       "41  1.748483e+09        NaN   7.81   9.82  11.40  1042.621936"
      ]
     },
     "execution_count": 28,
     "metadata": {},
     "output_type": "execute_result"
    }
   ],
   "source": [
    "df[36:42]"
   ]
  },
  {
   "cell_type": "markdown",
   "id": "3ba5c4cb-3eab-41d3-bb07-a6dadc75d211",
   "metadata": {},
   "source": [
    "In addition to some data-wrangling, there are some other obvious upgrades to my code before it would be ready to deploy in an app. For one, there is minimal error handling. Any malformed bytestrings returned by the atmotube will throw an exception and kill everything. Additionally there are no checks to maintain a connection to the atmotube. It would simply timeout, having collected nothing. If you were planning on running this passively for a long period of time, unattended, that could be a big deal."
   ]
  }
 ],
 "metadata": {
  "kernelspec": {
   "display_name": "Python 3 (ipykernel)",
   "language": "python",
   "name": "python3"
  },
  "language_info": {
   "codemirror_mode": {
    "name": "ipython",
    "version": 3
   },
   "file_extension": ".py",
   "mimetype": "text/x-python",
   "name": "python",
   "nbconvert_exporter": "python",
   "pygments_lexer": "ipython3",
   "version": "3.10.12"
  }
 },
 "nbformat": 4,
 "nbformat_minor": 5
}
